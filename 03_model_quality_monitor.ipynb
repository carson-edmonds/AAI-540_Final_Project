{
 "cells": [
  {
   "cell_type": "code",
   "execution_count": null,
   "id": "2076dd04-0092-4d8e-952c-5c292ff489ae",
   "metadata": {},
   "outputs": [],
   "source": []
  },
  {
   "cell_type": "code",
   "execution_count": 2,
   "id": "145aca4e-fe8d-4c55-8b6e-6355b10c2295",
   "metadata": {
    "tags": []
   },
   "outputs": [
    {
     "name": "stdout",
     "output_type": "stream",
     "text": [
      "sagemaker.config INFO - Not applying SDK defaults from location: /etc/xdg/sagemaker/config.yaml\n",
      "sagemaker.config INFO - Not applying SDK defaults from location: /root/.config/sagemaker/config.yaml\n"
     ]
    }
   ],
   "source": [
    "#Import libraries \n",
    "import numpy as np\n",
    "import pandas as pd\n",
    "import matplotlib.pyplot as plt\n",
    "%matplotlib inline\n",
    "import boto3\n",
    "import sagemaker\n",
    "import json\n",
    "import random\n",
    "import io\n",
    "from sagemaker.session import Session\n",
    "from sagemaker.s3 import S3Downloader, S3Uploader\n",
    "import time\n",
    "from time import gmtime, strftime, sleep\n",
    "from sagemaker.feature_store.feature_group import FeatureGroup\n",
    "from sagemaker.debugger import Rule, ProfilerRule, rule_configs\n",
    "from sklearn import tree, metrics\n",
    "from sklearn.ensemble import GradientBoostingClassifier\n",
    "from datetime import datetime, timedelta\n",
    "from sagemaker import get_execution_role, image_uris\n",
    "from sagemaker.clarify import (\n",
    "    BiasConfig,\n",
    "    DataConfig,\n",
    "    ModelConfig,\n",
    "    ModelPredictedLabelConfig,\n",
    "    SHAPConfig,\n",
    ")\n",
    "from sagemaker.model import Model\n",
    "from sagemaker.model_monitor import (\n",
    "    BiasAnalysisConfig,\n",
    "    CronExpressionGenerator,\n",
    "    DataCaptureConfig,\n",
    "    EndpointInput,\n",
    "    ExplainabilityAnalysisConfig,\n",
    "    ModelBiasMonitor,\n",
    "    ModelExplainabilityMonitor,\n",
    ")\n",
    "\n",
    "from sagemaker.predictor import Predictor\n",
    "from sagemaker.serializers import CSVSerializer\n",
    "from sagemaker.model_monitor import ModelQualityMonitor, EndpointInput, CronExpressionGenerator\n",
    "from sagemaker.model_monitor.dataset_format import DatasetFormat\n",
    "from threading import Thread"
   ]
  },
  {
   "cell_type": "markdown",
   "id": "47845fe8-25b8-4d4e-af6d-a9f1652ec6b3",
   "metadata": {
    "tags": []
   },
   "source": [
    "# Model Quality Monitor"
   ]
  },
  {
   "cell_type": "code",
   "execution_count": null,
   "id": "1174ff41-9223-4918-931f-30342b28bac3",
   "metadata": {},
   "outputs": [],
   "source": [
    "%store -r bucket\n",
    "%store -r region\n",
    "%store -r prefix\n",
    "%store -r job_name"
   ]
  },
  {
   "cell_type": "code",
   "execution_count": 15,
   "id": "dcb42724-ae91-4355-9ea5-25286dc57766",
   "metadata": {
    "tags": []
   },
   "outputs": [],
   "source": [
    "bucket = Session().default_bucket()\n",
    "region = boto3.Session().region_name\n",
    "s3_client = boto3.client(\"s3\", region_name=region)\n",
    "sess = sagemaker.Session()\n",
    "role = sagemaker.get_execution_role()\n",
    "\n",
    "image = sagemaker.image_uris.retrieve(\n",
    "    framework=\"xgboost\", region=boto3.Session().region_name, version=\"1.7-1\"\n",
    ")"
   ]
  },
  {
   "cell_type": "code",
   "execution_count": 17,
   "id": "47131fa0-6607-46c1-b877-7014af615feb",
   "metadata": {
    "tags": []
   },
   "outputs": [
    {
     "name": "stdout",
     "output_type": "stream",
     "text": [
      "Capture path: s3://sagemaker-us-east-1-215730597255/sagemaker-featurestore/datacapture\n",
      "Ground truth path: s3://sagemaker-us-east-1-215730597255/sagemaker-featurestore/ground_truth_data/2024-06-23-02-03-21\n",
      "Report path: s3://sagemaker-us-east-1-215730597255/sagemaker-featurestore/reports\n",
      "Baseline results uri: s3://sagemaker-us-east-1-215730597255/sagemaker-featurestore/baselining\n"
     ]
    }
   ],
   "source": [
    "#Create prefixes\n",
    "s3_key = f\"s3://{bucket}/{prefix}\"\n",
    "s3_capture_upload_path = f\"{s3_key}/datacapture\"\n",
    "ground_truth_upload_path = f\"{s3_key}/ground_truth_data/{datetime.now():%Y-%m-%d-%H-%M-%S}\"\n",
    "s3_report_path = f\"{s3_key}/reports\"\n",
    "\n",
    "print(f\"Capture path: {s3_capture_upload_path}\")\n",
    "print(f\"Ground truth path: {ground_truth_upload_path}\")\n",
    "print(f\"Report path: {s3_report_path}\")\n",
    "\n",
    "baseline_results_uri = f\"{s3_key}/baselining\"\n",
    "print(f\"Baseline results uri: {baseline_results_uri}\")\n",
    "\n",
    "endpoint_instance_count = 1\n",
    "endpoint_instance_type = \"ml.m4.xlarge\"\n",
    "schedule_expression = CronExpressionGenerator.hourly()"
   ]
  },
  {
   "cell_type": "code",
   "execution_count": 18,
   "id": "d0bd9a56-1bb5-4408-ace2-b3291517f94c",
   "metadata": {
    "tags": []
   },
   "outputs": [],
   "source": [
    "#Define model and files \n",
    "model_url = \"s3://{}/{}/output/{}/{}/output/model.tar.gz\".format(bucket, prefix, job_name, job_name)\n",
    "# test_dataset = \"test_data/test-dataset-input-cols.csv\"\n",
    "validation_dataset = \"validation_data_with_header.csv\"\n",
    "dataset_type = \"text/csv\"\n",
    "\n",
    "with open(validation_dataset) as f:\n",
    "    headers_line = f.readline().rstrip()\n",
    "all_headers = headers_line.split(\",\")\n",
    "label_header = all_headers[0]"
   ]
  },
  {
   "cell_type": "code",
   "execution_count": 19,
   "id": "d899c199-21ad-40a6-b086-35bf6a45b899",
   "metadata": {
    "tags": []
   },
   "outputs": [
    {
     "name": "stdout",
     "output_type": "stream",
     "text": [
      "Model name:  bids-model-monitor-2024-06-23-0203\n",
      "Endpoint name:  bids-model-monitor-2024-06-23-0203\n"
     ]
    }
   ],
   "source": [
    "#Create a model from the file on S3\n",
    "model_name = f\"bids-model-monitor-{datetime.utcnow():%Y-%m-%d-%H%M}\"\n",
    "print(\"Model name: \", model_name)\n",
    "endpoint_name = f\"bids-model-monitor-{datetime.utcnow():%Y-%m-%d-%H%M}\"\n",
    "print(\"Endpoint name: \", endpoint_name)"
   ]
  },
  {
   "cell_type": "code",
   "execution_count": 20,
   "id": "c272867d-9153-4761-9f30-6f3bd469949e",
   "metadata": {
    "tags": []
   },
   "outputs": [
    {
     "name": "stdout",
     "output_type": "stream",
     "text": [
      "Deploying model bids-model-monitor-2024-06-23-0203 to endpoint bids-model-monitor-2024-06-23-0203\n",
      "-------!"
     ]
    }
   ],
   "source": [
    "#Deploy with data capture enabled\n",
    "model = Model(\n",
    "    role=role,\n",
    "    name=model_name,\n",
    "    image_uri=image,\n",
    "    model_data=model_url,\n",
    "    sagemaker_session=sess,\n",
    ")\n",
    "\n",
    "data_capture_config = DataCaptureConfig(\n",
    "    enable_capture=True,\n",
    "    sampling_percentage=100,\n",
    "    destination_s3_uri=s3_capture_upload_path,\n",
    ")\n",
    "print(f\"Deploying model {model_name} to endpoint {endpoint_name}\")\n",
    "model.deploy(\n",
    "    initial_instance_count=endpoint_instance_count,\n",
    "    instance_type=endpoint_instance_type,\n",
    "    endpoint_name=endpoint_name,\n",
    "    data_capture_config=data_capture_config,\n",
    ")"
   ]
  },
  {
   "cell_type": "code",
   "execution_count": 21,
   "id": "6ed63d90-f67b-4840-99f1-ca409f68b813",
   "metadata": {
    "tags": []
   },
   "outputs": [],
   "source": [
    "#Create predictor object\n",
    "predictor = Predictor(\n",
    "    endpoint_name=endpoint_name, sagemaker_session=sess, serializer=CSVSerializer()\n",
    ")"
   ]
  },
  {
   "cell_type": "code",
   "execution_count": 22,
   "id": "b1b83a4b-6d7e-4d84-8bd5-acd55ce8e2a3",
   "metadata": {
    "tags": []
   },
   "outputs": [],
   "source": [
    "#Create baseline with 0.8 as the cut off value\n",
    "bids_cutoff = 0.8\n",
    "validate_dataset = \"validation_data_predictions.csv\""
   ]
  },
  {
   "cell_type": "code",
   "execution_count": 23,
   "id": "706f5ed1-1985-4690-9595-1bf45563d69c",
   "metadata": {
    "tags": []
   },
   "outputs": [
    {
     "name": "stdout",
     "output_type": "stream",
     "text": [
      "...........................................................................................................................................................................................\n",
      "Done!\n"
     ]
    }
   ],
   "source": [
    "limit = 200\n",
    "i = 0\n",
    "with open(f\"{validate_dataset}\", \"w\") as baseline_file:\n",
    "    baseline_file.write(\"probability,prediction,label\\n\")  # our header\n",
    "    with open(\"validation_data.csv\", \"r\") as f:\n",
    "        for row in f:\n",
    "            (label, input_cols) = row.split(\",\", 1)\n",
    "            probability = float(predictor.predict(input_cols))\n",
    "            prediction = \"1\" if probability > bids_cutoff else \"0\"\n",
    "            baseline_file.write(f\"{probability},{prediction},{label}\\n\")\n",
    "            i += 1\n",
    "            if i > limit:\n",
    "                break\n",
    "            print(\".\", end=\"\", flush=True)\n",
    "            sleep(0.5)\n",
    "print()\n",
    "print(\"Done!\")"
   ]
  },
  {
   "cell_type": "code",
   "execution_count": 24,
   "id": "d375b450-ecdc-411b-9eb8-7c655d40eed0",
   "metadata": {
    "tags": []
   },
   "outputs": [
    {
     "name": "stdout",
     "output_type": "stream",
     "text": [
      "probability,prediction,label\n",
      "-0.0003505268250592053,0,0\n",
      "0.0020377596374601126,0,0\n",
      "0.0037524779327213764,0,0\n",
      "0.3750445246696472,0,1\n",
      "0.05720706656575203,0,0\n",
      "0.04872201010584831,0,0\n",
      "0.010198176838457584,0,0\n",
      "0.016347570344805717,0,0\n",
      "0.016347570344805717,0,0\n"
     ]
    }
   ],
   "source": [
    "#View predicitons\n",
    "!head validation_data_predictions.csv"
   ]
  },
  {
   "cell_type": "code",
   "execution_count": 25,
   "id": "6b5c22a1-93ce-4ec0-aa53-6a490e54380b",
   "metadata": {
    "tags": []
   },
   "outputs": [
    {
     "name": "stdout",
     "output_type": "stream",
     "text": [
      "Baseline data uri: s3://sagemaker-us-east-1-215730597255/sagemaker-featurestore/baselining/data\n",
      "Baseline results uri: s3://sagemaker-us-east-1-215730597255/sagemaker-featurestore/baselining/results\n"
     ]
    }
   ],
   "source": [
    "#Upload predictions as a baseline\n",
    "baseline_prefix = prefix + \"/baselining\"\n",
    "baseline_data_prefix = baseline_prefix + \"/data\"\n",
    "baseline_results_prefix = baseline_prefix + \"/results\"\n",
    "\n",
    "baseline_data_uri = f\"s3://{bucket}/{baseline_data_prefix}\"\n",
    "baseline_results_uri = f\"s3://{bucket}/{baseline_results_prefix}\"\n",
    "print(f\"Baseline data uri: {baseline_data_uri}\")\n",
    "print(f\"Baseline results uri: {baseline_results_uri}\")"
   ]
  },
  {
   "cell_type": "code",
   "execution_count": 26,
   "id": "290b7d53-19b6-401a-bac9-ead7cd19bc0f",
   "metadata": {
    "tags": []
   },
   "outputs": [
    {
     "data": {
      "text/plain": [
       "'s3://sagemaker-us-east-1-215730597255/sagemaker-featurestore/baselining/data/validation_data_predictions.csv'"
      ]
     },
     "execution_count": 26,
     "metadata": {},
     "output_type": "execute_result"
    }
   ],
   "source": [
    "baseline_dataset_uri = S3Uploader.upload(f\"{validate_dataset}\", baseline_data_uri)\n",
    "baseline_dataset_uri"
   ]
  },
  {
   "cell_type": "code",
   "execution_count": 27,
   "id": "4d2316e8-bcf3-4afa-8ef0-30c7f3a267ec",
   "metadata": {
    "tags": []
   },
   "outputs": [],
   "source": [
    "# Create the model quality monitoring object\n",
    "bids_model_quality_monitor = ModelQualityMonitor(\n",
    "    role=role,\n",
    "    instance_count=1,\n",
    "    instance_type=\"ml.m5.xlarge\",\n",
    "    volume_size_in_gb=20,\n",
    "    max_runtime_in_seconds=1800,\n",
    "    sagemaker_session=sess,\n",
    ")"
   ]
  },
  {
   "cell_type": "code",
   "execution_count": 28,
   "id": "80950b7d-9128-4f65-b42f-670e3221f43f",
   "metadata": {
    "tags": []
   },
   "outputs": [],
   "source": [
    "# Name of the model quality baseline job\n",
    "baseline_job_name = f\"xgb-bids-model-baseline-job-{datetime.utcnow():%Y-%m-%d-%H%M}\""
   ]
  },
  {
   "cell_type": "code",
   "execution_count": 29,
   "id": "763320b0-43a1-4c9f-b9c0-573a18fbd8ee",
   "metadata": {
    "tags": []
   },
   "outputs": [
    {
     "name": "stderr",
     "output_type": "stream",
     "text": [
      "INFO:sagemaker:Creating processing-job with name xgb-bids-model-baseline-job-2024-06-23-0210\n"
     ]
    },
    {
     "name": "stdout",
     "output_type": "stream",
     "text": [
      "...........................................................!"
     ]
    }
   ],
   "source": [
    "# Execute the baseline suggestion job.\n",
    "job = bids_model_quality_monitor.suggest_baseline(\n",
    "    job_name=baseline_job_name,\n",
    "    baseline_dataset=baseline_dataset_uri,\n",
    "    dataset_format=DatasetFormat.csv(header=True),\n",
    "    output_s3_uri=baseline_results_uri,\n",
    "    problem_type=\"BinaryClassification\",\n",
    "    inference_attribute=\"prediction\",\n",
    "    probability_attribute=\"probability\",\n",
    "    ground_truth_attribute=\"label\",\n",
    ")\n",
    "job.wait(logs=False)"
   ]
  },
  {
   "cell_type": "code",
   "execution_count": 30,
   "id": "36f634d3-8307-4100-a57d-fca60f09d840",
   "metadata": {
    "tags": []
   },
   "outputs": [],
   "source": [
    "baseline_job = bids_model_quality_monitor.latest_baselining_job"
   ]
  },
  {
   "cell_type": "code",
   "execution_count": 31,
   "id": "ea4e9c1d-7154-4ec9-ba52-b0eba9dd439a",
   "metadata": {
    "tags": []
   },
   "outputs": [
    {
     "data": {
      "text/html": [
       "<div>\n",
       "<style scoped>\n",
       "    .dataframe tbody tr th:only-of-type {\n",
       "        vertical-align: middle;\n",
       "    }\n",
       "\n",
       "    .dataframe tbody tr th {\n",
       "        vertical-align: top;\n",
       "    }\n",
       "\n",
       "    .dataframe thead th {\n",
       "        text-align: right;\n",
       "    }\n",
       "</style>\n",
       "<table border=\"1\" class=\"dataframe\">\n",
       "  <thead>\n",
       "    <tr style=\"text-align: right;\">\n",
       "      <th></th>\n",
       "      <th>0</th>\n",
       "    </tr>\n",
       "  </thead>\n",
       "  <tbody>\n",
       "    <tr>\n",
       "      <th>confusion_matrix.0.0</th>\n",
       "      <td>177</td>\n",
       "    </tr>\n",
       "    <tr>\n",
       "      <th>confusion_matrix.0.1</th>\n",
       "      <td>1</td>\n",
       "    </tr>\n",
       "    <tr>\n",
       "      <th>confusion_matrix.1.0</th>\n",
       "      <td>9</td>\n",
       "    </tr>\n",
       "    <tr>\n",
       "      <th>confusion_matrix.1.1</th>\n",
       "      <td>0</td>\n",
       "    </tr>\n",
       "    <tr>\n",
       "      <th>recall.value</th>\n",
       "      <td>0.0</td>\n",
       "    </tr>\n",
       "    <tr>\n",
       "      <th>recall.standard_deviation</th>\n",
       "      <td>None</td>\n",
       "    </tr>\n",
       "    <tr>\n",
       "      <th>precision.value</th>\n",
       "      <td>0.0</td>\n",
       "    </tr>\n",
       "    <tr>\n",
       "      <th>precision.standard_deviation</th>\n",
       "      <td>None</td>\n",
       "    </tr>\n",
       "    <tr>\n",
       "      <th>accuracy.value</th>\n",
       "      <td>0.946524</td>\n",
       "    </tr>\n",
       "    <tr>\n",
       "      <th>accuracy.standard_deviation</th>\n",
       "      <td>None</td>\n",
       "    </tr>\n",
       "    <tr>\n",
       "      <th>recall_best_constant_classifier.value</th>\n",
       "      <td>0.0</td>\n",
       "    </tr>\n",
       "    <tr>\n",
       "      <th>recall_best_constant_classifier.standard_deviation</th>\n",
       "      <td>None</td>\n",
       "    </tr>\n",
       "    <tr>\n",
       "      <th>precision_best_constant_classifier.value</th>\n",
       "      <td>0.0</td>\n",
       "    </tr>\n",
       "    <tr>\n",
       "      <th>precision_best_constant_classifier.standard_deviation</th>\n",
       "      <td>None</td>\n",
       "    </tr>\n",
       "    <tr>\n",
       "      <th>accuracy_best_constant_classifier.value</th>\n",
       "      <td>0.951872</td>\n",
       "    </tr>\n",
       "    <tr>\n",
       "      <th>accuracy_best_constant_classifier.standard_deviation</th>\n",
       "      <td>None</td>\n",
       "    </tr>\n",
       "    <tr>\n",
       "      <th>true_positive_rate.value</th>\n",
       "      <td>0.0</td>\n",
       "    </tr>\n",
       "    <tr>\n",
       "      <th>true_positive_rate.standard_deviation</th>\n",
       "      <td>None</td>\n",
       "    </tr>\n",
       "    <tr>\n",
       "      <th>true_negative_rate.value</th>\n",
       "      <td>0.994382</td>\n",
       "    </tr>\n",
       "    <tr>\n",
       "      <th>true_negative_rate.standard_deviation</th>\n",
       "      <td>None</td>\n",
       "    </tr>\n",
       "    <tr>\n",
       "      <th>false_positive_rate.value</th>\n",
       "      <td>0.005618</td>\n",
       "    </tr>\n",
       "    <tr>\n",
       "      <th>false_positive_rate.standard_deviation</th>\n",
       "      <td>None</td>\n",
       "    </tr>\n",
       "    <tr>\n",
       "      <th>false_negative_rate.value</th>\n",
       "      <td>1.0</td>\n",
       "    </tr>\n",
       "    <tr>\n",
       "      <th>false_negative_rate.standard_deviation</th>\n",
       "      <td>None</td>\n",
       "    </tr>\n",
       "    <tr>\n",
       "      <th>receiver_operating_characteristic_curve.false_positive_rates</th>\n",
       "      <td>[0.0, 0.0056179775280898875, 0.005617977528089...</td>\n",
       "    </tr>\n",
       "    <tr>\n",
       "      <th>receiver_operating_characteristic_curve.true_positive_rates</th>\n",
       "      <td>[0.0, 0.0, 0.1111111111111111, 0.1111111111111...</td>\n",
       "    </tr>\n",
       "    <tr>\n",
       "      <th>precision_recall_curve.precisions</th>\n",
       "      <td>[0.0, 0.0, 0.5, 0.3333333333333333, 0.5, 0.4, ...</td>\n",
       "    </tr>\n",
       "    <tr>\n",
       "      <th>precision_recall_curve.recalls</th>\n",
       "      <td>[0.0, 0.0, 0.1111111111111111, 0.1111111111111...</td>\n",
       "    </tr>\n",
       "    <tr>\n",
       "      <th>auc.value</th>\n",
       "      <td>0.743446</td>\n",
       "    </tr>\n",
       "    <tr>\n",
       "      <th>auc.standard_deviation</th>\n",
       "      <td>None</td>\n",
       "    </tr>\n",
       "    <tr>\n",
       "      <th>au_prc.value</th>\n",
       "      <td>0.239881</td>\n",
       "    </tr>\n",
       "    <tr>\n",
       "      <th>au_prc.standard_deviation</th>\n",
       "      <td>None</td>\n",
       "    </tr>\n",
       "    <tr>\n",
       "      <th>f0_5.value</th>\n",
       "      <td>0.0</td>\n",
       "    </tr>\n",
       "    <tr>\n",
       "      <th>f0_5.standard_deviation</th>\n",
       "      <td>None</td>\n",
       "    </tr>\n",
       "    <tr>\n",
       "      <th>f1.value</th>\n",
       "      <td>0.0</td>\n",
       "    </tr>\n",
       "    <tr>\n",
       "      <th>f1.standard_deviation</th>\n",
       "      <td>None</td>\n",
       "    </tr>\n",
       "    <tr>\n",
       "      <th>f2.value</th>\n",
       "      <td>0.0</td>\n",
       "    </tr>\n",
       "    <tr>\n",
       "      <th>f2.standard_deviation</th>\n",
       "      <td>None</td>\n",
       "    </tr>\n",
       "    <tr>\n",
       "      <th>f0_5_best_constant_classifier.value</th>\n",
       "      <td>0.0</td>\n",
       "    </tr>\n",
       "    <tr>\n",
       "      <th>f0_5_best_constant_classifier.standard_deviation</th>\n",
       "      <td>None</td>\n",
       "    </tr>\n",
       "    <tr>\n",
       "      <th>f1_best_constant_classifier.value</th>\n",
       "      <td>0.0</td>\n",
       "    </tr>\n",
       "    <tr>\n",
       "      <th>f1_best_constant_classifier.standard_deviation</th>\n",
       "      <td>None</td>\n",
       "    </tr>\n",
       "    <tr>\n",
       "      <th>f2_best_constant_classifier.value</th>\n",
       "      <td>0.0</td>\n",
       "    </tr>\n",
       "    <tr>\n",
       "      <th>f2_best_constant_classifier.standard_deviation</th>\n",
       "      <td>None</td>\n",
       "    </tr>\n",
       "  </tbody>\n",
       "</table>\n",
       "</div>"
      ],
      "text/plain": [
       "                                                                                                    0\n",
       "confusion_matrix.0.0                                                                              177\n",
       "confusion_matrix.0.1                                                                                1\n",
       "confusion_matrix.1.0                                                                                9\n",
       "confusion_matrix.1.1                                                                                0\n",
       "recall.value                                                                                      0.0\n",
       "recall.standard_deviation                                                                        None\n",
       "precision.value                                                                                   0.0\n",
       "precision.standard_deviation                                                                     None\n",
       "accuracy.value                                                                               0.946524\n",
       "accuracy.standard_deviation                                                                      None\n",
       "recall_best_constant_classifier.value                                                             0.0\n",
       "recall_best_constant_classifier.standard_deviation                                               None\n",
       "precision_best_constant_classifier.value                                                          0.0\n",
       "precision_best_constant_classifier.standard_dev...                                               None\n",
       "accuracy_best_constant_classifier.value                                                      0.951872\n",
       "accuracy_best_constant_classifier.standard_devi...                                               None\n",
       "true_positive_rate.value                                                                          0.0\n",
       "true_positive_rate.standard_deviation                                                            None\n",
       "true_negative_rate.value                                                                     0.994382\n",
       "true_negative_rate.standard_deviation                                                            None\n",
       "false_positive_rate.value                                                                    0.005618\n",
       "false_positive_rate.standard_deviation                                                           None\n",
       "false_negative_rate.value                                                                         1.0\n",
       "false_negative_rate.standard_deviation                                                           None\n",
       "receiver_operating_characteristic_curve.false_p...  [0.0, 0.0056179775280898875, 0.005617977528089...\n",
       "receiver_operating_characteristic_curve.true_po...  [0.0, 0.0, 0.1111111111111111, 0.1111111111111...\n",
       "precision_recall_curve.precisions                   [0.0, 0.0, 0.5, 0.3333333333333333, 0.5, 0.4, ...\n",
       "precision_recall_curve.recalls                      [0.0, 0.0, 0.1111111111111111, 0.1111111111111...\n",
       "auc.value                                                                                    0.743446\n",
       "auc.standard_deviation                                                                           None\n",
       "au_prc.value                                                                                 0.239881\n",
       "au_prc.standard_deviation                                                                        None\n",
       "f0_5.value                                                                                        0.0\n",
       "f0_5.standard_deviation                                                                          None\n",
       "f1.value                                                                                          0.0\n",
       "f1.standard_deviation                                                                            None\n",
       "f2.value                                                                                          0.0\n",
       "f2.standard_deviation                                                                            None\n",
       "f0_5_best_constant_classifier.value                                                               0.0\n",
       "f0_5_best_constant_classifier.standard_deviation                                                 None\n",
       "f1_best_constant_classifier.value                                                                 0.0\n",
       "f1_best_constant_classifier.standard_deviation                                                   None\n",
       "f2_best_constant_classifier.value                                                                 0.0\n",
       "f2_best_constant_classifier.standard_deviation                                                   None"
      ]
     },
     "execution_count": 31,
     "metadata": {},
     "output_type": "execute_result"
    }
   ],
   "source": [
    "#See the baseline statistics \n",
    "binary_metrics = baseline_job.baseline_statistics().body_dict[\"binary_classification_metrics\"]\n",
    "pd.json_normalize(binary_metrics).T"
   ]
  },
  {
   "cell_type": "code",
   "execution_count": 32,
   "id": "0f773558-34ea-481e-a520-67ae7317ffea",
   "metadata": {
    "tags": []
   },
   "outputs": [
    {
     "data": {
      "text/html": [
       "<div>\n",
       "<style scoped>\n",
       "    .dataframe tbody tr th:only-of-type {\n",
       "        vertical-align: middle;\n",
       "    }\n",
       "\n",
       "    .dataframe tbody tr th {\n",
       "        vertical-align: top;\n",
       "    }\n",
       "\n",
       "    .dataframe thead th {\n",
       "        text-align: right;\n",
       "    }\n",
       "</style>\n",
       "<table border=\"1\" class=\"dataframe\">\n",
       "  <thead>\n",
       "    <tr style=\"text-align: right;\">\n",
       "      <th></th>\n",
       "      <th>threshold</th>\n",
       "      <th>comparison_operator</th>\n",
       "    </tr>\n",
       "  </thead>\n",
       "  <tbody>\n",
       "    <tr>\n",
       "      <th>recall</th>\n",
       "      <td>0.0</td>\n",
       "      <td>LessThanThreshold</td>\n",
       "    </tr>\n",
       "    <tr>\n",
       "      <th>precision</th>\n",
       "      <td>0.0</td>\n",
       "      <td>LessThanThreshold</td>\n",
       "    </tr>\n",
       "    <tr>\n",
       "      <th>accuracy</th>\n",
       "      <td>0.946524</td>\n",
       "      <td>LessThanThreshold</td>\n",
       "    </tr>\n",
       "    <tr>\n",
       "      <th>true_positive_rate</th>\n",
       "      <td>0.0</td>\n",
       "      <td>LessThanThreshold</td>\n",
       "    </tr>\n",
       "    <tr>\n",
       "      <th>true_negative_rate</th>\n",
       "      <td>0.994382</td>\n",
       "      <td>LessThanThreshold</td>\n",
       "    </tr>\n",
       "    <tr>\n",
       "      <th>false_positive_rate</th>\n",
       "      <td>0.005618</td>\n",
       "      <td>GreaterThanThreshold</td>\n",
       "    </tr>\n",
       "    <tr>\n",
       "      <th>false_negative_rate</th>\n",
       "      <td>1.0</td>\n",
       "      <td>GreaterThanThreshold</td>\n",
       "    </tr>\n",
       "    <tr>\n",
       "      <th>auc</th>\n",
       "      <td>0.743446</td>\n",
       "      <td>LessThanThreshold</td>\n",
       "    </tr>\n",
       "    <tr>\n",
       "      <th>f0_5</th>\n",
       "      <td>0.0</td>\n",
       "      <td>LessThanThreshold</td>\n",
       "    </tr>\n",
       "    <tr>\n",
       "      <th>f1</th>\n",
       "      <td>0.0</td>\n",
       "      <td>LessThanThreshold</td>\n",
       "    </tr>\n",
       "    <tr>\n",
       "      <th>f2</th>\n",
       "      <td>0.0</td>\n",
       "      <td>LessThanThreshold</td>\n",
       "    </tr>\n",
       "  </tbody>\n",
       "</table>\n",
       "</div>"
      ],
      "text/plain": [
       "                    threshold   comparison_operator\n",
       "recall                    0.0     LessThanThreshold\n",
       "precision                 0.0     LessThanThreshold\n",
       "accuracy             0.946524     LessThanThreshold\n",
       "true_positive_rate        0.0     LessThanThreshold\n",
       "true_negative_rate   0.994382     LessThanThreshold\n",
       "false_positive_rate  0.005618  GreaterThanThreshold\n",
       "false_negative_rate       1.0  GreaterThanThreshold\n",
       "auc                  0.743446     LessThanThreshold\n",
       "f0_5                      0.0     LessThanThreshold\n",
       "f1                        0.0     LessThanThreshold\n",
       "f2                        0.0     LessThanThreshold"
      ]
     },
     "execution_count": 32,
     "metadata": {},
     "output_type": "execute_result"
    }
   ],
   "source": [
    "pd.DataFrame(baseline_job.suggested_constraints().body_dict[\"binary_classification_constraints\"]).T"
   ]
  },
  {
   "cell_type": "code",
   "execution_count": 33,
   "id": "c946cec8-2c96-42d4-8292-0cbb51857b93",
   "metadata": {
    "tags": []
   },
   "outputs": [],
   "source": [
    "#Generate prediction data\n",
    "def invoke_endpoint(ep_name, file_name):\n",
    "    with open(file_name, \"r\") as f:\n",
    "        i = 0\n",
    "        for row in f:\n",
    "            payload = row.rstrip(\"\\n\")\n",
    "            response = sess.sagemaker_runtime_client.invoke_endpoint(\n",
    "                EndpointName=endpoint_name,\n",
    "                ContentType=\"text/csv\",\n",
    "                Body=payload,\n",
    "                InferenceId=str(i),  # unique ID per row\n",
    "            )[\"Body\"].read()\n",
    "            i += 1\n",
    "            sleep(1)\n",
    "\n",
    "\n",
    "def invoke_endpoint_forever():\n",
    "    while True:\n",
    "        try:\n",
    "            invoke_endpoint(endpoint_name, \"test_data_noID.csv\")\n",
    "        except sess.sagemaker_runtime_client.exceptions.ValidationError:\n",
    "            pass\n",
    "\n",
    "\n",
    "thread = Thread(target=invoke_endpoint_forever)\n",
    "thread.start()"
   ]
  },
  {
   "cell_type": "code",
   "execution_count": 34,
   "id": "06a6d23e-9a77-41f4-be9a-ec4b056d95c9",
   "metadata": {
    "tags": []
   },
   "outputs": [],
   "source": [
    "#Generate synthetic ground truth\n",
    "def ground_truth_with_id(inference_id):\n",
    "    random.seed(inference_id)  # to get consistent results\n",
    "    rand = random.random()\n",
    "    return {\n",
    "        \"groundTruthData\": {\n",
    "            \"data\": \"1\" if rand < 0.7 else \"0\",  # randomly generate positive labels 70% of the time\n",
    "            \"encoding\": \"CSV\",\n",
    "        },\n",
    "        \"eventMetadata\": {\n",
    "            \"eventId\": str(inference_id),\n",
    "        },\n",
    "        \"eventVersion\": \"0\",\n",
    "    }\n",
    "\n",
    "\n",
    "def upload_ground_truth(records, upload_time):\n",
    "    fake_records = [json.dumps(r) for r in records]\n",
    "    data_to_upload = \"\\n\".join(fake_records)\n",
    "    target_s3_uri = f\"{ground_truth_upload_path}/{upload_time:%Y/%m/%d/%H/%M%S}.jsonl\"\n",
    "    print(f\"Uploading {len(fake_records)} records to\", target_s3_uri)\n",
    "    S3Uploader.upload_string_as_file_body(data_to_upload, target_s3_uri)"
   ]
  },
  {
   "cell_type": "code",
   "execution_count": 35,
   "id": "4d7109a1-940b-4f7a-9445-59d9047b455d",
   "metadata": {
    "tags": []
   },
   "outputs": [
    {
     "name": "stdout",
     "output_type": "stream",
     "text": [
      "Uploading 334 records to s3://sagemaker-us-east-1-215730597255/sagemaker-featurestore/ground_truth_data/2024-06-23-02-03-21/2024/06/23/02/1707.jsonl\n",
      "Uploading 334 records to s3://sagemaker-us-east-1-215730597255/sagemaker-featurestore/ground_truth_data/2024-06-23-02-03-21/2024/06/23/03/1707.jsonl\n",
      "Uploading 334 records to s3://sagemaker-us-east-1-215730597255/sagemaker-featurestore/ground_truth_data/2024-06-23-02-03-21/2024/06/23/04/1708.jsonl\n",
      "Uploading 334 records to s3://sagemaker-us-east-1-215730597255/sagemaker-featurestore/ground_truth_data/2024-06-23-02-03-21/2024/06/23/05/1708.jsonl\n"
     ]
    }
   ],
   "source": [
    "NUM_GROUND_TRUTH_RECORDS = 334  # 334 are the number of rows in data we're sending for inference\n",
    "def generate_fake_ground_truth_forever():\n",
    "    j = 0\n",
    "    while True:\n",
    "        fake_records = [ground_truth_with_id(i) for i in range(NUM_GROUND_TRUTH_RECORDS)]\n",
    "        upload_ground_truth(fake_records, datetime.utcnow())\n",
    "        j = (j + 1) % 5\n",
    "        sleep(60 * 60)  # do this once an hour\n",
    "\n",
    "\n",
    "gt_thread = Thread(target=generate_fake_ground_truth_forever)\n",
    "gt_thread.start()"
   ]
  },
  {
   "cell_type": "code",
   "execution_count": 36,
   "id": "c39cda02-6041-4985-953b-ac08080e8998",
   "metadata": {
    "tags": []
   },
   "outputs": [],
   "source": [
    "##Monitoring schedule name\n",
    "bids_monitor_schedule_name = (\n",
    "    f\"xgb-bids-monitoring-schedule-{datetime.utcnow():%Y-%m-%d-%H%M}\"\n",
    ")"
   ]
  },
  {
   "cell_type": "code",
   "execution_count": 37,
   "id": "61063197-7770-47f8-ac3e-fd430f516763",
   "metadata": {
    "tags": []
   },
   "outputs": [],
   "source": [
    "# Create an enpointInput\n",
    "endpointInput = EndpointInput(\n",
    "    endpoint_name=predictor.endpoint_name,\n",
    "    probability_attribute=\"0\",\n",
    "    probability_threshold_attribute=0.5,\n",
    "    destination=\"/opt/ml/processing/input_data\",\n",
    ")"
   ]
  },
  {
   "cell_type": "code",
   "execution_count": 38,
   "id": "3886b815-bada-4352-9524-e623e7745ebd",
   "metadata": {
    "tags": []
   },
   "outputs": [
    {
     "name": "stderr",
     "output_type": "stream",
     "text": [
      "INFO:sagemaker.model_monitor.model_monitoring:Creating Monitoring Schedule with name: xgb-bids-monitoring-schedule-2024-06-23-0217\n"
     ]
    }
   ],
   "source": [
    "# Create the monitoring schedule to execute every hour.\n",
    "response = bids_model_quality_monitor.create_monitoring_schedule(\n",
    "    monitor_schedule_name=bids_monitor_schedule_name,\n",
    "    endpoint_input=endpointInput,\n",
    "    output_s3_uri=baseline_results_uri,\n",
    "    problem_type=\"BinaryClassification\",\n",
    "    ground_truth_input=ground_truth_upload_path,\n",
    "    constraints=baseline_job.suggested_constraints(),\n",
    "    schedule_cron_expression=CronExpressionGenerator.hourly(),\n",
    "    enable_cloudwatch_metrics=True,\n",
    ")"
   ]
  },
  {
   "cell_type": "code",
   "execution_count": 39,
   "id": "3c4724e5-4c8d-48d8-a947-f5ec3946bda2",
   "metadata": {
    "tags": []
   },
   "outputs": [
    {
     "data": {
      "text/plain": [
       "{'MonitoringScheduleArn': 'arn:aws:sagemaker:us-east-1:215730597255:monitoring-schedule/xgb-bids-monitoring-schedule-2024-06-23-0217',\n",
       " 'MonitoringScheduleName': 'xgb-bids-monitoring-schedule-2024-06-23-0217',\n",
       " 'MonitoringScheduleStatus': 'Scheduled',\n",
       " 'MonitoringType': 'ModelQuality',\n",
       " 'CreationTime': datetime.datetime(2024, 6, 23, 2, 17, 11, 3000, tzinfo=tzlocal()),\n",
       " 'LastModifiedTime': datetime.datetime(2024, 6, 23, 2, 17, 15, 437000, tzinfo=tzlocal()),\n",
       " 'MonitoringScheduleConfig': {'ScheduleConfig': {'ScheduleExpression': 'cron(0 * ? * * *)'},\n",
       "  'MonitoringJobDefinitionName': 'model-quality-job-definition-2024-06-23-02-17-10-384',\n",
       "  'MonitoringType': 'ModelQuality'},\n",
       " 'EndpointName': 'bids-model-monitor-2024-06-23-0203',\n",
       " 'ResponseMetadata': {'RequestId': '7b004a95-b125-423f-8e7c-996bd2fb64fa',\n",
       "  'HTTPStatusCode': 200,\n",
       "  'HTTPHeaders': {'x-amzn-requestid': '7b004a95-b125-423f-8e7c-996bd2fb64fa',\n",
       "   'content-type': 'application/x-amz-json-1.1',\n",
       "   'content-length': '602',\n",
       "   'date': 'Sun, 23 Jun 2024 02:17:20 GMT'},\n",
       "  'RetryAttempts': 0}}"
      ]
     },
     "execution_count": 39,
     "metadata": {},
     "output_type": "execute_result"
    }
   ],
   "source": [
    "# Create the monitoring schedule\n",
    "# You will see the monitoring schedule in the 'Scheduled' status\n",
    "bids_model_quality_monitor.describe_schedule()"
   ]
  },
  {
   "cell_type": "code",
   "execution_count": 40,
   "id": "64a60547-e963-44d0-ba08-250c9e495cc0",
   "metadata": {
    "tags": []
   },
   "outputs": [
    {
     "name": "stderr",
     "output_type": "stream",
     "text": [
      "WARNING:sagemaker.model_monitor.model_monitoring:No executions found for schedule. monitoring_schedule_name: xgb-bids-monitoring-schedule-2024-06-23-0217\n"
     ]
    },
    {
     "data": {
      "text/plain": [
       "[]"
      ]
     },
     "execution_count": 40,
     "metadata": {},
     "output_type": "execute_result"
    }
   ],
   "source": [
    "# Initially there will be no executions since the first execution happens at the top of the hour\n",
    "# Note that it is common for the execution to luanch upto 20 min after the hour.\n",
    "executions = bids_model_quality_monitor.list_executions()\n",
    "executions"
   ]
  },
  {
   "cell_type": "code",
   "execution_count": 41,
   "id": "1695f0ec-e41c-445d-9cae-7dad05586fc6",
   "metadata": {
    "tags": []
   },
   "outputs": [
    {
     "name": "stdout",
     "output_type": "stream",
     "text": [
      "Waiting for first execution.........................................................................................................................................................................................................................................................................................................\n",
      "Execution found!\n"
     ]
    }
   ],
   "source": [
    "# Wait for the first execution of the monitoring_schedule\n",
    "print(\"Waiting for first execution\", end=\"\")\n",
    "while True:\n",
    "    execution = bids_model_quality_monitor.describe_schedule().get(\n",
    "        \"LastMonitoringExecutionSummary\"\n",
    "    )\n",
    "    if execution:\n",
    "        break\n",
    "    print(\".\", end=\"\", flush=True)\n",
    "    sleep(10)\n",
    "print()\n",
    "print(\"Execution found!\")"
   ]
  },
  {
   "cell_type": "code",
   "execution_count": 42,
   "id": "e2607582-ac81-4acc-b507-6bd45791b1d0",
   "metadata": {
    "tags": []
   },
   "outputs": [
    {
     "data": {
      "text/plain": [
       "{'ProcessingInputs': [{'InputName': 'constraints',\n",
       "   'AppManaged': False,\n",
       "   'S3Input': {'S3Uri': 's3://sagemaker-us-east-1-215730597255/sagemaker-featurestore/baselining/results/constraints.json',\n",
       "    'LocalPath': '/opt/ml/processing/baseline/constraints',\n",
       "    'S3DataType': 'S3Prefix',\n",
       "    'S3InputMode': 'File',\n",
       "    'S3DataDistributionType': 'FullyReplicated'}},\n",
       "  {'InputName': 'endpoint_input_1',\n",
       "   'AppManaged': False,\n",
       "   'S3Input': {'S3Uri': 's3://sagemaker-us-east-1-215730597255/sagemaker-featurestore/baselining/results/merge/bids-model-monitor-2024-06-23-0203/AllTraffic/2024/06/23/02',\n",
       "    'LocalPath': '/opt/ml/processing/input_data/bids-model-monitor-2024-06-23-0203/AllTraffic/2024/06/23/02',\n",
       "    'S3DataType': 'S3Prefix',\n",
       "    'S3InputMode': 'File',\n",
       "    'S3DataDistributionType': 'FullyReplicated',\n",
       "    'S3CompressionType': 'None'}}],\n",
       " 'ProcessingOutputConfig': {'Outputs': [{'OutputName': 'result',\n",
       "    'S3Output': {'S3Uri': 's3://sagemaker-us-east-1-215730597255/sagemaker-featurestore/baselining/results/bids-model-monitor-2024-06-23-0203/xgb-bids-monitoring-schedule-2024-06-23-0217/2024/06/23/03',\n",
       "     'LocalPath': '/opt/ml/processing/output',\n",
       "     'S3UploadMode': 'Continuous'},\n",
       "    'AppManaged': False}]},\n",
       " 'ProcessingJobName': 'model-quality-monitoring-202406230300-c2f0fcc92c14d4f6489691a2',\n",
       " 'ProcessingResources': {'ClusterConfig': {'InstanceCount': 1,\n",
       "   'InstanceType': 'ml.m5.xlarge',\n",
       "   'VolumeSizeInGB': 20}},\n",
       " 'StoppingCondition': {'MaxRuntimeInSeconds': 1800},\n",
       " 'AppSpecification': {'ImageUri': '156813124566.dkr.ecr.us-east-1.amazonaws.com/sagemaker-model-monitor-analyzer'},\n",
       " 'Environment': {'analysis_type': 'MODEL_QUALITY',\n",
       "  'baseline_constraints': '/opt/ml/processing/baseline/constraints/constraints.json',\n",
       "  'dataset_format': '{\"sagemakerMergeJson\":{\"captureIndexNames\":[\"endpointOutput\"],\"originalDatasetFormat\":null}}',\n",
       "  'dataset_source': '/opt/ml/processing/input_data',\n",
       "  'end_time': '2024-06-23T03:00:00Z',\n",
       "  'metric_time': '2024-06-23T02:00:00Z',\n",
       "  'monitoring_input_type': 'ENDPOINT_INPUT',\n",
       "  'output_path': '/opt/ml/processing/output',\n",
       "  'probability_attribute': '0',\n",
       "  'probability_threshold_attribute': '0.500000',\n",
       "  'problem_type': 'BinaryClassification',\n",
       "  'publish_cloudwatch_metrics': 'Enabled',\n",
       "  'sagemaker_endpoint_name': 'bids-model-monitor-2024-06-23-0203',\n",
       "  'sagemaker_monitoring_schedule_name': 'xgb-bids-monitoring-schedule-2024-06-23-0217',\n",
       "  'start_time': '2024-06-23T02:00:00Z'},\n",
       " 'RoleArn': 'arn:aws:iam::215730597255:role/LabRole',\n",
       " 'ProcessingJobArn': 'arn:aws:sagemaker:us-east-1:215730597255:processing-job/model-quality-monitoring-202406230300-c2f0fcc92c14d4f6489691a2',\n",
       " 'ProcessingJobStatus': 'InProgress',\n",
       " 'LastModifiedTime': datetime.datetime(2024, 6, 23, 3, 19, 32, 615000, tzinfo=tzlocal()),\n",
       " 'CreationTime': datetime.datetime(2024, 6, 23, 3, 19, 32, 127000, tzinfo=tzlocal()),\n",
       " 'MonitoringScheduleArn': 'arn:aws:sagemaker:us-east-1:215730597255:monitoring-schedule/xgb-bids-monitoring-schedule-2024-06-23-0217',\n",
       " 'ResponseMetadata': {'RequestId': '8a9932ab-b3ac-40db-ad1b-f08db80737ad',\n",
       "  'HTTPStatusCode': 200,\n",
       "  'HTTPHeaders': {'x-amzn-requestid': '8a9932ab-b3ac-40db-ad1b-f08db80737ad',\n",
       "   'content-type': 'application/x-amz-json-1.1',\n",
       "   'content-length': '2684',\n",
       "   'date': 'Sun, 23 Jun 2024 03:19:55 GMT'},\n",
       "  'RetryAttempts': 0}}"
      ]
     },
     "execution_count": 42,
     "metadata": {},
     "output_type": "execute_result"
    }
   ],
   "source": [
    "while not executions:\n",
    "    executions = bids_model_quality_monitor.list_executions()\n",
    "    sleep(10)\n",
    "latest_execution = executions[-1]\n",
    "latest_execution.describe()"
   ]
  },
  {
   "cell_type": "code",
   "execution_count": 43,
   "id": "d026fbc1-c64a-4c01-82b1-382cf80f0dc0",
   "metadata": {
    "tags": []
   },
   "outputs": [
    {
     "name": "stdout",
     "output_type": "stream",
     "text": [
      "Waiting for execution to finish........................................................................!\n",
      "model-quality-monitoring-202406230300-c2f0fcc92c14d4f6489691a2 job status: Completed\n",
      "model-quality-monitoring-202406230300-c2f0fcc92c14d4f6489691a2 job exit message, if any: CompletedWithViolations: Job completed successfully with 4 violations.\n",
      "model-quality-monitoring-202406230300-c2f0fcc92c14d4f6489691a2 job failure reason, if any: None\n",
      "Execution status is: CompletedWithViolations\n",
      "{'MonitoringScheduleName': 'xgb-bids-monitoring-schedule-2024-06-23-0217', 'ScheduledTime': datetime.datetime(2024, 6, 23, 3, 0, tzinfo=tzlocal()), 'CreationTime': datetime.datetime(2024, 6, 23, 3, 7, 42, 191000, tzinfo=tzlocal()), 'LastModifiedTime': datetime.datetime(2024, 6, 23, 3, 26, 14, 800000, tzinfo=tzlocal()), 'MonitoringExecutionStatus': 'CompletedWithViolations', 'ProcessingJobArn': 'arn:aws:sagemaker:us-east-1:215730597255:processing-job/model-quality-monitoring-202406230300-c2f0fcc92c14d4f6489691a2', 'EndpointName': 'bids-model-monitor-2024-06-23-0203'}\n",
      "====STOP==== \n",
      " No completed executions to inspect further. Please wait till an execution completes or investigate previously reported failures.\n"
     ]
    }
   ],
   "source": [
    "status = execution[\"MonitoringExecutionStatus\"]\n",
    "\n",
    "while status in [\"Pending\", \"InProgress\"]:\n",
    "    print(\"Waiting for execution to finish\", end=\"\")\n",
    "    latest_execution.wait(logs=False)\n",
    "    latest_job = latest_execution.describe()\n",
    "    print()\n",
    "    print(f\"{latest_job['ProcessingJobName']} job status:\", latest_job[\"ProcessingJobStatus\"])\n",
    "    print(\n",
    "        f\"{latest_job['ProcessingJobName']} job exit message, if any:\",\n",
    "        latest_job.get(\"ExitMessage\"),\n",
    "    )\n",
    "    print(\n",
    "        f\"{latest_job['ProcessingJobName']} job failure reason, if any:\",\n",
    "        latest_job.get(\"FailureReason\"),\n",
    "    )\n",
    "    sleep(\n",
    "        30\n",
    "    )  # model quality executions consist of two Processing jobs, wait for second job to start\n",
    "    latest_execution = bids_model_quality_monitor.list_executions()[-1]\n",
    "    execution = bids_model_quality_monitor.describe_schedule()[\"LastMonitoringExecutionSummary\"]\n",
    "    status = execution[\"MonitoringExecutionStatus\"]\n",
    "\n",
    "print(\"Execution status is:\", status)\n",
    "\n",
    "if status != \"Completed\":\n",
    "    print(execution)\n",
    "    print(\n",
    "        \"====STOP==== \\n No completed executions to inspect further. Please wait till an execution completes or investigate previously reported failures.\"\n",
    "    )"
   ]
  },
  {
   "cell_type": "code",
   "execution_count": 44,
   "id": "d4d4d420-238b-42ec-a849-814e41b07919",
   "metadata": {
    "tags": []
   },
   "outputs": [
    {
     "name": "stdout",
     "output_type": "stream",
     "text": [
      "Report Uri: s3://sagemaker-us-east-1-215730597255/sagemaker-featurestore/baselining/results/bids-model-monitor-2024-06-23-0203/xgb-bids-monitoring-schedule-2024-06-23-0217/2024/06/23/03\n"
     ]
    }
   ],
   "source": [
    "latest_execution = bids_model_quality_monitor.list_executions()[-1]\n",
    "report_uri = latest_execution.describe()[\"ProcessingOutputConfig\"][\"Outputs\"][0][\"S3Output\"][\n",
    "    \"S3Uri\"\n",
    "]\n",
    "print(\"Report Uri:\", report_uri)"
   ]
  },
  {
   "cell_type": "code",
   "execution_count": 45,
   "id": "7b943d40-bd71-4018-ab85-5c486a2cf5b2",
   "metadata": {
    "tags": []
   },
   "outputs": [],
   "source": [
    "# Create CloudWatch client\n",
    "cw_client = boto3.Session().client(\"cloudwatch\")\n",
    "\n",
    "namespace = \"aws/sagemaker/Endpoints/model-metrics\"\n",
    "\n",
    "cw_dimensions = [\n",
    "    {\"Name\": \"Endpoint\", \"Value\": endpoint_name},\n",
    "    {\"Name\": \"MonitoringSchedule\", \"Value\": bids_monitor_schedule_name},\n",
    "]"
   ]
  },
  {
   "cell_type": "code",
   "execution_count": 46,
   "id": "4643cb68-312e-4b22-9021-d1f00bb80682",
   "metadata": {
    "tags": []
   },
   "outputs": [
    {
     "name": "stdout",
     "output_type": "stream",
     "text": [
      "f2_best_constant_classifier\n",
      "false_negative_rate\n",
      "recall_best_constant_classifier\n",
      "f2\n",
      "false_positive_rate\n",
      "auc\n",
      "accuracy_best_constant_classifier\n",
      "f1\n",
      "total_number_of_violations\n",
      "f1_best_constant_classifier\n",
      "f0_5\n",
      "true_negative_rate\n",
      "f0_5_best_constant_classifier\n",
      "precision\n",
      "recall\n",
      "true_positive_rate\n",
      "precision_best_constant_classifier\n",
      "au_prc\n",
      "accuracy\n"
     ]
    }
   ],
   "source": [
    "# List metrics through the pagination interface\n",
    "paginator = cw_client.get_paginator(\"list_metrics\")\n",
    "\n",
    "for response in paginator.paginate(Dimensions=cw_dimensions, Namespace=namespace):\n",
    "    model_quality_metrics = response[\"Metrics\"]\n",
    "    for metric in model_quality_metrics:\n",
    "        print(metric[\"MetricName\"])"
   ]
  },
  {
   "cell_type": "code",
   "execution_count": 47,
   "id": "0fb40da0-1587-4a80-8f5e-afbf13884f68",
   "metadata": {
    "tags": []
   },
   "outputs": [
    {
     "data": {
      "text/plain": [
       "{'ResponseMetadata': {'RequestId': '6cc554ae-f82d-40f8-8b9e-7e6e3406c805',\n",
       "  'HTTPStatusCode': 200,\n",
       "  'HTTPHeaders': {'x-amzn-requestid': '6cc554ae-f82d-40f8-8b9e-7e6e3406c805',\n",
       "   'content-type': 'text/xml',\n",
       "   'content-length': '214',\n",
       "   'date': 'Sun, 23 Jun 2024 03:50:40 GMT'},\n",
       "  'RetryAttempts': 0}}"
      ]
     },
     "execution_count": 47,
     "metadata": {},
     "output_type": "execute_result"
    }
   ],
   "source": [
    "alarm_name = \"MODEL_QUALITY_ACCURACY\"\n",
    "alarm_desc = (\n",
    "    \"Trigger an CloudWatch alarm when the accuracy drifts away from the baseline constraints\"\n",
    ")\n",
    "mdoel_quality_accuracy_threshold = (\n",
    "    0.93  \n",
    ")\n",
    "metric_name = \"accuracy\"\n",
    "namespace = \"aws/sagemaker/Endpoints/model-metrics\"\n",
    "\n",
    "cw_client.put_metric_alarm(\n",
    "    AlarmName=alarm_name,\n",
    "    AlarmDescription=alarm_desc,\n",
    "    ActionsEnabled=True,\n",
    "    MetricName=metric_name,\n",
    "    Namespace=namespace,\n",
    "    Statistic=\"Average\",\n",
    "    Dimensions=[\n",
    "        {\"Name\": \"Endpoint\", \"Value\": endpoint_name},\n",
    "        {\"Name\": \"MonitoringSchedule\", \"Value\": bids_monitor_schedule_name},\n",
    "    ],\n",
    "    Period=600,\n",
    "    EvaluationPeriods=1,\n",
    "    DatapointsToAlarm=1,\n",
    "    Threshold=mdoel_quality_accuracy_threshold,\n",
    "    ComparisonOperator=\"LessThanOrEqualToThreshold\",\n",
    "    TreatMissingData=\"breaching\",\n",
    ")"
   ]
  },
  {
   "cell_type": "code",
   "execution_count": 48,
   "id": "7ed0d370-3275-475b-a145-3dba93a8f01f",
   "metadata": {
    "tags": []
   },
   "outputs": [
    {
     "data": {
      "text/plain": [
       "{'ResponseMetadata': {'RequestId': '21f2e97f-422c-4378-807f-f750fa987be9',\n",
       "  'HTTPStatusCode': 200,\n",
       "  'HTTPHeaders': {'x-amzn-requestid': '21f2e97f-422c-4378-807f-f750fa987be9',\n",
       "   'content-type': 'text/xml',\n",
       "   'content-length': '214',\n",
       "   'date': 'Sun, 23 Jun 2024 03:50:43 GMT'},\n",
       "  'RetryAttempts': 0}}"
      ]
     },
     "execution_count": 48,
     "metadata": {},
     "output_type": "execute_result"
    }
   ],
   "source": [
    "alarm_name = \"MODEL_QUALITY_PRECISION\"\n",
    "alarm_desc = (\n",
    "    \"Trigger an CloudWatch alarm when the precision drifts away from the baseline constraints\"\n",
    ")\n",
    "mdoel_quality_precision_threshold = (\n",
    "    0.5  \n",
    ")\n",
    "metric_name = \"precision\"\n",
    "namespace = \"aws/sagemaker/Endpoints/model-metrics\"\n",
    "\n",
    "cw_client.put_metric_alarm(\n",
    "    AlarmName=alarm_name,\n",
    "    AlarmDescription=alarm_desc,\n",
    "    ActionsEnabled=True,\n",
    "    MetricName=metric_name,\n",
    "    Namespace=namespace,\n",
    "    Statistic=\"Average\",\n",
    "    Dimensions=[\n",
    "        {\"Name\": \"Endpoint\", \"Value\": endpoint_name},\n",
    "        {\"Name\": \"MonitoringSchedule\", \"Value\": bids_monitor_schedule_name},\n",
    "    ],\n",
    "    Period=600,\n",
    "    EvaluationPeriods=6,\n",
    "    DatapointsToAlarm=1,\n",
    "    Threshold=mdoel_quality_precision_threshold,\n",
    "    ComparisonOperator=\"LessThanOrEqualToThreshold\",\n",
    "    TreatMissingData=\"breaching\",\n",
    ")"
   ]
  },
  {
   "cell_type": "markdown",
   "id": "b9ea8adf-0b60-4431-9186-b8c1a8d525fa",
   "metadata": {
    "tags": []
   },
   "source": [
    "# Cleanup Resources"
   ]
  },
  {
   "cell_type": "code",
   "execution_count": null,
   "id": "55e2ec68-cf47-4d30-bc90-af46c7818466",
   "metadata": {
    "tags": []
   },
   "outputs": [
    {
     "name": "stderr",
     "output_type": "stream",
     "text": [
      "INFO:sagemaker:Deleting Monitoring Schedule with name: xgb-bids-monitoring-schedule-2024-06-17-2342\n",
      "INFO:sagemaker.model_monitor.model_monitoring:Deleting Model Quality Job Definition with name: model-quality-job-definition-2024-06-17-23-42-43-829\n"
     ]
    }
   ],
   "source": [
    "bids_model_quality_monitor.delete_monitoring_schedule()\n",
    "sleep(60)  # actually wait for the deletion"
   ]
  },
  {
   "cell_type": "code",
   "execution_count": null,
   "id": "52149b7c-19f1-4cba-9189-9ef6fd0873c5",
   "metadata": {
    "tags": []
   },
   "outputs": [
    {
     "name": "stderr",
     "output_type": "stream",
     "text": [
      "INFO:sagemaker:Deleting model with name: bids-model-monitor-2024-06-17-2226\n",
      "INFO:sagemaker:Deleting endpoint configuration with name: bids-model-monitor-2024-06-17-2226\n",
      "INFO:sagemaker:Deleting endpoint with name: bids-model-monitor-2024-06-17-2226\n"
     ]
    }
   ],
   "source": [
    "predictor.delete_model()\n",
    "predictor.delete_endpoint()"
   ]
  },
  {
   "cell_type": "code",
   "execution_count": null,
   "id": "15e0376b-518c-4f05-91ef-de2a68fc3fb0",
   "metadata": {},
   "outputs": [],
   "source": [
    "invoke_endpoint_thread.terminate()\n",
    "ground_truth_thread.terminate()"
   ]
  },
  {
   "cell_type": "code",
   "execution_count": null,
   "id": "e8e87134-0119-4868-91be-fbd6b8cff9ab",
   "metadata": {
    "tags": []
   },
   "outputs": [],
   "source": [
    "train_feature_group.delete()\n",
    "test_feature_group.delete()\n",
    "sagemaker.delete_endpoint(EndpointName=endpoint_name)"
   ]
  }
 ],
 "metadata": {
  "availableInstances": [
   {
    "_defaultOrder": 0,
    "_isFastLaunch": true,
    "category": "General purpose",
    "gpuNum": 0,
    "hideHardwareSpecs": false,
    "memoryGiB": 4,
    "name": "ml.t3.medium",
    "vcpuNum": 2
   },
   {
    "_defaultOrder": 1,
    "_isFastLaunch": false,
    "category": "General purpose",
    "gpuNum": 0,
    "hideHardwareSpecs": false,
    "memoryGiB": 8,
    "name": "ml.t3.large",
    "vcpuNum": 2
   },
   {
    "_defaultOrder": 2,
    "_isFastLaunch": false,
    "category": "General purpose",
    "gpuNum": 0,
    "hideHardwareSpecs": false,
    "memoryGiB": 16,
    "name": "ml.t3.xlarge",
    "vcpuNum": 4
   },
   {
    "_defaultOrder": 3,
    "_isFastLaunch": false,
    "category": "General purpose",
    "gpuNum": 0,
    "hideHardwareSpecs": false,
    "memoryGiB": 32,
    "name": "ml.t3.2xlarge",
    "vcpuNum": 8
   },
   {
    "_defaultOrder": 4,
    "_isFastLaunch": true,
    "category": "General purpose",
    "gpuNum": 0,
    "hideHardwareSpecs": false,
    "memoryGiB": 8,
    "name": "ml.m5.large",
    "vcpuNum": 2
   },
   {
    "_defaultOrder": 5,
    "_isFastLaunch": false,
    "category": "General purpose",
    "gpuNum": 0,
    "hideHardwareSpecs": false,
    "memoryGiB": 16,
    "name": "ml.m5.xlarge",
    "vcpuNum": 4
   },
   {
    "_defaultOrder": 6,
    "_isFastLaunch": false,
    "category": "General purpose",
    "gpuNum": 0,
    "hideHardwareSpecs": false,
    "memoryGiB": 32,
    "name": "ml.m5.2xlarge",
    "vcpuNum": 8
   },
   {
    "_defaultOrder": 7,
    "_isFastLaunch": false,
    "category": "General purpose",
    "gpuNum": 0,
    "hideHardwareSpecs": false,
    "memoryGiB": 64,
    "name": "ml.m5.4xlarge",
    "vcpuNum": 16
   },
   {
    "_defaultOrder": 8,
    "_isFastLaunch": false,
    "category": "General purpose",
    "gpuNum": 0,
    "hideHardwareSpecs": false,
    "memoryGiB": 128,
    "name": "ml.m5.8xlarge",
    "vcpuNum": 32
   },
   {
    "_defaultOrder": 9,
    "_isFastLaunch": false,
    "category": "General purpose",
    "gpuNum": 0,
    "hideHardwareSpecs": false,
    "memoryGiB": 192,
    "name": "ml.m5.12xlarge",
    "vcpuNum": 48
   },
   {
    "_defaultOrder": 10,
    "_isFastLaunch": false,
    "category": "General purpose",
    "gpuNum": 0,
    "hideHardwareSpecs": false,
    "memoryGiB": 256,
    "name": "ml.m5.16xlarge",
    "vcpuNum": 64
   },
   {
    "_defaultOrder": 11,
    "_isFastLaunch": false,
    "category": "General purpose",
    "gpuNum": 0,
    "hideHardwareSpecs": false,
    "memoryGiB": 384,
    "name": "ml.m5.24xlarge",
    "vcpuNum": 96
   },
   {
    "_defaultOrder": 12,
    "_isFastLaunch": false,
    "category": "General purpose",
    "gpuNum": 0,
    "hideHardwareSpecs": false,
    "memoryGiB": 8,
    "name": "ml.m5d.large",
    "vcpuNum": 2
   },
   {
    "_defaultOrder": 13,
    "_isFastLaunch": false,
    "category": "General purpose",
    "gpuNum": 0,
    "hideHardwareSpecs": false,
    "memoryGiB": 16,
    "name": "ml.m5d.xlarge",
    "vcpuNum": 4
   },
   {
    "_defaultOrder": 14,
    "_isFastLaunch": false,
    "category": "General purpose",
    "gpuNum": 0,
    "hideHardwareSpecs": false,
    "memoryGiB": 32,
    "name": "ml.m5d.2xlarge",
    "vcpuNum": 8
   },
   {
    "_defaultOrder": 15,
    "_isFastLaunch": false,
    "category": "General purpose",
    "gpuNum": 0,
    "hideHardwareSpecs": false,
    "memoryGiB": 64,
    "name": "ml.m5d.4xlarge",
    "vcpuNum": 16
   },
   {
    "_defaultOrder": 16,
    "_isFastLaunch": false,
    "category": "General purpose",
    "gpuNum": 0,
    "hideHardwareSpecs": false,
    "memoryGiB": 128,
    "name": "ml.m5d.8xlarge",
    "vcpuNum": 32
   },
   {
    "_defaultOrder": 17,
    "_isFastLaunch": false,
    "category": "General purpose",
    "gpuNum": 0,
    "hideHardwareSpecs": false,
    "memoryGiB": 192,
    "name": "ml.m5d.12xlarge",
    "vcpuNum": 48
   },
   {
    "_defaultOrder": 18,
    "_isFastLaunch": false,
    "category": "General purpose",
    "gpuNum": 0,
    "hideHardwareSpecs": false,
    "memoryGiB": 256,
    "name": "ml.m5d.16xlarge",
    "vcpuNum": 64
   },
   {
    "_defaultOrder": 19,
    "_isFastLaunch": false,
    "category": "General purpose",
    "gpuNum": 0,
    "hideHardwareSpecs": false,
    "memoryGiB": 384,
    "name": "ml.m5d.24xlarge",
    "vcpuNum": 96
   },
   {
    "_defaultOrder": 20,
    "_isFastLaunch": false,
    "category": "General purpose",
    "gpuNum": 0,
    "hideHardwareSpecs": true,
    "memoryGiB": 0,
    "name": "ml.geospatial.interactive",
    "supportedImageNames": [
     "sagemaker-geospatial-v1-0"
    ],
    "vcpuNum": 0
   },
   {
    "_defaultOrder": 21,
    "_isFastLaunch": true,
    "category": "Compute optimized",
    "gpuNum": 0,
    "hideHardwareSpecs": false,
    "memoryGiB": 4,
    "name": "ml.c5.large",
    "vcpuNum": 2
   },
   {
    "_defaultOrder": 22,
    "_isFastLaunch": false,
    "category": "Compute optimized",
    "gpuNum": 0,
    "hideHardwareSpecs": false,
    "memoryGiB": 8,
    "name": "ml.c5.xlarge",
    "vcpuNum": 4
   },
   {
    "_defaultOrder": 23,
    "_isFastLaunch": false,
    "category": "Compute optimized",
    "gpuNum": 0,
    "hideHardwareSpecs": false,
    "memoryGiB": 16,
    "name": "ml.c5.2xlarge",
    "vcpuNum": 8
   },
   {
    "_defaultOrder": 24,
    "_isFastLaunch": false,
    "category": "Compute optimized",
    "gpuNum": 0,
    "hideHardwareSpecs": false,
    "memoryGiB": 32,
    "name": "ml.c5.4xlarge",
    "vcpuNum": 16
   },
   {
    "_defaultOrder": 25,
    "_isFastLaunch": false,
    "category": "Compute optimized",
    "gpuNum": 0,
    "hideHardwareSpecs": false,
    "memoryGiB": 72,
    "name": "ml.c5.9xlarge",
    "vcpuNum": 36
   },
   {
    "_defaultOrder": 26,
    "_isFastLaunch": false,
    "category": "Compute optimized",
    "gpuNum": 0,
    "hideHardwareSpecs": false,
    "memoryGiB": 96,
    "name": "ml.c5.12xlarge",
    "vcpuNum": 48
   },
   {
    "_defaultOrder": 27,
    "_isFastLaunch": false,
    "category": "Compute optimized",
    "gpuNum": 0,
    "hideHardwareSpecs": false,
    "memoryGiB": 144,
    "name": "ml.c5.18xlarge",
    "vcpuNum": 72
   },
   {
    "_defaultOrder": 28,
    "_isFastLaunch": false,
    "category": "Compute optimized",
    "gpuNum": 0,
    "hideHardwareSpecs": false,
    "memoryGiB": 192,
    "name": "ml.c5.24xlarge",
    "vcpuNum": 96
   },
   {
    "_defaultOrder": 29,
    "_isFastLaunch": true,
    "category": "Accelerated computing",
    "gpuNum": 1,
    "hideHardwareSpecs": false,
    "memoryGiB": 16,
    "name": "ml.g4dn.xlarge",
    "vcpuNum": 4
   },
   {
    "_defaultOrder": 30,
    "_isFastLaunch": false,
    "category": "Accelerated computing",
    "gpuNum": 1,
    "hideHardwareSpecs": false,
    "memoryGiB": 32,
    "name": "ml.g4dn.2xlarge",
    "vcpuNum": 8
   },
   {
    "_defaultOrder": 31,
    "_isFastLaunch": false,
    "category": "Accelerated computing",
    "gpuNum": 1,
    "hideHardwareSpecs": false,
    "memoryGiB": 64,
    "name": "ml.g4dn.4xlarge",
    "vcpuNum": 16
   },
   {
    "_defaultOrder": 32,
    "_isFastLaunch": false,
    "category": "Accelerated computing",
    "gpuNum": 1,
    "hideHardwareSpecs": false,
    "memoryGiB": 128,
    "name": "ml.g4dn.8xlarge",
    "vcpuNum": 32
   },
   {
    "_defaultOrder": 33,
    "_isFastLaunch": false,
    "category": "Accelerated computing",
    "gpuNum": 4,
    "hideHardwareSpecs": false,
    "memoryGiB": 192,
    "name": "ml.g4dn.12xlarge",
    "vcpuNum": 48
   },
   {
    "_defaultOrder": 34,
    "_isFastLaunch": false,
    "category": "Accelerated computing",
    "gpuNum": 1,
    "hideHardwareSpecs": false,
    "memoryGiB": 256,
    "name": "ml.g4dn.16xlarge",
    "vcpuNum": 64
   },
   {
    "_defaultOrder": 35,
    "_isFastLaunch": false,
    "category": "Accelerated computing",
    "gpuNum": 1,
    "hideHardwareSpecs": false,
    "memoryGiB": 61,
    "name": "ml.p3.2xlarge",
    "vcpuNum": 8
   },
   {
    "_defaultOrder": 36,
    "_isFastLaunch": false,
    "category": "Accelerated computing",
    "gpuNum": 4,
    "hideHardwareSpecs": false,
    "memoryGiB": 244,
    "name": "ml.p3.8xlarge",
    "vcpuNum": 32
   },
   {
    "_defaultOrder": 37,
    "_isFastLaunch": false,
    "category": "Accelerated computing",
    "gpuNum": 8,
    "hideHardwareSpecs": false,
    "memoryGiB": 488,
    "name": "ml.p3.16xlarge",
    "vcpuNum": 64
   },
   {
    "_defaultOrder": 38,
    "_isFastLaunch": false,
    "category": "Accelerated computing",
    "gpuNum": 8,
    "hideHardwareSpecs": false,
    "memoryGiB": 768,
    "name": "ml.p3dn.24xlarge",
    "vcpuNum": 96
   },
   {
    "_defaultOrder": 39,
    "_isFastLaunch": false,
    "category": "Memory Optimized",
    "gpuNum": 0,
    "hideHardwareSpecs": false,
    "memoryGiB": 16,
    "name": "ml.r5.large",
    "vcpuNum": 2
   },
   {
    "_defaultOrder": 40,
    "_isFastLaunch": false,
    "category": "Memory Optimized",
    "gpuNum": 0,
    "hideHardwareSpecs": false,
    "memoryGiB": 32,
    "name": "ml.r5.xlarge",
    "vcpuNum": 4
   },
   {
    "_defaultOrder": 41,
    "_isFastLaunch": false,
    "category": "Memory Optimized",
    "gpuNum": 0,
    "hideHardwareSpecs": false,
    "memoryGiB": 64,
    "name": "ml.r5.2xlarge",
    "vcpuNum": 8
   },
   {
    "_defaultOrder": 42,
    "_isFastLaunch": false,
    "category": "Memory Optimized",
    "gpuNum": 0,
    "hideHardwareSpecs": false,
    "memoryGiB": 128,
    "name": "ml.r5.4xlarge",
    "vcpuNum": 16
   },
   {
    "_defaultOrder": 43,
    "_isFastLaunch": false,
    "category": "Memory Optimized",
    "gpuNum": 0,
    "hideHardwareSpecs": false,
    "memoryGiB": 256,
    "name": "ml.r5.8xlarge",
    "vcpuNum": 32
   },
   {
    "_defaultOrder": 44,
    "_isFastLaunch": false,
    "category": "Memory Optimized",
    "gpuNum": 0,
    "hideHardwareSpecs": false,
    "memoryGiB": 384,
    "name": "ml.r5.12xlarge",
    "vcpuNum": 48
   },
   {
    "_defaultOrder": 45,
    "_isFastLaunch": false,
    "category": "Memory Optimized",
    "gpuNum": 0,
    "hideHardwareSpecs": false,
    "memoryGiB": 512,
    "name": "ml.r5.16xlarge",
    "vcpuNum": 64
   },
   {
    "_defaultOrder": 46,
    "_isFastLaunch": false,
    "category": "Memory Optimized",
    "gpuNum": 0,
    "hideHardwareSpecs": false,
    "memoryGiB": 768,
    "name": "ml.r5.24xlarge",
    "vcpuNum": 96
   },
   {
    "_defaultOrder": 47,
    "_isFastLaunch": false,
    "category": "Accelerated computing",
    "gpuNum": 1,
    "hideHardwareSpecs": false,
    "memoryGiB": 16,
    "name": "ml.g5.xlarge",
    "vcpuNum": 4
   },
   {
    "_defaultOrder": 48,
    "_isFastLaunch": false,
    "category": "Accelerated computing",
    "gpuNum": 1,
    "hideHardwareSpecs": false,
    "memoryGiB": 32,
    "name": "ml.g5.2xlarge",
    "vcpuNum": 8
   },
   {
    "_defaultOrder": 49,
    "_isFastLaunch": false,
    "category": "Accelerated computing",
    "gpuNum": 1,
    "hideHardwareSpecs": false,
    "memoryGiB": 64,
    "name": "ml.g5.4xlarge",
    "vcpuNum": 16
   },
   {
    "_defaultOrder": 50,
    "_isFastLaunch": false,
    "category": "Accelerated computing",
    "gpuNum": 1,
    "hideHardwareSpecs": false,
    "memoryGiB": 128,
    "name": "ml.g5.8xlarge",
    "vcpuNum": 32
   },
   {
    "_defaultOrder": 51,
    "_isFastLaunch": false,
    "category": "Accelerated computing",
    "gpuNum": 1,
    "hideHardwareSpecs": false,
    "memoryGiB": 256,
    "name": "ml.g5.16xlarge",
    "vcpuNum": 64
   },
   {
    "_defaultOrder": 52,
    "_isFastLaunch": false,
    "category": "Accelerated computing",
    "gpuNum": 4,
    "hideHardwareSpecs": false,
    "memoryGiB": 192,
    "name": "ml.g5.12xlarge",
    "vcpuNum": 48
   },
   {
    "_defaultOrder": 53,
    "_isFastLaunch": false,
    "category": "Accelerated computing",
    "gpuNum": 4,
    "hideHardwareSpecs": false,
    "memoryGiB": 384,
    "name": "ml.g5.24xlarge",
    "vcpuNum": 96
   },
   {
    "_defaultOrder": 54,
    "_isFastLaunch": false,
    "category": "Accelerated computing",
    "gpuNum": 8,
    "hideHardwareSpecs": false,
    "memoryGiB": 768,
    "name": "ml.g5.48xlarge",
    "vcpuNum": 192
   },
   {
    "_defaultOrder": 55,
    "_isFastLaunch": false,
    "category": "Accelerated computing",
    "gpuNum": 8,
    "hideHardwareSpecs": false,
    "memoryGiB": 1152,
    "name": "ml.p4d.24xlarge",
    "vcpuNum": 96
   },
   {
    "_defaultOrder": 56,
    "_isFastLaunch": false,
    "category": "Accelerated computing",
    "gpuNum": 8,
    "hideHardwareSpecs": false,
    "memoryGiB": 1152,
    "name": "ml.p4de.24xlarge",
    "vcpuNum": 96
   },
   {
    "_defaultOrder": 57,
    "_isFastLaunch": false,
    "category": "Accelerated computing",
    "gpuNum": 0,
    "hideHardwareSpecs": false,
    "memoryGiB": 32,
    "name": "ml.trn1.2xlarge",
    "vcpuNum": 8
   },
   {
    "_defaultOrder": 58,
    "_isFastLaunch": false,
    "category": "Accelerated computing",
    "gpuNum": 0,
    "hideHardwareSpecs": false,
    "memoryGiB": 512,
    "name": "ml.trn1.32xlarge",
    "vcpuNum": 128
   },
   {
    "_defaultOrder": 59,
    "_isFastLaunch": false,
    "category": "Accelerated computing",
    "gpuNum": 0,
    "hideHardwareSpecs": false,
    "memoryGiB": 512,
    "name": "ml.trn1n.32xlarge",
    "vcpuNum": 128
   }
  ],
  "instance_type": "ml.t3.medium",
  "kernelspec": {
   "display_name": "Python 3 (Data Science 3.0)",
   "language": "python",
   "name": "python3__SAGEMAKER_INTERNAL__arn:aws:sagemaker:us-east-1:081325390199:image/sagemaker-data-science-310-v1"
  },
  "language_info": {
   "codemirror_mode": {
    "name": "ipython",
    "version": 3
   },
   "file_extension": ".py",
   "mimetype": "text/x-python",
   "name": "python",
   "nbconvert_exporter": "python",
   "pygments_lexer": "ipython3",
   "version": "3.10.6"
  }
 },
 "nbformat": 4,
 "nbformat_minor": 5
}
