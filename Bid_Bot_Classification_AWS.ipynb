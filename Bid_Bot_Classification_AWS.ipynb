{
 "cells": [
  {
   "cell_type": "markdown",
   "id": "282e1204-1443-482a-8f82-754c665e7f02",
   "metadata": {},
   "source": [
    "# Auction Bot Detection"
   ]
  },
  {
   "cell_type": "code",
   "execution_count": 2,
   "id": "a48731ee-64c9-4d1e-92bd-e5819e6c1334",
   "metadata": {
    "tags": []
   },
   "outputs": [
    {
     "name": "stdout",
     "output_type": "stream",
     "text": [
      "sagemaker.config INFO - Not applying SDK defaults from location: /etc/xdg/sagemaker/config.yaml\n",
      "sagemaker.config INFO - Not applying SDK defaults from location: /root/.config/sagemaker/config.yaml\n"
     ]
    }
   ],
   "source": [
    "#Import libraries \n",
    "import numpy as np\n",
    "import pandas as pd\n",
    "import matplotlib.pyplot as plt\n",
    "%matplotlib inline\n",
    "import boto3\n",
    "import sagemaker\n",
    "import json\n",
    "import random\n",
    "import io\n",
    "from sagemaker.session import Session\n",
    "from sagemaker.s3 import S3Downloader, S3Uploader\n",
    "import time\n",
    "from time import gmtime, strftime, sleep\n",
    "from sagemaker.feature_store.feature_group import FeatureGroup\n",
    "from sagemaker.debugger import Rule, ProfilerRule, rule_configs\n",
    "from sklearn import tree, metrics\n",
    "from sklearn.ensemble import GradientBoostingClassifier\n",
    "from datetime import datetime, timedelta\n",
    "from sagemaker import get_execution_role, image_uris\n",
    "from sagemaker.clarify import (\n",
    "    BiasConfig,\n",
    "    DataConfig,\n",
    "    ModelConfig,\n",
    "    ModelPredictedLabelConfig,\n",
    "    SHAPConfig,\n",
    ")\n",
    "from sagemaker.model import Model\n",
    "from sagemaker.model_monitor import (\n",
    "    BiasAnalysisConfig,\n",
    "    CronExpressionGenerator,\n",
    "    DataCaptureConfig,\n",
    "    EndpointInput,\n",
    "    ExplainabilityAnalysisConfig,\n",
    "    ModelBiasMonitor,\n",
    "    ModelExplainabilityMonitor,\n",
    ")\n",
    "\n",
    "from sagemaker.predictor import Predictor\n",
    "from sagemaker.serializers import CSVSerializer\n",
    "from sagemaker.model_monitor import ModelQualityMonitor, EndpointInput, CronExpressionGenerator\n",
    "from sagemaker.model_monitor.dataset_format import DatasetFormat\n",
    "from threading import Thread"
   ]
  },
  {
   "cell_type": "markdown",
   "id": "a74a0c9c-d511-4b9a-bc58-e250807ead2c",
   "metadata": {},
   "source": [
    "# S3 Datalake"
   ]
  },
  {
   "cell_type": "code",
   "execution_count": 3,
   "id": "a38e4e3f-d48f-4a39-b23e-ca69e1559745",
   "metadata": {
    "tags": []
   },
   "outputs": [],
   "source": [
    "import warnings \n",
    "warnings.filterwarnings('ignore') "
   ]
  },
  {
   "cell_type": "code",
   "execution_count": 4,
   "id": "e4f9e8e5-4a43-4064-a9f9-c0774f27b506",
   "metadata": {
    "tags": []
   },
   "outputs": [
    {
     "data": {
      "text/html": [
       "<div>\n",
       "<style scoped>\n",
       "    .dataframe tbody tr th:only-of-type {\n",
       "        vertical-align: middle;\n",
       "    }\n",
       "\n",
       "    .dataframe tbody tr th {\n",
       "        vertical-align: top;\n",
       "    }\n",
       "\n",
       "    .dataframe thead th {\n",
       "        text-align: right;\n",
       "    }\n",
       "</style>\n",
       "<table border=\"1\" class=\"dataframe\">\n",
       "  <thead>\n",
       "    <tr style=\"text-align: right;\">\n",
       "      <th></th>\n",
       "      <th>bidder_id</th>\n",
       "      <th>payment_account</th>\n",
       "      <th>address</th>\n",
       "      <th>outcome</th>\n",
       "    </tr>\n",
       "  </thead>\n",
       "  <tbody>\n",
       "    <tr>\n",
       "      <th>0</th>\n",
       "      <td>91a3c57b13234af24875c56fb7e2b2f4rb56a</td>\n",
       "      <td>a3d2de7675556553a5f08e4c88d2c228754av</td>\n",
       "      <td>a3d2de7675556553a5f08e4c88d2c228vt0u4</td>\n",
       "      <td>0.0</td>\n",
       "    </tr>\n",
       "    <tr>\n",
       "      <th>1</th>\n",
       "      <td>624f258b49e77713fc34034560f93fb3hu3jo</td>\n",
       "      <td>a3d2de7675556553a5f08e4c88d2c228v1sga</td>\n",
       "      <td>ae87054e5a97a8f840a3991d12611fdcrfbq3</td>\n",
       "      <td>0.0</td>\n",
       "    </tr>\n",
       "    <tr>\n",
       "      <th>2</th>\n",
       "      <td>1c5f4fc669099bfbfac515cd26997bd12ruaj</td>\n",
       "      <td>a3d2de7675556553a5f08e4c88d2c2280cybl</td>\n",
       "      <td>92520288b50f03907041887884ba49c0cl0pd</td>\n",
       "      <td>0.0</td>\n",
       "    </tr>\n",
       "    <tr>\n",
       "      <th>3</th>\n",
       "      <td>4bee9aba2abda51bf43d639013d6efe12iycd</td>\n",
       "      <td>51d80e233f7b6a7dfdee484a3c120f3b2ita8</td>\n",
       "      <td>4cb9717c8ad7e88a9a284989dd79b98dbevyi</td>\n",
       "      <td>0.0</td>\n",
       "    </tr>\n",
       "    <tr>\n",
       "      <th>4</th>\n",
       "      <td>4ab12bc61c82ddd9c2d65e60555808acqgos1</td>\n",
       "      <td>a3d2de7675556553a5f08e4c88d2c22857ddh</td>\n",
       "      <td>2a96c3ce94b3be921e0296097b88b56a7x1ji</td>\n",
       "      <td>0.0</td>\n",
       "    </tr>\n",
       "  </tbody>\n",
       "</table>\n",
       "</div>"
      ],
      "text/plain": [
       "                               bidder_id  \\\n",
       "0  91a3c57b13234af24875c56fb7e2b2f4rb56a   \n",
       "1  624f258b49e77713fc34034560f93fb3hu3jo   \n",
       "2  1c5f4fc669099bfbfac515cd26997bd12ruaj   \n",
       "3  4bee9aba2abda51bf43d639013d6efe12iycd   \n",
       "4  4ab12bc61c82ddd9c2d65e60555808acqgos1   \n",
       "\n",
       "                         payment_account  \\\n",
       "0  a3d2de7675556553a5f08e4c88d2c228754av   \n",
       "1  a3d2de7675556553a5f08e4c88d2c228v1sga   \n",
       "2  a3d2de7675556553a5f08e4c88d2c2280cybl   \n",
       "3  51d80e233f7b6a7dfdee484a3c120f3b2ita8   \n",
       "4  a3d2de7675556553a5f08e4c88d2c22857ddh   \n",
       "\n",
       "                                 address  outcome  \n",
       "0  a3d2de7675556553a5f08e4c88d2c228vt0u4      0.0  \n",
       "1  ae87054e5a97a8f840a3991d12611fdcrfbq3      0.0  \n",
       "2  92520288b50f03907041887884ba49c0cl0pd      0.0  \n",
       "3  4cb9717c8ad7e88a9a284989dd79b98dbevyi      0.0  \n",
       "4  2a96c3ce94b3be921e0296097b88b56a7x1ji      0.0  "
      ]
     },
     "execution_count": 4,
     "metadata": {},
     "output_type": "execute_result"
    }
   ],
   "source": [
    "#View test and bid files\n",
    "train_data = pd.read_csv(\"train.csv\")\n",
    "train_data['outcome'] = train_data['outcome'].astype(int)\n",
    "train_data.head()"
   ]
  },
  {
   "cell_type": "code",
   "execution_count": 5,
   "id": "eb7cfa0a-fd0e-4016-8af9-c4832fccff52",
   "metadata": {
    "tags": []
   },
   "outputs": [
    {
     "data": {
      "text/html": [
       "<div>\n",
       "<style scoped>\n",
       "    .dataframe tbody tr th:only-of-type {\n",
       "        vertical-align: middle;\n",
       "    }\n",
       "\n",
       "    .dataframe tbody tr th {\n",
       "        vertical-align: top;\n",
       "    }\n",
       "\n",
       "    .dataframe thead th {\n",
       "        text-align: right;\n",
       "    }\n",
       "</style>\n",
       "<table border=\"1\" class=\"dataframe\">\n",
       "  <thead>\n",
       "    <tr style=\"text-align: right;\">\n",
       "      <th></th>\n",
       "      <th>bid_id</th>\n",
       "      <th>bidder_id</th>\n",
       "      <th>auction</th>\n",
       "      <th>merchandise</th>\n",
       "      <th>device</th>\n",
       "      <th>time</th>\n",
       "      <th>country</th>\n",
       "      <th>ip</th>\n",
       "      <th>url</th>\n",
       "    </tr>\n",
       "  </thead>\n",
       "  <tbody>\n",
       "    <tr>\n",
       "      <th>0</th>\n",
       "      <td>0</td>\n",
       "      <td>8dac2b259fd1c6d1120e519fb1ac14fbqvax8</td>\n",
       "      <td>ewmzr</td>\n",
       "      <td>jewelry</td>\n",
       "      <td>phone0</td>\n",
       "      <td>9759243157894736</td>\n",
       "      <td>us</td>\n",
       "      <td>69.166.231.58</td>\n",
       "      <td>vasstdc27m7nks3</td>\n",
       "    </tr>\n",
       "    <tr>\n",
       "      <th>1</th>\n",
       "      <td>1</td>\n",
       "      <td>668d393e858e8126275433046bbd35c6tywop</td>\n",
       "      <td>aeqok</td>\n",
       "      <td>furniture</td>\n",
       "      <td>phone1</td>\n",
       "      <td>9759243157894736</td>\n",
       "      <td>in</td>\n",
       "      <td>50.201.125.84</td>\n",
       "      <td>jmqlhflrzwuay9c</td>\n",
       "    </tr>\n",
       "    <tr>\n",
       "      <th>2</th>\n",
       "      <td>2</td>\n",
       "      <td>aa5f360084278b35d746fa6af3a7a1a5ra3xe</td>\n",
       "      <td>wa00e</td>\n",
       "      <td>home goods</td>\n",
       "      <td>phone2</td>\n",
       "      <td>9759243157894736</td>\n",
       "      <td>py</td>\n",
       "      <td>112.54.208.157</td>\n",
       "      <td>vasstdc27m7nks3</td>\n",
       "    </tr>\n",
       "    <tr>\n",
       "      <th>3</th>\n",
       "      <td>3</td>\n",
       "      <td>3939ac3ef7d472a59a9c5f893dd3e39fh9ofi</td>\n",
       "      <td>jefix</td>\n",
       "      <td>jewelry</td>\n",
       "      <td>phone4</td>\n",
       "      <td>9759243157894736</td>\n",
       "      <td>in</td>\n",
       "      <td>18.99.175.133</td>\n",
       "      <td>vasstdc27m7nks3</td>\n",
       "    </tr>\n",
       "    <tr>\n",
       "      <th>4</th>\n",
       "      <td>4</td>\n",
       "      <td>8393c48eaf4b8fa96886edc7cf27b372dsibi</td>\n",
       "      <td>jefix</td>\n",
       "      <td>jewelry</td>\n",
       "      <td>phone5</td>\n",
       "      <td>9759243157894736</td>\n",
       "      <td>in</td>\n",
       "      <td>145.138.5.37</td>\n",
       "      <td>vasstdc27m7nks3</td>\n",
       "    </tr>\n",
       "  </tbody>\n",
       "</table>\n",
       "</div>"
      ],
      "text/plain": [
       "   bid_id                              bidder_id auction merchandise  device  \\\n",
       "0       0  8dac2b259fd1c6d1120e519fb1ac14fbqvax8   ewmzr     jewelry  phone0   \n",
       "1       1  668d393e858e8126275433046bbd35c6tywop   aeqok   furniture  phone1   \n",
       "2       2  aa5f360084278b35d746fa6af3a7a1a5ra3xe   wa00e  home goods  phone2   \n",
       "3       3  3939ac3ef7d472a59a9c5f893dd3e39fh9ofi   jefix     jewelry  phone4   \n",
       "4       4  8393c48eaf4b8fa96886edc7cf27b372dsibi   jefix     jewelry  phone5   \n",
       "\n",
       "               time country              ip              url  \n",
       "0  9759243157894736      us   69.166.231.58  vasstdc27m7nks3  \n",
       "1  9759243157894736      in   50.201.125.84  jmqlhflrzwuay9c  \n",
       "2  9759243157894736      py  112.54.208.157  vasstdc27m7nks3  \n",
       "3  9759243157894736      in   18.99.175.133  vasstdc27m7nks3  \n",
       "4  9759243157894736      in    145.138.5.37  vasstdc27m7nks3  "
      ]
     },
     "execution_count": 5,
     "metadata": {},
     "output_type": "execute_result"
    }
   ],
   "source": [
    "bid_data = pd.read_csv(\"bids.csv\")\n",
    "bid_data.head()"
   ]
  },
  {
   "cell_type": "code",
   "execution_count": 6,
   "id": "3e83aaf5-15b3-4e03-8776-0789b54d5b2e",
   "metadata": {
    "tags": []
   },
   "outputs": [],
   "source": [
    "test_data = pd.read_csv(\"test.csv\")"
   ]
  },
  {
   "cell_type": "code",
   "execution_count": 7,
   "id": "2ba0a02a-45c0-49c8-82d1-4b8e7b606338",
   "metadata": {
    "tags": []
   },
   "outputs": [
    {
     "name": "stdout",
     "output_type": "stream",
     "text": [
      "Bids Dataset Shape:  (7656334, 9)\n",
      "Train Dataset Shape:  (2013, 4)\n",
      "Test Dataset Shape:  (4700, 3)\n"
     ]
    }
   ],
   "source": [
    "print(\"Bids Dataset Shape: \", bid_data.shape)\n",
    "print(\"Train Dataset Shape: \", train_data.shape)\n",
    "print(\"Test Dataset Shape: \", test_data.shape)"
   ]
  },
  {
   "cell_type": "code",
   "execution_count": 8,
   "id": "1554d243-c069-4b82-89f0-7d824165c7a2",
   "metadata": {
    "tags": []
   },
   "outputs": [
    {
     "data": {
      "text/plain": [
       "'s3://sagemaker-us-east-1-385225481548/facebook-recruiting-iv-human-or-bot/bids.csv'"
      ]
     },
     "execution_count": 8,
     "metadata": {},
     "output_type": "execute_result"
    }
   ],
   "source": [
    "#Setup S3 bucket and upload files \n",
    "bucket = Session().default_bucket()\n",
    "region = boto3.Session().region_name\n",
    "s3_client = boto3.client(\"s3\", region_name=region)\n",
    "sess = sagemaker.Session()\n",
    "role = sagemaker.get_execution_role()\n",
    "\n",
    "S3Uploader.upload(\"test.csv\", f\"s3://{bucket}/facebook-recruiting-iv-human-or-bot\")\n",
    "S3Uploader.upload(\"train.csv\", f\"s3://{bucket}/facebook-recruiting-iv-human-or-bot\")\n",
    "S3Uploader.upload(\"bids.csv\", f\"s3://{bucket}/facebook-recruiting-iv-human-or-bot\")"
   ]
  },
  {
   "cell_type": "markdown",
   "id": "8844978c-260a-4c53-ad35-4acf2b8755a2",
   "metadata": {},
   "source": [
    "# Athena Table SetUp"
   ]
  },
  {
   "cell_type": "code",
   "execution_count": 9,
   "id": "6bc2ccdd-c1d5-43ff-b1ed-0b0a907f91aa",
   "metadata": {},
   "outputs": [
    {
     "name": "stdout",
     "output_type": "stream",
     "text": [
      "Collecting pyathena\n",
      "  Using cached pyathena-3.8.3-py3-none-any.whl.metadata (6.2 kB)\n",
      "Requirement already satisfied: boto3>=1.26.4 in /opt/conda/lib/python3.10/site-packages (from pyathena) (1.34.84)\n",
      "Requirement already satisfied: botocore>=1.29.4 in /opt/conda/lib/python3.10/site-packages (from pyathena) (1.34.84)\n",
      "Requirement already satisfied: fsspec in /opt/conda/lib/python3.10/site-packages (from pyathena) (2024.3.1)\n",
      "Requirement already satisfied: tenacity>=4.1.0 in /opt/conda/lib/python3.10/site-packages (from pyathena) (8.2.3)\n",
      "Requirement already satisfied: jmespath<2.0.0,>=0.7.1 in /opt/conda/lib/python3.10/site-packages (from boto3>=1.26.4->pyathena) (1.0.1)\n",
      "Requirement already satisfied: s3transfer<0.11.0,>=0.10.0 in /opt/conda/lib/python3.10/site-packages (from boto3>=1.26.4->pyathena) (0.10.1)\n",
      "Requirement already satisfied: python-dateutil<3.0.0,>=2.1 in /opt/conda/lib/python3.10/site-packages (from botocore>=1.29.4->pyathena) (2.9.0)\n",
      "Requirement already satisfied: urllib3!=2.2.0,<3,>=1.25.4 in /opt/conda/lib/python3.10/site-packages (from botocore>=1.29.4->pyathena) (2.2.1)\n",
      "Requirement already satisfied: six>=1.5 in /opt/conda/lib/python3.10/site-packages (from python-dateutil<3.0.0,>=2.1->botocore>=1.29.4->pyathena) (1.16.0)\n",
      "Using cached pyathena-3.8.3-py3-none-any.whl (75 kB)\n",
      "Installing collected packages: pyathena\n",
      "Successfully installed pyathena-3.8.3\n",
      "\u001b[33mWARNING: Running pip as the 'root' user can result in broken permissions and conflicting behaviour with the system package manager. It is recommended to use a virtual environment instead: https://pip.pypa.io/warnings/venv\u001b[0m\u001b[33m\n",
      "\u001b[0m"
     ]
    }
   ],
   "source": [
    "!pip install pyathena"
   ]
  },
  {
   "cell_type": "code",
   "execution_count": 10,
   "id": "58f4360a-7366-414c-b620-446d0a6b0834",
   "metadata": {
    "tags": []
   },
   "outputs": [],
   "source": [
    "from pyathena import connect"
   ]
  },
  {
   "cell_type": "code",
   "execution_count": 11,
   "id": "36f0cc81-33da-4faf-b173-d17c3ee7afae",
   "metadata": {
    "tags": []
   },
   "outputs": [
    {
     "data": {
      "text/html": [
       "<div>\n",
       "<style scoped>\n",
       "    .dataframe tbody tr th:only-of-type {\n",
       "        vertical-align: middle;\n",
       "    }\n",
       "\n",
       "    .dataframe tbody tr th {\n",
       "        vertical-align: top;\n",
       "    }\n",
       "\n",
       "    .dataframe thead th {\n",
       "        text-align: right;\n",
       "    }\n",
       "</style>\n",
       "<table border=\"1\" class=\"dataframe\">\n",
       "  <thead>\n",
       "    <tr style=\"text-align: right;\">\n",
       "      <th></th>\n",
       "    </tr>\n",
       "  </thead>\n",
       "  <tbody>\n",
       "  </tbody>\n",
       "</table>\n",
       "</div>"
      ],
      "text/plain": [
       "Empty DataFrame\n",
       "Columns: []\n",
       "Index: []"
      ]
     },
     "execution_count": 11,
     "metadata": {},
     "output_type": "execute_result"
    }
   ],
   "source": [
    "#Create Athena database and S3 staging directory\n",
    "database_name = \"bot_bids\"\n",
    "s3_staging_dir = \"s3://{0}/athena/staging\".format(bucket)\n",
    "conn = connect(region_name=region, s3_staging_dir=s3_staging_dir)\n",
    "statement = \"CREATE DATABASE IF NOT EXISTS {}\".format(database_name)\n",
    "pd.read_sql(statement, conn)"
   ]
  },
  {
   "cell_type": "code",
   "execution_count": 12,
   "id": "85ce8dc6-cb67-4099-81d9-a33db2881dbe",
   "metadata": {
    "tags": []
   },
   "outputs": [
    {
     "data": {
      "text/html": [
       "<div>\n",
       "<style scoped>\n",
       "    .dataframe tbody tr th:only-of-type {\n",
       "        vertical-align: middle;\n",
       "    }\n",
       "\n",
       "    .dataframe tbody tr th {\n",
       "        vertical-align: top;\n",
       "    }\n",
       "\n",
       "    .dataframe thead th {\n",
       "        text-align: right;\n",
       "    }\n",
       "</style>\n",
       "<table border=\"1\" class=\"dataframe\">\n",
       "  <thead>\n",
       "    <tr style=\"text-align: right;\">\n",
       "      <th></th>\n",
       "      <th>database_name</th>\n",
       "    </tr>\n",
       "  </thead>\n",
       "  <tbody>\n",
       "    <tr>\n",
       "      <th>0</th>\n",
       "      <td>bot_bids</td>\n",
       "    </tr>\n",
       "  </tbody>\n",
       "</table>\n",
       "</div>"
      ],
      "text/plain": [
       "  database_name\n",
       "0      bot_bids"
      ]
     },
     "execution_count": 12,
     "metadata": {},
     "output_type": "execute_result"
    }
   ],
   "source": [
    "#Verify database created successfully\n",
    "statement = \"SHOW DATABASES\"\n",
    "df_show = pd.read_sql(statement, conn)\n",
    "df_show.head(1)"
   ]
  },
  {
   "cell_type": "code",
   "execution_count": 13,
   "id": "6958fe75-e838-40ce-8852-7e490a1401a8",
   "metadata": {
    "tags": []
   },
   "outputs": [
    {
     "name": "stdout",
     "output_type": "stream",
     "text": [
      "CREATE EXTERNAL TABLE IF NOT EXISTS bot_bids.bids(\n",
      "         bid_id int,\n",
      "         bidder_id string,\n",
      "         auction string,\n",
      "         merchandise string,\n",
      "         device string,\n",
      "         time timestamp,\n",
      "         country string,\n",
      "         ip string,\n",
      "         url string\n",
      ") ROW FORMAT DELIMITED FIELDS TERMINATED BY ',' LOCATION 's3://sagemaker-us-east-1-385225481548/facebook-recruiting-iv-human-or-bot/'\n",
      "TBLPROPERTIES ('skip.header.line.count'='1')\n"
     ]
    }
   ],
   "source": [
    "# SQL statement to execute\n",
    "bid_table_name_csv = \"bids\"\n",
    "s3_data_path = f\"s3://{bucket}/facebook-recruiting-iv-human-or-bot/\"\n",
    "statement = \"\"\"CREATE EXTERNAL TABLE IF NOT EXISTS {}.{}(\n",
    "         bid_id int,\n",
    "         bidder_id string,\n",
    "         auction string,\n",
    "         merchandise string,\n",
    "         device string,\n",
    "         time timestamp,\n",
    "         country string,\n",
    "         ip string,\n",
    "         url string\n",
    ") ROW FORMAT DELIMITED FIELDS TERMINATED BY ',' LOCATION '{}'\n",
    "TBLPROPERTIES ('skip.header.line.count'='1')\"\"\".format(\n",
    "    database_name, bid_table_name_csv, s3_data_path\n",
    ")\n",
    "\n",
    "print(statement)"
   ]
  },
  {
   "cell_type": "code",
   "execution_count": 14,
   "id": "478872fc-194b-4e60-a317-d2f36ef0e4ff",
   "metadata": {
    "tags": []
   },
   "outputs": [
    {
     "data": {
      "text/html": [
       "<div>\n",
       "<style scoped>\n",
       "    .dataframe tbody tr th:only-of-type {\n",
       "        vertical-align: middle;\n",
       "    }\n",
       "\n",
       "    .dataframe tbody tr th {\n",
       "        vertical-align: top;\n",
       "    }\n",
       "\n",
       "    .dataframe thead th {\n",
       "        text-align: right;\n",
       "    }\n",
       "</style>\n",
       "<table border=\"1\" class=\"dataframe\">\n",
       "  <thead>\n",
       "    <tr style=\"text-align: right;\">\n",
       "      <th></th>\n",
       "    </tr>\n",
       "  </thead>\n",
       "  <tbody>\n",
       "  </tbody>\n",
       "</table>\n",
       "</div>"
      ],
      "text/plain": [
       "Empty DataFrame\n",
       "Columns: []\n",
       "Index: []"
      ]
     },
     "execution_count": 14,
     "metadata": {},
     "output_type": "execute_result"
    }
   ],
   "source": [
    "pd.read_sql(statement, conn)"
   ]
  },
  {
   "cell_type": "code",
   "execution_count": 15,
   "id": "ac498c9c-ce09-4bdd-974d-209be3f3862b",
   "metadata": {
    "tags": []
   },
   "outputs": [
    {
     "data": {
      "text/html": [
       "<div>\n",
       "<style scoped>\n",
       "    .dataframe tbody tr th:only-of-type {\n",
       "        vertical-align: middle;\n",
       "    }\n",
       "\n",
       "    .dataframe tbody tr th {\n",
       "        vertical-align: top;\n",
       "    }\n",
       "\n",
       "    .dataframe thead th {\n",
       "        text-align: right;\n",
       "    }\n",
       "</style>\n",
       "<table border=\"1\" class=\"dataframe\">\n",
       "  <thead>\n",
       "    <tr style=\"text-align: right;\">\n",
       "      <th></th>\n",
       "      <th>tab_name</th>\n",
       "    </tr>\n",
       "  </thead>\n",
       "  <tbody>\n",
       "    <tr>\n",
       "      <th>0</th>\n",
       "      <td>bids</td>\n",
       "    </tr>\n",
       "  </tbody>\n",
       "</table>\n",
       "</div>"
      ],
      "text/plain": [
       "  tab_name\n",
       "0     bids"
      ]
     },
     "execution_count": 15,
     "metadata": {},
     "output_type": "execute_result"
    }
   ],
   "source": [
    "#Verify the table is created \n",
    "statement = \"SHOW TABLES in {}\".format(database_name)\n",
    "df_show = pd.read_sql(statement, conn)\n",
    "df_show.head(5)"
   ]
  },
  {
   "cell_type": "markdown",
   "id": "cb281022-bea5-4880-b503-eb9dc50b2d17",
   "metadata": {},
   "source": [
    "# Exploratory Data Analysis"
   ]
  },
  {
   "cell_type": "code",
   "execution_count": 16,
   "id": "c7ae3a50-efd3-4433-95b7-b9d1098b18fc",
   "metadata": {
    "tags": []
   },
   "outputs": [
    {
     "data": {
      "text/plain": [
       "bid_id            0\n",
       "bidder_id         0\n",
       "auction           0\n",
       "merchandise       0\n",
       "device            0\n",
       "time              0\n",
       "country        8859\n",
       "ip                0\n",
       "url               0\n",
       "dtype: int64"
      ]
     },
     "execution_count": 16,
     "metadata": {},
     "output_type": "execute_result"
    }
   ],
   "source": [
    "#Find missing values and calculate percentage that are missing\n",
    "bid_data.isnull().sum()"
   ]
  },
  {
   "cell_type": "code",
   "execution_count": 17,
   "id": "eb67e54c-d977-45f6-b820-9f53aaf21738",
   "metadata": {
    "tags": []
   },
   "outputs": [
    {
     "name": "stdout",
     "output_type": "stream",
     "text": [
      "Percentage of missing data in country column:  0.12%\n"
     ]
    }
   ],
   "source": [
    "missing_percent = bid_data['country'].isnull().mean()\n",
    "print(f\"Percentage of missing data in country column: {missing_percent*100: .2f}%\")"
   ]
  },
  {
   "cell_type": "code",
   "execution_count": 18,
   "id": "ba35f7f3-ee7f-46d4-be23-c7f5b6fdb8f5",
   "metadata": {
    "tags": []
   },
   "outputs": [
    {
     "data": {
      "image/png": "[encoded data removed]",
      "text/plain": [
       "<Figure size 640x480 with 1 Axes>"
      ]
     },
     "metadata": {},
     "output_type": "display_data"
    }
   ],
   "source": [
    "#Check country distribution\n",
    "unique_countries = bid_data['country'].value_counts()\n",
    "plt.bar(unique_countries.index, unique_countries.values)\n",
    "plt.xticks(visible=False)   \n",
    "plt.title(\"Distribution of Bidder Countries\")\n",
    "plt.xlabel(\"Country\")\n",
    "plt.ylabel(\"Number of Bids\")\n",
    "plt.show()"
   ]
  },
  {
   "cell_type": "code",
   "execution_count": 19,
   "id": "a773a0b9-29f7-4ea4-b239-43a05b04ca8d",
   "metadata": {
    "tags": []
   },
   "outputs": [],
   "source": [
    "#Since one country has dramaticaly more bids than the others, fill the NA values with the mode\n",
    "bid_data['country'] = bid_data['country'].fillna(bid_data['country'].mode()[0])"
   ]
  },
  {
   "cell_type": "code",
   "execution_count": 20,
   "id": "a6cbb42f-57dc-4ad2-8bd3-3e268d2ce67c",
   "metadata": {
    "tags": []
   },
   "outputs": [
    {
     "data": {
      "image/png": "[encoded data removed]",
      "text/plain": [
       "<Figure size 640x480 with 1 Axes>"
      ]
     },
     "metadata": {},
     "output_type": "display_data"
    }
   ],
   "source": [
    "#Check merchandise distribution \n",
    "unique_products = bid_data['merchandise'].value_counts()\n",
    "plt.bar(unique_products.index, unique_products.values)\n",
    "plt.title(\"Distribution of Merchandise Being Bid On\")\n",
    "plt.xlabel(\"Merchandise Category\")\n",
    "plt.ylabel(\"Number of Bids\")\n",
    "plt.xticks(rotation=90)                    \n",
    "plt.show()"
   ]
  },
  {
   "cell_type": "code",
   "execution_count": 21,
   "id": "81eec6e3-bd85-46fa-809b-c9b88381c747",
   "metadata": {
    "tags": []
   },
   "outputs": [
    {
     "data": {
      "text/plain": [
       "outcome\n",
       "0.0    1910\n",
       "1.0     103\n",
       "Name: count, dtype: int64"
      ]
     },
     "execution_count": 21,
     "metadata": {},
     "output_type": "execute_result"
    }
   ],
   "source": [
    "#View distribution of bot vs human bids in training dataset\n",
    "#Uneven distribution indicates oversampling will be needed\n",
    "train_data['outcome'].value_counts()"
   ]
  },
  {
   "cell_type": "markdown",
   "id": "bbfaa9c2-29b8-4768-9d7c-ee6822ac8432",
   "metadata": {},
   "source": [
    "# Feature Store"
   ]
  },
  {
   "cell_type": "code",
   "execution_count": 22,
   "id": "011051ec-2972-4134-b59f-5535ebb84b8b",
   "metadata": {
    "tags": []
   },
   "outputs": [
    {
     "name": "stdout",
     "output_type": "stream",
     "text": [
      "sagemaker-us-east-1-385225481548\n"
     ]
    }
   ],
   "source": [
    "#Setup Feature store\n",
    "boto_session = boto3.Session(region_name=region)\n",
    "sagemaker_client = boto_session.client(service_name=\"sagemaker\", region_name=region)\n",
    "featurestore_runtime = boto_session.client(\n",
    "    service_name=\"sagemaker-featurestore-runtime\", region_name=region\n",
    ")\n",
    "\n",
    "feature_store_session = Session(\n",
    "    boto_session=boto_session,\n",
    "    sagemaker_client=sagemaker_client,\n",
    "    sagemaker_featurestore_runtime_client=featurestore_runtime,\n",
    ")\n",
    "\n",
    "default_s3_bucket_name = feature_store_session.default_bucket()\n",
    "prefix = \"sagemaker-featurestore\"\n",
    "\n",
    "print(default_s3_bucket_name)"
   ]
  },
  {
   "cell_type": "code",
   "execution_count": 23,
   "id": "262c2f2f-dcba-41cc-bc1c-bdcff732880d",
   "metadata": {},
   "outputs": [],
   "source": [
    "# bot_bids_bucket_name = f\"sagemaker-bid-bids-{region}\"\n",
    "bot_bids_bucket_name = default_s3_bucket_name\n",
    "bids_file_key = (\n",
    "    \"facebook-recruiting-iv-human-or-bot/bids.csv\"\n",
    ")\n",
    "train_file_key = (\n",
    "    \"facebook-recruiting-iv-human-or-bot/train.csv\"\n",
    ")\n",
    "\n",
    "bids_data_object = s3_client.get_object(\n",
    "    Bucket=bot_bids_bucket_name, Key=bids_file_key\n",
    ")\n",
    "train_data_object = s3_client.get_object(\n",
    "    Bucket=bot_bids_bucket_name, Key=train_file_key\n",
    ")"
   ]
  },
  {
   "cell_type": "markdown",
   "id": "7a814876-671a-41f1-94c3-27f47d6897a4",
   "metadata": {},
   "source": [
    "# Feature Engineering "
   ]
  },
  {
   "cell_type": "code",
   "execution_count": 24,
   "id": "771b6b45-c1f7-4dad-9c9e-5b8d19f2bcf6",
   "metadata": {
    "tags": []
   },
   "outputs": [
    {
     "data": {
      "text/html": [
       "<div>\n",
       "<style scoped>\n",
       "    .dataframe tbody tr th:only-of-type {\n",
       "        vertical-align: middle;\n",
       "    }\n",
       "\n",
       "    .dataframe tbody tr th {\n",
       "        vertical-align: top;\n",
       "    }\n",
       "\n",
       "    .dataframe thead th {\n",
       "        text-align: right;\n",
       "    }\n",
       "</style>\n",
       "<table border=\"1\" class=\"dataframe\">\n",
       "  <thead>\n",
       "    <tr style=\"text-align: right;\">\n",
       "      <th></th>\n",
       "      <th>bidder_id</th>\n",
       "      <th>bid_id</th>\n",
       "      <th>auction</th>\n",
       "      <th>merchandise</th>\n",
       "      <th>device</th>\n",
       "      <th>time</th>\n",
       "      <th>country</th>\n",
       "      <th>ip</th>\n",
       "      <th>url</th>\n",
       "    </tr>\n",
       "  </thead>\n",
       "  <tbody>\n",
       "    <tr>\n",
       "      <th>0</th>\n",
       "      <td>001068c415025a009fee375a12cff4fcnht8y</td>\n",
       "      <td>1</td>\n",
       "      <td>1</td>\n",
       "      <td>1</td>\n",
       "      <td>1</td>\n",
       "      <td>1</td>\n",
       "      <td>1</td>\n",
       "      <td>1</td>\n",
       "      <td>1</td>\n",
       "    </tr>\n",
       "    <tr>\n",
       "      <th>1</th>\n",
       "      <td>002d229ffb247009810828f648afc2ef593rb</td>\n",
       "      <td>2</td>\n",
       "      <td>1</td>\n",
       "      <td>1</td>\n",
       "      <td>2</td>\n",
       "      <td>2</td>\n",
       "      <td>1</td>\n",
       "      <td>1</td>\n",
       "      <td>1</td>\n",
       "    </tr>\n",
       "    <tr>\n",
       "      <th>2</th>\n",
       "      <td>0030a2dd87ad2733e0873062e4f83954mkj86</td>\n",
       "      <td>1</td>\n",
       "      <td>1</td>\n",
       "      <td>1</td>\n",
       "      <td>1</td>\n",
       "      <td>1</td>\n",
       "      <td>1</td>\n",
       "      <td>1</td>\n",
       "      <td>1</td>\n",
       "    </tr>\n",
       "    <tr>\n",
       "      <th>3</th>\n",
       "      <td>003180b29c6a5f8f1d84a6b7b6f7be57tjj1o</td>\n",
       "      <td>3</td>\n",
       "      <td>3</td>\n",
       "      <td>1</td>\n",
       "      <td>3</td>\n",
       "      <td>3</td>\n",
       "      <td>1</td>\n",
       "      <td>3</td>\n",
       "      <td>2</td>\n",
       "    </tr>\n",
       "    <tr>\n",
       "      <th>4</th>\n",
       "      <td>00486a11dff552c4bd7696265724ff81yeo9v</td>\n",
       "      <td>20</td>\n",
       "      <td>13</td>\n",
       "      <td>1</td>\n",
       "      <td>8</td>\n",
       "      <td>20</td>\n",
       "      <td>1</td>\n",
       "      <td>10</td>\n",
       "      <td>7</td>\n",
       "    </tr>\n",
       "  </tbody>\n",
       "</table>\n",
       "</div>"
      ],
      "text/plain": [
       "                               bidder_id  bid_id  auction  merchandise  \\\n",
       "0  001068c415025a009fee375a12cff4fcnht8y       1        1            1   \n",
       "1  002d229ffb247009810828f648afc2ef593rb       2        1            1   \n",
       "2  0030a2dd87ad2733e0873062e4f83954mkj86       1        1            1   \n",
       "3  003180b29c6a5f8f1d84a6b7b6f7be57tjj1o       3        3            1   \n",
       "4  00486a11dff552c4bd7696265724ff81yeo9v      20       13            1   \n",
       "\n",
       "   device  time  country  ip  url  \n",
       "0       1     1        1   1    1  \n",
       "1       2     2        1   1    1  \n",
       "2       1     1        1   1    1  \n",
       "3       3     3        1   3    2  \n",
       "4       8    20        1  10    7  "
      ]
     },
     "execution_count": 24,
     "metadata": {},
     "output_type": "execute_result"
    }
   ],
   "source": [
    "#Identify unique feature counts \n",
    "bidder_unique = bid_data.groupby(\"bidder_id\").nunique().reset_index()\n",
    "bidder_unique.head()"
   ]
  },
  {
   "cell_type": "code",
   "execution_count": 25,
   "id": "57fe2173-df9e-4960-b4fe-fa27bcd6c7c5",
   "metadata": {
    "tags": []
   },
   "outputs": [
    {
     "data": {
      "text/html": [
       "<div>\n",
       "<style scoped>\n",
       "    .dataframe tbody tr th:only-of-type {\n",
       "        vertical-align: middle;\n",
       "    }\n",
       "\n",
       "    .dataframe tbody tr th {\n",
       "        vertical-align: top;\n",
       "    }\n",
       "\n",
       "    .dataframe thead th {\n",
       "        text-align: right;\n",
       "    }\n",
       "</style>\n",
       "<table border=\"1\" class=\"dataframe\">\n",
       "  <thead>\n",
       "    <tr style=\"text-align: right;\">\n",
       "      <th></th>\n",
       "      <th>bidder_id</th>\n",
       "      <th>outcome</th>\n",
       "      <th>num_bids</th>\n",
       "      <th>num_auct</th>\n",
       "      <th>num_merch_type</th>\n",
       "      <th>num_device_type</th>\n",
       "      <th>num_time</th>\n",
       "      <th>num_ctry</th>\n",
       "      <th>num_ip</th>\n",
       "      <th>num_url</th>\n",
       "    </tr>\n",
       "  </thead>\n",
       "  <tbody>\n",
       "    <tr>\n",
       "      <th>0</th>\n",
       "      <td>91a3c57b13234af24875c56fb7e2b2f4rb56a</td>\n",
       "      <td>0.0</td>\n",
       "      <td>24.0</td>\n",
       "      <td>18.0</td>\n",
       "      <td>1.0</td>\n",
       "      <td>14.0</td>\n",
       "      <td>24.0</td>\n",
       "      <td>6.0</td>\n",
       "      <td>20.0</td>\n",
       "      <td>1.0</td>\n",
       "    </tr>\n",
       "    <tr>\n",
       "      <th>1</th>\n",
       "      <td>624f258b49e77713fc34034560f93fb3hu3jo</td>\n",
       "      <td>0.0</td>\n",
       "      <td>3.0</td>\n",
       "      <td>1.0</td>\n",
       "      <td>1.0</td>\n",
       "      <td>2.0</td>\n",
       "      <td>3.0</td>\n",
       "      <td>1.0</td>\n",
       "      <td>3.0</td>\n",
       "      <td>2.0</td>\n",
       "    </tr>\n",
       "    <tr>\n",
       "      <th>2</th>\n",
       "      <td>1c5f4fc669099bfbfac515cd26997bd12ruaj</td>\n",
       "      <td>0.0</td>\n",
       "      <td>4.0</td>\n",
       "      <td>4.0</td>\n",
       "      <td>1.0</td>\n",
       "      <td>2.0</td>\n",
       "      <td>4.0</td>\n",
       "      <td>1.0</td>\n",
       "      <td>4.0</td>\n",
       "      <td>2.0</td>\n",
       "    </tr>\n",
       "    <tr>\n",
       "      <th>3</th>\n",
       "      <td>4bee9aba2abda51bf43d639013d6efe12iycd</td>\n",
       "      <td>0.0</td>\n",
       "      <td>1.0</td>\n",
       "      <td>1.0</td>\n",
       "      <td>1.0</td>\n",
       "      <td>1.0</td>\n",
       "      <td>1.0</td>\n",
       "      <td>1.0</td>\n",
       "      <td>1.0</td>\n",
       "      <td>1.0</td>\n",
       "    </tr>\n",
       "    <tr>\n",
       "      <th>4</th>\n",
       "      <td>4ab12bc61c82ddd9c2d65e60555808acqgos1</td>\n",
       "      <td>0.0</td>\n",
       "      <td>155.0</td>\n",
       "      <td>23.0</td>\n",
       "      <td>1.0</td>\n",
       "      <td>53.0</td>\n",
       "      <td>155.0</td>\n",
       "      <td>2.0</td>\n",
       "      <td>123.0</td>\n",
       "      <td>91.0</td>\n",
       "    </tr>\n",
       "  </tbody>\n",
       "</table>\n",
       "</div>"
      ],
      "text/plain": [
       "                               bidder_id  outcome  num_bids  num_auct  \\\n",
       "0  91a3c57b13234af24875c56fb7e2b2f4rb56a      0.0      24.0      18.0   \n",
       "1  624f258b49e77713fc34034560f93fb3hu3jo      0.0       3.0       1.0   \n",
       "2  1c5f4fc669099bfbfac515cd26997bd12ruaj      0.0       4.0       4.0   \n",
       "3  4bee9aba2abda51bf43d639013d6efe12iycd      0.0       1.0       1.0   \n",
       "4  4ab12bc61c82ddd9c2d65e60555808acqgos1      0.0     155.0      23.0   \n",
       "\n",
       "   num_merch_type  num_device_type  num_time  num_ctry  num_ip  num_url  \n",
       "0             1.0             14.0      24.0       6.0    20.0      1.0  \n",
       "1             1.0              2.0       3.0       1.0     3.0      2.0  \n",
       "2             1.0              2.0       4.0       1.0     4.0      2.0  \n",
       "3             1.0              1.0       1.0       1.0     1.0      1.0  \n",
       "4             1.0             53.0     155.0       2.0   123.0     91.0  "
      ]
     },
     "execution_count": 25,
     "metadata": {},
     "output_type": "execute_result"
    }
   ],
   "source": [
    "#Merge bid and train datasets and drop payment account and address as they provide no additional information\n",
    "train_set = train_data.merge(bidder_unique, on='bidder_id', how='left').drop(columns = ['payment_account', 'address'], \n",
    "                                                                           errors = 'ignore')\n",
    "train_set = train_set.rename(columns = {'bid_id': 'num_bids', 'auction': 'num_auct', 'merchandise': 'num_merch_type', \n",
    "                                        'device': 'num_device_type', 'time': 'num_time', 'country': 'num_ctry', \n",
    "                                        'ip': 'num_ip', 'url': 'num_url'})\n",
    "train_set = train_set.fillna(0)\n",
    "train_set.head()"
   ]
  },
  {
   "cell_type": "code",
   "execution_count": 26,
   "id": "83f8e332-301f-4679-93c0-6766e662f166",
   "metadata": {
    "tags": []
   },
   "outputs": [],
   "source": [
    "#Repeat for test data\n",
    "test_set = test_data.merge(bidder_unique, on='bidder_id', how='left').drop(columns = ['payment_account', 'address'], \n",
    "                                                                           errors = 'ignore')\n",
    "test_set = test_set.rename(columns = {'bid_id': 'num_bids', 'auction': 'num_auct', 'merchandise': 'num_merch_type', \n",
    "                                      'device': 'num_device_type', 'time': 'num_time', 'country': 'num_ctry', \n",
    "                                      'ip': 'num_ip', 'url': 'num_url'})\n",
    "test_set = test_set.fillna(0)"
   ]
  },
  {
   "cell_type": "code",
   "execution_count": 27,
   "id": "4645d766-f97d-4d0d-8191-399a886cb6e6",
   "metadata": {
    "tags": []
   },
   "outputs": [
    {
     "name": "stdout",
     "output_type": "stream",
     "text": [
      "Train Dataset Shape:  (2013, 10)\n",
      "Test Dataset Shape:  (4700, 9)\n"
     ]
    }
   ],
   "source": [
    "print(\"Train Dataset Shape: \", train_set.shape)\n",
    "print(\"Test Dataset Shape: \", test_set.shape)"
   ]
  },
  {
   "cell_type": "markdown",
   "id": "cc407d65-3d5d-440b-b747-610fdf93f4a9",
   "metadata": {},
   "source": [
    "# Feature Groups "
   ]
  },
  {
   "cell_type": "code",
   "execution_count": 28,
   "id": "dced98ee-f57c-4f1c-93df-1ed592d4782e",
   "metadata": {
    "tags": []
   },
   "outputs": [
    {
     "data": {
      "text/plain": [
       "[FeatureDefinition(feature_name='bidder_id', feature_type=<FeatureTypeEnum.STRING: 'String'>, collection_type=None),\n",
       " FeatureDefinition(feature_name='num_bids', feature_type=<FeatureTypeEnum.FRACTIONAL: 'Fractional'>, collection_type=None),\n",
       " FeatureDefinition(feature_name='num_auct', feature_type=<FeatureTypeEnum.FRACTIONAL: 'Fractional'>, collection_type=None),\n",
       " FeatureDefinition(feature_name='num_merch_type', feature_type=<FeatureTypeEnum.FRACTIONAL: 'Fractional'>, collection_type=None),\n",
       " FeatureDefinition(feature_name='num_device_type', feature_type=<FeatureTypeEnum.FRACTIONAL: 'Fractional'>, collection_type=None),\n",
       " FeatureDefinition(feature_name='num_time', feature_type=<FeatureTypeEnum.FRACTIONAL: 'Fractional'>, collection_type=None),\n",
       " FeatureDefinition(feature_name='num_ctry', feature_type=<FeatureTypeEnum.FRACTIONAL: 'Fractional'>, collection_type=None),\n",
       " FeatureDefinition(feature_name='num_ip', feature_type=<FeatureTypeEnum.FRACTIONAL: 'Fractional'>, collection_type=None),\n",
       " FeatureDefinition(feature_name='num_url', feature_type=<FeatureTypeEnum.FRACTIONAL: 'Fractional'>, collection_type=None),\n",
       " FeatureDefinition(feature_name='EventTime', feature_type=<FeatureTypeEnum.FRACTIONAL: 'Fractional'>, collection_type=None)]"
      ]
     },
     "execution_count": 28,
     "metadata": {},
     "output_type": "execute_result"
    }
   ],
   "source": [
    "#Define feature groups\n",
    "train_feature_group_name = \"train-feature-group-\" + strftime(\"%d-%H-%M-%S\", gmtime())\n",
    "test_feature_group_name = \"test-feature-group-\" + strftime(\"%d-%H-%M-%S\", gmtime())\n",
    "\n",
    "train_feature_group = FeatureGroup(\n",
    "    name=train_feature_group_name, sagemaker_session=feature_store_session\n",
    ")\n",
    "test_feature_group = FeatureGroup(\n",
    "    name=test_feature_group_name, sagemaker_session=feature_store_session\n",
    ")\n",
    "\n",
    "current_time_sec = int(round(time.time()))\n",
    "\n",
    "def cast_object_to_string(data_frame):\n",
    "    for label in data_frame.columns:\n",
    "        if data_frame.dtypes[label] == \"object\":\n",
    "            data_frame[label] = data_frame[label].astype(\"str\").astype(\"string\")\n",
    "\n",
    "\n",
    "# cast object dtype to string. The SageMaker FeatureStore Python SDK will then \n",
    "#map the string dtype to String feature type.\n",
    "cast_object_to_string(test_set)\n",
    "cast_object_to_string(train_set)\n",
    "\n",
    "# record identifier and event time feature names\n",
    "record_identifier_feature_name = \"bidder_id\"\n",
    "event_time_feature_name = \"EventTime\"\n",
    "\n",
    "# append EventTime feature\n",
    "train_set[event_time_feature_name] = pd.Series(\n",
    "    [current_time_sec] * len(train_set), dtype=\"float64\"\n",
    ")\n",
    "test_set[event_time_feature_name] = pd.Series(\n",
    "    [current_time_sec] * len(test_set), dtype=\"float64\"\n",
    ")\n",
    "\n",
    "# load feature definitions to the feature group\n",
    "train_feature_group.load_feature_definitions(data_frame=train_set)\n",
    "test_feature_group.load_feature_definitions(data_frame=test_set)"
   ]
  },
  {
   "cell_type": "code",
   "execution_count": 29,
   "id": "c00220ea-6f97-4faa-9596-f4bd64b4b67b",
   "metadata": {
    "tags": []
   },
   "outputs": [
    {
     "name": "stdout",
     "output_type": "stream",
     "text": [
      "Waiting for Feature Group Creation\n",
      "Waiting for Feature Group Creation\n",
      "FeatureGroup train-feature-group-17-22-15-15 successfully created.\n",
      "Waiting for Feature Group Creation\n",
      "Waiting for Feature Group Creation\n",
      "FeatureGroup test-feature-group-17-22-15-15 successfully created.\n"
     ]
    }
   ],
   "source": [
    "def wait_for_feature_group_creation_complete(feature_group):\n",
    "    status = feature_group.describe().get(\"FeatureGroupStatus\")\n",
    "    while status == \"Creating\":\n",
    "        print(\"Waiting for Feature Group Creation\")\n",
    "        time.sleep(10)\n",
    "        status = feature_group.describe().get(\"FeatureGroupStatus\")\n",
    "    if status != \"Created\":\n",
    "        raise RuntimeError(f\"Failed to create feature group {feature_group.name}\")\n",
    "    print(f\"FeatureGroup {feature_group.name} successfully created.\")\n",
    "\n",
    "\n",
    "train_feature_group.create(\n",
    "    s3_uri=f\"s3://{default_s3_bucket_name}/{prefix}\",\n",
    "    record_identifier_name=record_identifier_feature_name,\n",
    "    event_time_feature_name=event_time_feature_name,\n",
    "    role_arn=role,\n",
    "    enable_online_store=True,\n",
    ")\n",
    "\n",
    "test_feature_group.create(\n",
    "    s3_uri=f\"s3://{default_s3_bucket_name}/{prefix}\",\n",
    "    record_identifier_name=record_identifier_feature_name,\n",
    "    event_time_feature_name=event_time_feature_name,\n",
    "    role_arn=role,\n",
    "    enable_online_store=True,\n",
    ")\n",
    "\n",
    "wait_for_feature_group_creation_complete(feature_group=train_feature_group)\n",
    "wait_for_feature_group_creation_complete(feature_group=test_feature_group)"
   ]
  },
  {
   "cell_type": "code",
   "execution_count": 30,
   "id": "12744a1f-325f-4b61-8e50-11247dad60b5",
   "metadata": {
    "tags": []
   },
   "outputs": [
    {
     "data": {
      "text/plain": [
       "{'FeatureGroupArn': 'arn:aws:sagemaker:us-east-1:385225481548:feature-group/train-feature-group-17-22-15-15',\n",
       " 'FeatureGroupName': 'train-feature-group-17-22-15-15',\n",
       " 'RecordIdentifierFeatureName': 'bidder_id',\n",
       " 'EventTimeFeatureName': 'EventTime',\n",
       " 'FeatureDefinitions': [{'FeatureName': 'bidder_id', 'FeatureType': 'String'},\n",
       "  {'FeatureName': 'outcome', 'FeatureType': 'Fractional'},\n",
       "  {'FeatureName': 'num_bids', 'FeatureType': 'Fractional'},\n",
       "  {'FeatureName': 'num_auct', 'FeatureType': 'Fractional'},\n",
       "  {'FeatureName': 'num_merch_type', 'FeatureType': 'Fractional'},\n",
       "  {'FeatureName': 'num_device_type', 'FeatureType': 'Fractional'},\n",
       "  {'FeatureName': 'num_time', 'FeatureType': 'Fractional'},\n",
       "  {'FeatureName': 'num_ctry', 'FeatureType': 'Fractional'},\n",
       "  {'FeatureName': 'num_ip', 'FeatureType': 'Fractional'},\n",
       "  {'FeatureName': 'num_url', 'FeatureType': 'Fractional'},\n",
       "  {'FeatureName': 'EventTime', 'FeatureType': 'Fractional'}],\n",
       " 'CreationTime': datetime.datetime(2024, 6, 17, 22, 15, 15, 399000, tzinfo=tzlocal()),\n",
       " 'OnlineStoreConfig': {'EnableOnlineStore': True},\n",
       " 'OfflineStoreConfig': {'S3StorageConfig': {'S3Uri': 's3://sagemaker-us-east-1-385225481548/sagemaker-featurestore',\n",
       "   'ResolvedOutputS3Uri': 's3://sagemaker-us-east-1-385225481548/sagemaker-featurestore/385225481548/sagemaker/us-east-1/offline-store/train-feature-group-17-22-15-15-1718662515/data'},\n",
       "  'DisableGlueTableCreation': False,\n",
       "  'DataCatalogConfig': {'TableName': 'train_feature_group_17_22_15_15_1718662515',\n",
       "   'Catalog': 'AwsDataCatalog',\n",
       "   'Database': 'sagemaker_featurestore'}},\n",
       " 'ThroughputConfig': {'ThroughputMode': 'OnDemand'},\n",
       " 'RoleArn': 'arn:aws:iam::385225481548:role/LabRole',\n",
       " 'FeatureGroupStatus': 'Created',\n",
       " 'OnlineStoreTotalSizeBytes': 0,\n",
       " 'ResponseMetadata': {'RequestId': '250d6507-dfa4-4b5e-a003-68d07bf72652',\n",
       "  'HTTPStatusCode': 200,\n",
       "  'HTTPHeaders': {'x-amzn-requestid': '250d6507-dfa4-4b5e-a003-68d07bf72652',\n",
       "   'content-type': 'application/x-amz-json-1.1',\n",
       "   'content-length': '2058',\n",
       "   'date': 'Mon, 17 Jun 2024 22:15:57 GMT'},\n",
       "  'RetryAttempts': 0}}"
      ]
     },
     "execution_count": 30,
     "metadata": {},
     "output_type": "execute_result"
    }
   ],
   "source": [
    "train_feature_group.describe()"
   ]
  },
  {
   "cell_type": "code",
   "execution_count": 31,
   "id": "accbd25b-3c1f-4f0f-809c-15381664a315",
   "metadata": {
    "tags": []
   },
   "outputs": [
    {
     "data": {
      "text/plain": [
       "IngestionManagerPandas(feature_group_name='train-feature-group-17-22-15-15', feature_definitions={'bidder_id': {'FeatureName': 'bidder_id', 'FeatureType': 'String'}, 'outcome': {'FeatureName': 'outcome', 'FeatureType': 'Fractional'}, 'num_bids': {'FeatureName': 'num_bids', 'FeatureType': 'Fractional'}, 'num_auct': {'FeatureName': 'num_auct', 'FeatureType': 'Fractional'}, 'num_merch_type': {'FeatureName': 'num_merch_type', 'FeatureType': 'Fractional'}, 'num_device_type': {'FeatureName': 'num_device_type', 'FeatureType': 'Fractional'}, 'num_time': {'FeatureName': 'num_time', 'FeatureType': 'Fractional'}, 'num_ctry': {'FeatureName': 'num_ctry', 'FeatureType': 'Fractional'}, 'num_ip': {'FeatureName': 'num_ip', 'FeatureType': 'Fractional'}, 'num_url': {'FeatureName': 'num_url', 'FeatureType': 'Fractional'}, 'EventTime': {'FeatureName': 'EventTime', 'FeatureType': 'Fractional'}}, sagemaker_fs_runtime_client_config=<botocore.config.Config object at 0x7f86896b72b0>, sagemaker_session=<sagemaker.session.Session object at 0x7f86a1109690>, max_workers=3, max_processes=1, profile_name=None, _async_result=<multiprocess.pool.MapResult object at 0x7f86a58dcc40>, _processing_pool=<pool ProcessPool(ncpus=1)>, _failed_indices=[])"
      ]
     },
     "execution_count": 31,
     "metadata": {},
     "output_type": "execute_result"
    }
   ],
   "source": [
    "#Put records into the feature group\n",
    "train_feature_group.ingest(data_frame=train_set, max_workers=3, wait=True)"
   ]
  },
  {
   "cell_type": "code",
   "execution_count": 32,
   "id": "17789285-03a9-4bb0-9758-397c810171bc",
   "metadata": {
    "tags": []
   },
   "outputs": [
    {
     "data": {
      "text/plain": [
       "IngestionManagerPandas(feature_group_name='test-feature-group-17-22-15-15', feature_definitions={'bidder_id': {'FeatureName': 'bidder_id', 'FeatureType': 'String'}, 'num_bids': {'FeatureName': 'num_bids', 'FeatureType': 'Fractional'}, 'num_auct': {'FeatureName': 'num_auct', 'FeatureType': 'Fractional'}, 'num_merch_type': {'FeatureName': 'num_merch_type', 'FeatureType': 'Fractional'}, 'num_device_type': {'FeatureName': 'num_device_type', 'FeatureType': 'Fractional'}, 'num_time': {'FeatureName': 'num_time', 'FeatureType': 'Fractional'}, 'num_ctry': {'FeatureName': 'num_ctry', 'FeatureType': 'Fractional'}, 'num_ip': {'FeatureName': 'num_ip', 'FeatureType': 'Fractional'}, 'num_url': {'FeatureName': 'num_url', 'FeatureType': 'Fractional'}, 'EventTime': {'FeatureName': 'EventTime', 'FeatureType': 'Fractional'}}, sagemaker_fs_runtime_client_config=<botocore.config.Config object at 0x7f86896b72b0>, sagemaker_session=<sagemaker.session.Session object at 0x7f86a1109690>, max_workers=3, max_processes=1, profile_name=None, _async_result=<multiprocess.pool.MapResult object at 0x7f86a58dd8d0>, _processing_pool=<pool ProcessPool(ncpus=1)>, _failed_indices=[])"
      ]
     },
     "execution_count": 32,
     "metadata": {},
     "output_type": "execute_result"
    }
   ],
   "source": [
    "test_feature_group.ingest(data_frame=test_set, max_workers=3, wait=True)"
   ]
  },
  {
   "cell_type": "code",
   "execution_count": 33,
   "id": "7d2ad448-7785-4ff2-838d-53eff9ae1d16",
   "metadata": {
    "tags": []
   },
   "outputs": [
    {
     "data": {
      "text/plain": [
       "{'ResponseMetadata': {'RequestId': '8e92709b-3b5f-4a86-b0cd-7e0968503b18',\n",
       "  'HTTPStatusCode': 200,\n",
       "  'HTTPHeaders': {'x-amzn-requestid': '8e92709b-3b5f-4a86-b0cd-7e0968503b18',\n",
       "   'content-type': 'application/json',\n",
       "   'content-length': '902',\n",
       "   'date': 'Mon, 17 Jun 2024 22:16:33 GMT'},\n",
       "  'RetryAttempts': 0},\n",
       " 'Record': [{'FeatureName': 'bidder_id',\n",
       "   'ValueAsString': '91a3c57b13234af24875c56fb7e2b2f4rb56a'},\n",
       "  {'FeatureName': 'outcome', 'ValueAsString': '0.0'},\n",
       "  {'FeatureName': 'num_bids', 'ValueAsString': '24.0'},\n",
       "  {'FeatureName': 'num_auct', 'ValueAsString': '18.0'},\n",
       "  {'FeatureName': 'num_merch_type', 'ValueAsString': '1.0'},\n",
       "  {'FeatureName': 'num_device_type', 'ValueAsString': '14.0'},\n",
       "  {'FeatureName': 'num_time', 'ValueAsString': '24.0'},\n",
       "  {'FeatureName': 'num_ctry', 'ValueAsString': '6.0'},\n",
       "  {'FeatureName': 'num_ip', 'ValueAsString': '20.0'},\n",
       "  {'FeatureName': 'num_url', 'ValueAsString': '1.0'},\n",
       "  {'FeatureName': 'EventTime', 'ValueAsString': '1718662515.0'}]}"
      ]
     },
     "execution_count": 33,
     "metadata": {},
     "output_type": "execute_result"
    }
   ],
   "source": [
    "#Ensure data is ingested by retrieving a record\n",
    "featurestore_runtime.get_record(\n",
    "    FeatureGroupName=train_feature_group_name,\n",
    "    RecordIdentifierValueAsString=\"91a3c57b13234af24875c56fb7e2b2f4rb56a\",\n",
    ")"
   ]
  },
  {
   "cell_type": "code",
   "execution_count": 34,
   "id": "077dde3b-d064-4682-bdc3-e4b3809a2357",
   "metadata": {
    "tags": []
   },
   "outputs": [
    {
     "name": "stdout",
     "output_type": "stream",
     "text": [
      "385225481548\n",
      "Waiting for data in offline store...\n",
      "\n",
      "Waiting for data in offline store...\n",
      "\n",
      "Waiting for data in offline store...\n",
      "\n",
      "Waiting for data in offline store...\n",
      "\n",
      "Waiting for data in offline store...\n",
      "\n",
      "Waiting for data in offline store...\n",
      "\n",
      "Data available.\n"
     ]
    }
   ],
   "source": [
    "#Wait for data to be available in the offline store\n",
    "account_id = boto3.client(\"sts\").get_caller_identity()[\"Account\"]\n",
    "print(account_id)\n",
    "\n",
    "train_feature_group_resolved_output_s3_uri = (\n",
    "    train_feature_group.describe()\n",
    "    .get(\"OfflineStoreConfig\")\n",
    "    .get(\"S3StorageConfig\")\n",
    "    .get(\"ResolvedOutputS3Uri\")\n",
    ")\n",
    "test_feature_group_resolved_output_s3_uri = (\n",
    "    test_feature_group.describe()\n",
    "    .get(\"OfflineStoreConfig\")\n",
    "    .get(\"S3StorageConfig\")\n",
    "    .get(\"ResolvedOutputS3Uri\")\n",
    ")\n",
    "\n",
    "train_feature_group_s3_prefix = train_feature_group_resolved_output_s3_uri.replace(\n",
    "    f\"s3://{default_s3_bucket_name}/\", \"\"\n",
    ")\n",
    "test_feature_group_s3_prefix = test_feature_group_resolved_output_s3_uri.replace(\n",
    "    f\"s3://{default_s3_bucket_name}/\", \"\"\n",
    ")\n",
    "\n",
    "offline_store_contents = None\n",
    "while offline_store_contents is None:\n",
    "    objects_in_bucket = s3_client.list_objects(\n",
    "        Bucket=default_s3_bucket_name, Prefix=train_feature_group_s3_prefix\n",
    "    )\n",
    "    if \"Contents\" in objects_in_bucket and len(objects_in_bucket[\"Contents\"]) > 1:\n",
    "        offline_store_contents = objects_in_bucket[\"Contents\"]\n",
    "    else:\n",
    "        print(\"Waiting for data in offline store...\\n\")\n",
    "        sleep(60)\n",
    "\n",
    "print(\"Data available.\")"
   ]
  },
  {
   "cell_type": "markdown",
   "id": "a2e751fc-e085-47ff-b9dc-4b7c28b1d144",
   "metadata": {},
   "source": [
    "# Split Data"
   ]
  },
  {
   "cell_type": "code",
   "execution_count": 50,
   "id": "094df3bb-ba6d-4d77-ad16-7add2ad676ac",
   "metadata": {
    "tags": []
   },
   "outputs": [],
   "source": [
    "#Due to train set only containing labels, it is split into train:test:validation 80:10:10\n",
    "#Test set with no labels is reserved for production data\n",
    "rand_split = np.random.rand(len(train_set))\n",
    "train_list = rand_split < 0.8\n",
    "val_list = (rand_split >= 0.8) & (rand_split < 0.9)\n",
    "test_list = rand_split >= 0.9\n",
    "\n",
    "#the bidder_id is not a training feature\n",
    "data_train = train_set[train_list].drop([\"bidder_id\"], axis=1)\n",
    "data_val = train_set[val_list].drop([\"bidder_id\"], axis=1)\n",
    "data_test1 = train_set[test_list].drop([\"bidder_id\"], axis=1)\n",
    "data_test = train_set[test_list].drop([\"outcome\"], axis=1)\n",
    "data_test_outcome = train_set[test_list][\"outcome\"]\n",
    "data_test_noID = data_test.drop([\"bidder_id\"], axis=1)\n",
    "\n",
    "data_prod = test_set"
   ]
  },
  {
   "cell_type": "code",
   "execution_count": 88,
   "id": "2b93e658-15a2-47b6-bab7-1a72b0eea0b6",
   "metadata": {
    "tags": []
   },
   "outputs": [
    {
     "data": {
      "text/plain": [
       "'s3://sagemaker-us-east-1-385225481548/sagemaker-featurestore/prod/prod_data.csv'"
      ]
     },
     "execution_count": 88,
     "metadata": {},
     "output_type": "execute_result"
    }
   ],
   "source": [
    "#Upload files into S3\n",
    "train_file = \"train_data.csv\"\n",
    "data_train.to_csv(train_file, index=False, header=False)\n",
    "sess.upload_data(train_file, key_prefix=\"{}/train\".format(prefix))\n",
    "\n",
    "train_file_with_header = \"train_data_with_header.csv\"\n",
    "data_train.to_csv(train_file_with_header, index=False, header=True)\n",
    "sess.upload_data(train_file_with_header, key_prefix=\"{}/train\".format(prefix))\n",
    "\n",
    "validation_file = \"validation_data.csv\"\n",
    "data_val.to_csv(validation_file, index=False, header=False)\n",
    "sess.upload_data(validation_file, key_prefix=\"{}/validation\".format(prefix))\n",
    "\n",
    "validation_file_with_header = \"validation_data_with_header.csv\"\n",
    "data_val.to_csv(validation_file_with_header, index=False, header=True)\n",
    "sess.upload_data(validation_file_with_header, key_prefix=\"{}/validation\".format(prefix))\n",
    "\n",
    "test_file = \"test_data.csv\"\n",
    "data_test.to_csv(test_file, index=False, header=False)\n",
    "sess.upload_data(test_file, key_prefix=\"{}/test\".format(prefix))\n",
    "\n",
    "test_file_with_header = \"test_data_with_header.csv\"\n",
    "data_test.to_csv(test_file_with_header, index=False, header=True)\n",
    "sess.upload_data(test_file_with_header, key_prefix=\"{}/test\".format(prefix))\n",
    "\n",
    "test_file_with_outcome = \"test_data_with_outcome.csv\"\n",
    "data_test1.to_csv(test_file_with_outcome, index=False, header=False)\n",
    "sess.upload_data(test_file_with_outcome, key_prefix=\"{}/test\".format(prefix))\n",
    "\n",
    "test_file_noID = \"test_data_noID.csv\"\n",
    "data_test_noID.to_csv(test_file_noID, index=False, header=False)\n",
    "sess.upload_data(test_file_noID, key_prefix=\"{}/test\".format(prefix))\n",
    "\n",
    "test_file_outcome = \"test_data_outcome.csv\"\n",
    "data_test_outcome.to_csv(test_file_outcome, index=False, header=False)\n",
    "sess.upload_data(test_file_outcome, key_prefix=\"{}/test\".format(prefix))\n",
    "\n",
    "prod_file = \"prod_data.csv\"\n",
    "data_prod.to_csv(prod_file, index=False, header=False)\n",
    "sess.upload_data(prod_file, key_prefix=\"{}/prod\".format(prefix))"
   ]
  },
  {
   "cell_type": "code",
   "execution_count": 37,
   "id": "059bfc05-2049-44ed-834d-96fe228c2300",
   "metadata": {
    "tags": []
   },
   "outputs": [],
   "source": [
    "s3_train_data = f\"s3://{bucket}/{prefix}/train/\"\n",
    "s3_test_data = f\"s3://{bucket}/{prefix}/test/\"\n",
    "s3_val_data = f\"s3://{bucket}/{prefix}/validation/\"\n",
    "s3_prod_data = f\"s3://{bucket}/{prefix}/prod/\""
   ]
  },
  {
   "cell_type": "markdown",
   "id": "c7ab0839-e530-49e6-8793-c51102df2fe9",
   "metadata": {},
   "source": [
    "# Decision Tree Model Bench Mark"
   ]
  },
  {
   "cell_type": "code",
   "execution_count": 38,
   "id": "093a6b40-d611-4caf-b7b9-5fb91ee10094",
   "metadata": {
    "tags": []
   },
   "outputs": [],
   "source": [
    "#Create dataframes for model training\n",
    "train_df = pd.read_csv(s3_train_data+\"train_data_with_header.csv\")\n",
    "val_df = pd.read_csv(s3_val_data+\"validation_data_with_header.csv\")"
   ]
  },
  {
   "cell_type": "code",
   "execution_count": 39,
   "id": "5642c8f1-295b-40da-addd-d0267423836e",
   "metadata": {
    "tags": []
   },
   "outputs": [
    {
     "name": "stdout",
     "output_type": "stream",
     "text": [
      "The AUC score for the decision tree model is:  0.5\n",
      "              precision    recall  f1-score   support\n",
      "\n",
      "         0.0       0.94      1.00      0.97       203\n",
      "         1.0       0.00      0.00      0.00        12\n",
      "\n",
      "    accuracy                           0.94       215\n",
      "   macro avg       0.47      0.50      0.49       215\n",
      "weighted avg       0.89      0.94      0.92       215\n",
      "\n"
     ]
    }
   ],
   "source": [
    "#Build basic decision tree and predict on the validation set\n",
    "#Evaluate the model \n",
    "clf = tree.DecisionTreeClassifier(max_depth=3, criterion='entropy')\n",
    "clf.fit(train_df.drop(columns=[\"outcome\"]), train_df[\"outcome\"])\n",
    "pred_val = clf.predict(val_df.drop(columns=[\"outcome\"])) \n",
    "\n",
    "fpr, tpr, thresholds = metrics.roc_curve(val_df['outcome'],pred_val)\n",
    "\n",
    "print(\"The AUC score for the decision tree model is: \", metrics.auc(fpr, tpr))\n",
    "print(metrics.classification_report(val_df['outcome'],pred_val))"
   ]
  },
  {
   "cell_type": "code",
   "execution_count": 40,
   "id": "0ec3cb6e-fdcb-45bc-9834-7415485beea0",
   "metadata": {
    "tags": []
   },
   "outputs": [
    {
     "data": {
      "image/png": "[encoded data removed]",
      "text/plain": [
       "<Figure size 1600x1200 with 1 Axes>"
      ]
     },
     "metadata": {},
     "output_type": "display_data"
    }
   ],
   "source": [
    "#Visualizing the Tree\n",
    "plt.rcParams['figure.dpi'] = 250\n",
    "f_names=list(train_df.drop(columns=[\"outcome\"]).columns)\n",
    "tree.plot_tree(clf, filled=True, feature_names=f_names)\n",
    "plt.show()"
   ]
  },
  {
   "cell_type": "markdown",
   "id": "d3e67e76-59ca-43f1-b9a1-280868ad221c",
   "metadata": {},
   "source": [
    "# Initial XGBoost Model"
   ]
  },
  {
   "cell_type": "code",
   "execution_count": 41,
   "id": "0d13a6c7-0f36-4ab9-8f5e-fd5aeff85db7",
   "metadata": {
    "tags": []
   },
   "outputs": [
    {
     "name": "stdout",
     "output_type": "stream",
     "text": [
      "The AUC score for the decision tree model is:  0.529351395730706\n",
      "              precision    recall  f1-score   support\n",
      "\n",
      "         0.0       0.95      0.98      0.96       203\n",
      "         1.0       0.17      0.08      0.11        12\n",
      "\n",
      "    accuracy                           0.93       215\n",
      "   macro avg       0.56      0.53      0.54       215\n",
      "weighted avg       0.90      0.93      0.91       215\n",
      "\n"
     ]
    }
   ],
   "source": [
    "#Build basic gradient boosted model and predict on the validation set\n",
    "#Evaluate the model \n",
    "gbc = GradientBoostingClassifier(learning_rate=0.1, max_depth=3, random_state=0)\n",
    "gbc.fit(train_df.drop(columns=[\"outcome\"]), train_df[\"outcome\"])\n",
    "pred_val = gbc.predict(val_df.drop(columns=[\"outcome\"])) \n",
    "\n",
    "fpr, tpr, thresholds = metrics.roc_curve(val_df['outcome'],pred_val)\n",
    "\n",
    "print(\"The AUC score for the decision tree model is: \", metrics.auc(fpr, tpr))\n",
    "print(metrics.classification_report(val_df['outcome'],pred_val))"
   ]
  },
  {
   "cell_type": "markdown",
   "id": "db131c7b-0f8e-413e-a3c4-da1132724364",
   "metadata": {
    "tags": []
   },
   "source": [
    "# Training XGBOOST"
   ]
  },
  {
   "cell_type": "code",
   "execution_count": 42,
   "id": "6f2f94f9-a1d8-4197-ad41-0f378dd5b2d3",
   "metadata": {
    "tags": []
   },
   "outputs": [
    {
     "name": "stderr",
     "output_type": "stream",
     "text": [
      "INFO:sagemaker:Creating training-job with name: xgb-2024-06-17-22-22-37\n"
     ]
    },
    {
     "name": "stdout",
     "output_type": "stream",
     "text": [
      "\n",
      "2024-06-17 22:22:43 Starting - Starting the training job..\n",
      "2024-06-17 22:22:55 Starting - Preparing the instances for training....\n",
      "2024-06-17 22:23:23 Downloading - Downloading input data....\n",
      "2024-06-17 22:23:45 Downloading - Downloading the training image.......\n",
      "2024-06-17 22:24:25 Training - Training image download completed. Training in progress...\n",
      "2024-06-17 22:24:43 Uploading - Uploading generated training model.\n",
      "2024-06-17 22:24:53 Completed - Training job completed\n"
     ]
    }
   ],
   "source": [
    "#Training the xgb algorithm with data\n",
    "job_name = \"xgb-\" + strftime(\"%Y-%m-%d-%H-%M-%S\", gmtime())\n",
    "output_location = \"s3://{}/{}/output/{}\".format(bucket, prefix, job_name)\n",
    "image = sagemaker.image_uris.retrieve(\n",
    "    framework=\"xgboost\", region=boto3.Session().region_name, version=\"1.7-1\"\n",
    ")\n",
    "\n",
    "sm_estimator = sagemaker.estimator.Estimator(\n",
    "    image,\n",
    "    role,\n",
    "    instance_count=1,\n",
    "    instance_type=\"ml.m5.xlarge\",\n",
    "    volume_size=50,\n",
    "    input_mode=\"File\",\n",
    "    output_path=output_location,\n",
    "    sagemaker_session=sess,\n",
    "    rules=[\n",
    "        Rule.sagemaker(rule_configs.create_xgboost_report()),\n",
    "        ProfilerRule.sagemaker(rule_configs.ProfilerReport())\n",
    "    ]\n",
    ")\n",
    "\n",
    "sm_estimator.set_hyperparameters(\n",
    "    max_depth=3,\n",
    "    num_round=100,\n",
    ")\n",
    "train_data = sagemaker.inputs.TrainingInput(\n",
    "    \"s3://{}/{}/{}\".format(bucket, prefix, \"train/train_data.csv\"),content_type=\"text/csv\"\n",
    ")\n",
    "validation_data = sagemaker.inputs.TrainingInput(\n",
    "    \"s3://{}/{}/{}\".format(bucket, prefix, \"validation/validation_data.csv\"),content_type=\"text/csv\"\n",
    ")\n",
    "data_channels = {\"train\": train_data, \"validation\": validation_data}\n",
    "\n",
    "# Start training by calling the fit method in the estimator\n",
    "sm_estimator.fit(inputs=data_channels, job_name=job_name, logs=False)"
   ]
  },
  {
   "cell_type": "markdown",
   "id": "18f509c4-20aa-4698-9c4a-4f69dd84739c",
   "metadata": {
    "tags": []
   },
   "source": [
    "# Model Quality Monitor"
   ]
  },
  {
   "cell_type": "code",
   "execution_count": 44,
   "id": "5a338801-8c77-4273-af03-95108e3add93",
   "metadata": {
    "tags": []
   },
   "outputs": [
    {
     "name": "stdout",
     "output_type": "stream",
     "text": [
      "Capture path: s3://sagemaker-us-east-1-385225481548/sagemaker-featurestore/datacapture\n",
      "Ground truth path: s3://sagemaker-us-east-1-385225481548/sagemaker-featurestore/ground_truth_data/2024-06-17-22-25-38\n",
      "Report path: s3://sagemaker-us-east-1-385225481548/sagemaker-featurestore/reports\n",
      "Baseline results uri: s3://sagemaker-us-east-1-385225481548/sagemaker-featurestore/baselining\n"
     ]
    }
   ],
   "source": [
    "#Create prefixes\n",
    "s3_key = f\"s3://{bucket}/{prefix}\"\n",
    "s3_capture_upload_path = f\"{s3_key}/datacapture\"\n",
    "ground_truth_upload_path = f\"{s3_key}/ground_truth_data/{datetime.now():%Y-%m-%d-%H-%M-%S}\"\n",
    "s3_report_path = f\"{s3_key}/reports\"\n",
    "\n",
    "print(f\"Capture path: {s3_capture_upload_path}\")\n",
    "print(f\"Ground truth path: {ground_truth_upload_path}\")\n",
    "print(f\"Report path: {s3_report_path}\")\n",
    "\n",
    "baseline_results_uri = f\"{s3_key}/baselining\"\n",
    "print(f\"Baseline results uri: {baseline_results_uri}\")\n",
    "\n",
    "endpoint_instance_count = 1\n",
    "endpoint_instance_type = \"ml.m4.xlarge\"\n",
    "schedule_expression = CronExpressionGenerator.hourly()"
   ]
  },
  {
   "cell_type": "code",
   "execution_count": 45,
   "id": "ebe8c60c-65e1-4086-ab34-63ad22cd81c7",
   "metadata": {
    "tags": []
   },
   "outputs": [],
   "source": [
    "#Define model and files \n",
    "model_url = \"s3://{}/{}/output/{}/{}/output/model.tar.gz\".format(bucket, prefix, job_name, job_name)\n",
    "# test_dataset = \"test_data/test-dataset-input-cols.csv\"\n",
    "validation_dataset = \"validation_data_with_header.csv\"\n",
    "dataset_type = \"text/csv\"\n",
    "\n",
    "with open(validation_dataset) as f:\n",
    "    headers_line = f.readline().rstrip()\n",
    "all_headers = headers_line.split(\",\")\n",
    "label_header = all_headers[0]"
   ]
  },
  {
   "cell_type": "code",
   "execution_count": 46,
   "id": "cc865ba6-2d7b-423a-a76e-1463f7a65d30",
   "metadata": {},
   "outputs": [
    {
     "name": "stdout",
     "output_type": "stream",
     "text": [
      "Model name:  bids-model-monitor-2024-06-17-2226\n",
      "Endpoint name:  bids-model-monitor-2024-06-17-2226\n"
     ]
    }
   ],
   "source": [
    "#Create a model from the file on S3\n",
    "model_name = f\"bids-model-monitor-{datetime.utcnow():%Y-%m-%d-%H%M}\"\n",
    "print(\"Model name: \", model_name)\n",
    "endpoint_name = f\"bids-model-monitor-{datetime.utcnow():%Y-%m-%d-%H%M}\"\n",
    "print(\"Endpoint name: \", endpoint_name)"
   ]
  },
  {
   "cell_type": "code",
   "execution_count": 47,
   "id": "a8aa7c80-51a7-4c78-ad3b-77e84dcd233e",
   "metadata": {},
   "outputs": [
    {
     "name": "stderr",
     "output_type": "stream",
     "text": [
      "INFO:sagemaker:Creating model with name: bids-model-monitor-2024-06-17-2226\n"
     ]
    },
    {
     "name": "stdout",
     "output_type": "stream",
     "text": [
      "Deploying model bids-model-monitor-2024-06-17-2226 to endpoint bids-model-monitor-2024-06-17-2226\n"
     ]
    },
    {
     "name": "stderr",
     "output_type": "stream",
     "text": [
      "INFO:sagemaker:Creating endpoint-config with name bids-model-monitor-2024-06-17-2226\n",
      "INFO:sagemaker:Creating endpoint with name bids-model-monitor-2024-06-17-2226\n"
     ]
    },
    {
     "name": "stdout",
     "output_type": "stream",
     "text": [
      "-------!"
     ]
    }
   ],
   "source": [
    "#Deploy with data capture enabled\n",
    "model = Model(\n",
    "    role=role,\n",
    "    name=model_name,\n",
    "    image_uri=image,\n",
    "    model_data=model_url,\n",
    "    sagemaker_session=sess,\n",
    ")\n",
    "\n",
    "data_capture_config = DataCaptureConfig(\n",
    "    enable_capture=True,\n",
    "    sampling_percentage=100,\n",
    "    destination_s3_uri=s3_capture_upload_path,\n",
    ")\n",
    "print(f\"Deploying model {model_name} to endpoint {endpoint_name}\")\n",
    "model.deploy(\n",
    "    initial_instance_count=endpoint_instance_count,\n",
    "    instance_type=endpoint_instance_type,\n",
    "    endpoint_name=endpoint_name,\n",
    "    data_capture_config=data_capture_config,\n",
    ")"
   ]
  },
  {
   "cell_type": "code",
   "execution_count": 48,
   "id": "2dc80bd8-c1da-4e18-a606-1965197ca161",
   "metadata": {
    "tags": []
   },
   "outputs": [],
   "source": [
    "#Create predictor object\n",
    "predictor = Predictor(\n",
    "    endpoint_name=endpoint_name, sagemaker_session=sess, serializer=CSVSerializer()\n",
    ")"
   ]
  },
  {
   "cell_type": "code",
   "execution_count": 62,
   "id": "c83530f2-9195-46c9-9453-ba3a0d9789e0",
   "metadata": {
    "tags": []
   },
   "outputs": [],
   "source": [
    "#Create baseline with 0.8 as the cut off value\n",
    "bids_cutoff = 0.8\n",
    "validate_dataset = \"validation_data_predictions.csv\""
   ]
  },
  {
   "cell_type": "code",
   "execution_count": 89,
   "id": "26458c2c-79ec-48ea-906d-ec8595c306de",
   "metadata": {
    "tags": []
   },
   "outputs": [
    {
     "name": "stdout",
     "output_type": "stream",
     "text": [
      "........................................................................................................................................................................................................\n",
      "Done!\n"
     ]
    }
   ],
   "source": [
    "limit = 200\n",
    "i = 0\n",
    "with open(f\"{validate_dataset}\", \"w\") as baseline_file:\n",
    "    baseline_file.write(\"probability,prediction,label\\n\")  # our header\n",
    "    with open(\"validation_data.csv\", \"r\") as f:\n",
    "        for row in f:\n",
    "            (label, input_cols) = row.split(\",\", 1)\n",
    "            probability = float(predictor.predict(input_cols))\n",
    "            prediction = \"1\" if probability > bids_cutoff else \"0\"\n",
    "            baseline_file.write(f\"{probability},{prediction},{label}\\n\")\n",
    "            i += 1\n",
    "            if i > limit:\n",
    "                break\n",
    "            print(\".\", end=\"\", flush=True)\n",
    "            sleep(0.5)\n",
    "print()\n",
    "print(\"Done!\")"
   ]
  },
  {
   "cell_type": "code",
   "execution_count": 90,
   "id": "6920b759-58f7-40fe-9e60-8814c8c8e9ad",
   "metadata": {
    "tags": []
   },
   "outputs": [
    {
     "name": "stdout",
     "output_type": "stream",
     "text": [
      "probability,prediction,label\n",
      "0.0012788178864866495,0,0\n",
      "0.006682614330202341,0,0\n",
      "0.006496461108326912,0,0\n",
      "0.0028278296813368797,0,0\n",
      "-7.713999366387725e-06,0,0\n",
      "0.010264449752867222,0,0\n",
      "-0.0009272203897126019,0,0\n",
      "-0.0018974218983203173,0,0\n",
      "-0.0010146322892978787,0,0\n"
     ]
    }
   ],
   "source": [
    "#View predicitons\n",
    "!head validation_data_predictions.csv"
   ]
  },
  {
   "cell_type": "code",
   "execution_count": 65,
   "id": "7ef41f73-611b-4bdf-b824-08e171386020",
   "metadata": {
    "tags": []
   },
   "outputs": [
    {
     "name": "stdout",
     "output_type": "stream",
     "text": [
      "Baseline data uri: s3://sagemaker-us-east-1-385225481548/sagemaker-featurestore/baselining/data\n",
      "Baseline results uri: s3://sagemaker-us-east-1-385225481548/sagemaker-featurestore/baselining/results\n"
     ]
    }
   ],
   "source": [
    "#Upload predictions as a baseline\n",
    "baseline_prefix = prefix + \"/baselining\"\n",
    "baseline_data_prefix = baseline_prefix + \"/data\"\n",
    "baseline_results_prefix = baseline_prefix + \"/results\"\n",
    "\n",
    "baseline_data_uri = f\"s3://{bucket}/{baseline_data_prefix}\"\n",
    "baseline_results_uri = f\"s3://{bucket}/{baseline_results_prefix}\"\n",
    "print(f\"Baseline data uri: {baseline_data_uri}\")\n",
    "print(f\"Baseline results uri: {baseline_results_uri}\")"
   ]
  },
  {
   "cell_type": "code",
   "execution_count": 91,
   "id": "b8130f19-18e7-48ad-b802-bbcb3d13a180",
   "metadata": {
    "tags": []
   },
   "outputs": [
    {
     "data": {
      "text/plain": [
       "'s3://sagemaker-us-east-1-385225481548/sagemaker-featurestore/baselining/data/validation_data_predictions.csv'"
      ]
     },
     "execution_count": 91,
     "metadata": {},
     "output_type": "execute_result"
    }
   ],
   "source": [
    "baseline_dataset_uri = S3Uploader.upload(f\"{validate_dataset}\", baseline_data_uri)\n",
    "baseline_dataset_uri"
   ]
  },
  {
   "cell_type": "code",
   "execution_count": 68,
   "id": "2daf9be9-3d3a-429f-8a05-c5ec0459f269",
   "metadata": {
    "tags": []
   },
   "outputs": [
    {
     "name": "stderr",
     "output_type": "stream",
     "text": [
      "INFO:sagemaker.image_uris:Defaulting to the only supported framework/algorithm version: .\n",
      "INFO:sagemaker.image_uris:Ignoring unnecessary instance type: None.\n"
     ]
    }
   ],
   "source": [
    "# Create the model quality monitoring object\n",
    "bids_model_quality_monitor = ModelQualityMonitor(\n",
    "    role=role,\n",
    "    instance_count=1,\n",
    "    instance_type=\"ml.m5.xlarge\",\n",
    "    volume_size_in_gb=20,\n",
    "    max_runtime_in_seconds=1800,\n",
    "    sagemaker_session=sess,\n",
    ")"
   ]
  },
  {
   "cell_type": "code",
   "execution_count": 92,
   "id": "133385ed-c392-49ac-9185-5608e52dbb5d",
   "metadata": {
    "tags": []
   },
   "outputs": [],
   "source": [
    "# Name of the model quality baseline job\n",
    "baseline_job_name = f\"xgb-bids-model-baseline-job-{datetime.utcnow():%Y-%m-%d-%H%M}\""
   ]
  },
  {
   "cell_type": "code",
   "execution_count": 93,
   "id": "1ca37f5c-aed9-48fa-91be-314ba8293bda",
   "metadata": {
    "tags": []
   },
   "outputs": [
    {
     "name": "stderr",
     "output_type": "stream",
     "text": [
      "INFO:sagemaker:Creating processing-job with name xgb-bids-model-baseline-job-2024-06-17-2333\n"
     ]
    },
    {
     "name": "stdout",
     "output_type": "stream",
     "text": [
      "...........................................................!"
     ]
    }
   ],
   "source": [
    "# Execute the baseline suggestion job.\n",
    "job = bids_model_quality_monitor.suggest_baseline(\n",
    "    job_name=baseline_job_name,\n",
    "    baseline_dataset=baseline_dataset_uri,\n",
    "    dataset_format=DatasetFormat.csv(header=True),\n",
    "    output_s3_uri=baseline_results_uri,\n",
    "    problem_type=\"BinaryClassification\",\n",
    "    inference_attribute=\"prediction\",\n",
    "    probability_attribute=\"probability\",\n",
    "    ground_truth_attribute=\"label\",\n",
    ")\n",
    "job.wait(logs=False)"
   ]
  },
  {
   "cell_type": "code",
   "execution_count": 94,
   "id": "8fc6389c-23c4-4248-b987-0dd13e8bfd94",
   "metadata": {
    "tags": []
   },
   "outputs": [],
   "source": [
    "baseline_job = bids_model_quality_monitor.latest_baselining_job"
   ]
  },
  {
   "cell_type": "code",
   "execution_count": 95,
   "id": "5c7bb45d-62eb-4cd9-bd0c-b05937ce83ff",
   "metadata": {
    "tags": []
   },
   "outputs": [
    {
     "data": {
      "text/html": [
       "<div>\n",
       "<style scoped>\n",
       "    .dataframe tbody tr th:only-of-type {\n",
       "        vertical-align: middle;\n",
       "    }\n",
       "\n",
       "    .dataframe tbody tr th {\n",
       "        vertical-align: top;\n",
       "    }\n",
       "\n",
       "    .dataframe thead th {\n",
       "        text-align: right;\n",
       "    }\n",
       "</style>\n",
       "<table border=\"1\" class=\"dataframe\">\n",
       "  <thead>\n",
       "    <tr style=\"text-align: right;\">\n",
       "      <th></th>\n",
       "      <th>0</th>\n",
       "    </tr>\n",
       "  </thead>\n",
       "  <tbody>\n",
       "    <tr>\n",
       "      <th>confusion_matrix.0.0</th>\n",
       "      <td>193</td>\n",
       "    </tr>\n",
       "    <tr>\n",
       "      <th>confusion_matrix.0.1</th>\n",
       "      <td>0</td>\n",
       "    </tr>\n",
       "    <tr>\n",
       "      <th>confusion_matrix.1.0</th>\n",
       "      <td>4</td>\n",
       "    </tr>\n",
       "    <tr>\n",
       "      <th>confusion_matrix.1.1</th>\n",
       "      <td>4</td>\n",
       "    </tr>\n",
       "    <tr>\n",
       "      <th>recall.value</th>\n",
       "      <td>0.5</td>\n",
       "    </tr>\n",
       "    <tr>\n",
       "      <th>recall.standard_deviation</th>\n",
       "      <td>0.05466</td>\n",
       "    </tr>\n",
       "    <tr>\n",
       "      <th>precision.value</th>\n",
       "      <td>1.0</td>\n",
       "    </tr>\n",
       "    <tr>\n",
       "      <th>precision.standard_deviation</th>\n",
       "      <td>0.0</td>\n",
       "    </tr>\n",
       "    <tr>\n",
       "      <th>accuracy.value</th>\n",
       "      <td>0.9801</td>\n",
       "    </tr>\n",
       "    <tr>\n",
       "      <th>accuracy.standard_deviation</th>\n",
       "      <td>0.003328</td>\n",
       "    </tr>\n",
       "    <tr>\n",
       "      <th>recall_best_constant_classifier.value</th>\n",
       "      <td>0.0</td>\n",
       "    </tr>\n",
       "    <tr>\n",
       "      <th>recall_best_constant_classifier.standard_deviation</th>\n",
       "      <td>0.0</td>\n",
       "    </tr>\n",
       "    <tr>\n",
       "      <th>precision_best_constant_classifier.value</th>\n",
       "      <td>0.0</td>\n",
       "    </tr>\n",
       "    <tr>\n",
       "      <th>precision_best_constant_classifier.standard_deviation</th>\n",
       "      <td>0.0</td>\n",
       "    </tr>\n",
       "    <tr>\n",
       "      <th>accuracy_best_constant_classifier.value</th>\n",
       "      <td>0.960199</td>\n",
       "    </tr>\n",
       "    <tr>\n",
       "      <th>accuracy_best_constant_classifier.standard_deviation</th>\n",
       "      <td>0.006838</td>\n",
       "    </tr>\n",
       "    <tr>\n",
       "      <th>true_positive_rate.value</th>\n",
       "      <td>0.5</td>\n",
       "    </tr>\n",
       "    <tr>\n",
       "      <th>true_positive_rate.standard_deviation</th>\n",
       "      <td>0.05466</td>\n",
       "    </tr>\n",
       "    <tr>\n",
       "      <th>true_negative_rate.value</th>\n",
       "      <td>1.0</td>\n",
       "    </tr>\n",
       "    <tr>\n",
       "      <th>true_negative_rate.standard_deviation</th>\n",
       "      <td>0.0</td>\n",
       "    </tr>\n",
       "    <tr>\n",
       "      <th>false_positive_rate.value</th>\n",
       "      <td>0.0</td>\n",
       "    </tr>\n",
       "    <tr>\n",
       "      <th>false_positive_rate.standard_deviation</th>\n",
       "      <td>0.0</td>\n",
       "    </tr>\n",
       "    <tr>\n",
       "      <th>false_negative_rate.value</th>\n",
       "      <td>0.5</td>\n",
       "    </tr>\n",
       "    <tr>\n",
       "      <th>false_negative_rate.standard_deviation</th>\n",
       "      <td>0.05466</td>\n",
       "    </tr>\n",
       "    <tr>\n",
       "      <th>receiver_operating_characteristic_curve.false_positive_rates</th>\n",
       "      <td>[0.0, 0.0, 0.0, 0.0, 0.0, 0.0, 0.0051813471502...</td>\n",
       "    </tr>\n",
       "    <tr>\n",
       "      <th>receiver_operating_characteristic_curve.true_positive_rates</th>\n",
       "      <td>[0.0, 0.125, 0.25, 0.375, 0.5, 0.625, 0.625, 0...</td>\n",
       "    </tr>\n",
       "    <tr>\n",
       "      <th>precision_recall_curve.precisions</th>\n",
       "      <td>[1.0, 1.0, 1.0, 1.0, 1.0, 1.0, 0.8333333333333...</td>\n",
       "    </tr>\n",
       "    <tr>\n",
       "      <th>precision_recall_curve.recalls</th>\n",
       "      <td>[0.0, 0.125, 0.25, 0.375, 0.5, 0.625, 0.625, 0...</td>\n",
       "    </tr>\n",
       "    <tr>\n",
       "      <th>auc.value</th>\n",
       "      <td>0.963083</td>\n",
       "    </tr>\n",
       "    <tr>\n",
       "      <th>auc.standard_deviation</th>\n",
       "      <td>0.014966</td>\n",
       "    </tr>\n",
       "    <tr>\n",
       "      <th>au_prc.value</th>\n",
       "      <td>0.818688</td>\n",
       "    </tr>\n",
       "    <tr>\n",
       "      <th>au_prc.standard_deviation</th>\n",
       "      <td>0.044006</td>\n",
       "    </tr>\n",
       "    <tr>\n",
       "      <th>f0_5.value</th>\n",
       "      <td>0.833333</td>\n",
       "    </tr>\n",
       "    <tr>\n",
       "      <th>f0_5.standard_deviation</th>\n",
       "      <td>0.032455</td>\n",
       "    </tr>\n",
       "    <tr>\n",
       "      <th>f1.value</th>\n",
       "      <td>0.666667</td>\n",
       "    </tr>\n",
       "    <tr>\n",
       "      <th>f1.standard_deviation</th>\n",
       "      <td>0.050007</td>\n",
       "    </tr>\n",
       "    <tr>\n",
       "      <th>f2.value</th>\n",
       "      <td>0.555556</td>\n",
       "    </tr>\n",
       "    <tr>\n",
       "      <th>f2.standard_deviation</th>\n",
       "      <td>0.054454</td>\n",
       "    </tr>\n",
       "    <tr>\n",
       "      <th>f0_5_best_constant_classifier.value</th>\n",
       "      <td>0.0</td>\n",
       "    </tr>\n",
       "    <tr>\n",
       "      <th>f0_5_best_constant_classifier.standard_deviation</th>\n",
       "      <td>0.0</td>\n",
       "    </tr>\n",
       "    <tr>\n",
       "      <th>f1_best_constant_classifier.value</th>\n",
       "      <td>0.0</td>\n",
       "    </tr>\n",
       "    <tr>\n",
       "      <th>f1_best_constant_classifier.standard_deviation</th>\n",
       "      <td>0.0</td>\n",
       "    </tr>\n",
       "    <tr>\n",
       "      <th>f2_best_constant_classifier.value</th>\n",
       "      <td>0.0</td>\n",
       "    </tr>\n",
       "    <tr>\n",
       "      <th>f2_best_constant_classifier.standard_deviation</th>\n",
       "      <td>0.0</td>\n",
       "    </tr>\n",
       "  </tbody>\n",
       "</table>\n",
       "</div>"
      ],
      "text/plain": [
       "                                                                                                    0\n",
       "confusion_matrix.0.0                                                                              193\n",
       "confusion_matrix.0.1                                                                                0\n",
       "confusion_matrix.1.0                                                                                4\n",
       "confusion_matrix.1.1                                                                                4\n",
       "recall.value                                                                                      0.5\n",
       "recall.standard_deviation                                                                     0.05466\n",
       "precision.value                                                                                   1.0\n",
       "precision.standard_deviation                                                                      0.0\n",
       "accuracy.value                                                                                 0.9801\n",
       "accuracy.standard_deviation                                                                  0.003328\n",
       "recall_best_constant_classifier.value                                                             0.0\n",
       "recall_best_constant_classifier.standard_deviation                                                0.0\n",
       "precision_best_constant_classifier.value                                                          0.0\n",
       "precision_best_constant_classifier.standard_dev...                                                0.0\n",
       "accuracy_best_constant_classifier.value                                                      0.960199\n",
       "accuracy_best_constant_classifier.standard_devi...                                           0.006838\n",
       "true_positive_rate.value                                                                          0.5\n",
       "true_positive_rate.standard_deviation                                                         0.05466\n",
       "true_negative_rate.value                                                                          1.0\n",
       "true_negative_rate.standard_deviation                                                             0.0\n",
       "false_positive_rate.value                                                                         0.0\n",
       "false_positive_rate.standard_deviation                                                            0.0\n",
       "false_negative_rate.value                                                                         0.5\n",
       "false_negative_rate.standard_deviation                                                        0.05466\n",
       "receiver_operating_characteristic_curve.false_p...  [0.0, 0.0, 0.0, 0.0, 0.0, 0.0, 0.0051813471502...\n",
       "receiver_operating_characteristic_curve.true_po...  [0.0, 0.125, 0.25, 0.375, 0.5, 0.625, 0.625, 0...\n",
       "precision_recall_curve.precisions                   [1.0, 1.0, 1.0, 1.0, 1.0, 1.0, 0.8333333333333...\n",
       "precision_recall_curve.recalls                      [0.0, 0.125, 0.25, 0.375, 0.5, 0.625, 0.625, 0...\n",
       "auc.value                                                                                    0.963083\n",
       "auc.standard_deviation                                                                       0.014966\n",
       "au_prc.value                                                                                 0.818688\n",
       "au_prc.standard_deviation                                                                    0.044006\n",
       "f0_5.value                                                                                   0.833333\n",
       "f0_5.standard_deviation                                                                      0.032455\n",
       "f1.value                                                                                     0.666667\n",
       "f1.standard_deviation                                                                        0.050007\n",
       "f2.value                                                                                     0.555556\n",
       "f2.standard_deviation                                                                        0.054454\n",
       "f0_5_best_constant_classifier.value                                                               0.0\n",
       "f0_5_best_constant_classifier.standard_deviation                                                  0.0\n",
       "f1_best_constant_classifier.value                                                                 0.0\n",
       "f1_best_constant_classifier.standard_deviation                                                    0.0\n",
       "f2_best_constant_classifier.value                                                                 0.0\n",
       "f2_best_constant_classifier.standard_deviation                                                    0.0"
      ]
     },
     "execution_count": 95,
     "metadata": {},
     "output_type": "execute_result"
    }
   ],
   "source": [
    "#See the baseline statistics \n",
    "binary_metrics = baseline_job.baseline_statistics().body_dict[\"binary_classification_metrics\"]\n",
    "pd.json_normalize(binary_metrics).T"
   ]
  },
  {
   "cell_type": "code",
   "execution_count": 96,
   "id": "cd41215f-1323-4c65-8e70-1a177d1b25ee",
   "metadata": {
    "tags": []
   },
   "outputs": [
    {
     "data": {
      "text/html": [
       "<div>\n",
       "<style scoped>\n",
       "    .dataframe tbody tr th:only-of-type {\n",
       "        vertical-align: middle;\n",
       "    }\n",
       "\n",
       "    .dataframe tbody tr th {\n",
       "        vertical-align: top;\n",
       "    }\n",
       "\n",
       "    .dataframe thead th {\n",
       "        text-align: right;\n",
       "    }\n",
       "</style>\n",
       "<table border=\"1\" class=\"dataframe\">\n",
       "  <thead>\n",
       "    <tr style=\"text-align: right;\">\n",
       "      <th></th>\n",
       "      <th>threshold</th>\n",
       "      <th>comparison_operator</th>\n",
       "    </tr>\n",
       "  </thead>\n",
       "  <tbody>\n",
       "    <tr>\n",
       "      <th>recall</th>\n",
       "      <td>0.5</td>\n",
       "      <td>LessThanThreshold</td>\n",
       "    </tr>\n",
       "    <tr>\n",
       "      <th>precision</th>\n",
       "      <td>1.0</td>\n",
       "      <td>LessThanThreshold</td>\n",
       "    </tr>\n",
       "    <tr>\n",
       "      <th>accuracy</th>\n",
       "      <td>0.9801</td>\n",
       "      <td>LessThanThreshold</td>\n",
       "    </tr>\n",
       "    <tr>\n",
       "      <th>true_positive_rate</th>\n",
       "      <td>0.5</td>\n",
       "      <td>LessThanThreshold</td>\n",
       "    </tr>\n",
       "    <tr>\n",
       "      <th>true_negative_rate</th>\n",
       "      <td>1.0</td>\n",
       "      <td>LessThanThreshold</td>\n",
       "    </tr>\n",
       "    <tr>\n",
       "      <th>false_positive_rate</th>\n",
       "      <td>0.0</td>\n",
       "      <td>GreaterThanThreshold</td>\n",
       "    </tr>\n",
       "    <tr>\n",
       "      <th>false_negative_rate</th>\n",
       "      <td>0.5</td>\n",
       "      <td>GreaterThanThreshold</td>\n",
       "    </tr>\n",
       "    <tr>\n",
       "      <th>auc</th>\n",
       "      <td>0.963083</td>\n",
       "      <td>LessThanThreshold</td>\n",
       "    </tr>\n",
       "    <tr>\n",
       "      <th>f0_5</th>\n",
       "      <td>0.833333</td>\n",
       "      <td>LessThanThreshold</td>\n",
       "    </tr>\n",
       "    <tr>\n",
       "      <th>f1</th>\n",
       "      <td>0.666667</td>\n",
       "      <td>LessThanThreshold</td>\n",
       "    </tr>\n",
       "    <tr>\n",
       "      <th>f2</th>\n",
       "      <td>0.555556</td>\n",
       "      <td>LessThanThreshold</td>\n",
       "    </tr>\n",
       "  </tbody>\n",
       "</table>\n",
       "</div>"
      ],
      "text/plain": [
       "                    threshold   comparison_operator\n",
       "recall                    0.5     LessThanThreshold\n",
       "precision                 1.0     LessThanThreshold\n",
       "accuracy               0.9801     LessThanThreshold\n",
       "true_positive_rate        0.5     LessThanThreshold\n",
       "true_negative_rate        1.0     LessThanThreshold\n",
       "false_positive_rate       0.0  GreaterThanThreshold\n",
       "false_negative_rate       0.5  GreaterThanThreshold\n",
       "auc                  0.963083     LessThanThreshold\n",
       "f0_5                 0.833333     LessThanThreshold\n",
       "f1                   0.666667     LessThanThreshold\n",
       "f2                   0.555556     LessThanThreshold"
      ]
     },
     "execution_count": 96,
     "metadata": {},
     "output_type": "execute_result"
    }
   ],
   "source": [
    "pd.DataFrame(baseline_job.suggested_constraints().body_dict[\"binary_classification_constraints\"]).T"
   ]
  },
  {
   "cell_type": "code",
   "execution_count": 101,
   "id": "1afa5cb5-d6ae-4bd9-a201-cfa65653c2bc",
   "metadata": {},
   "outputs": [],
   "source": [
    "#Generate prediction data\n",
    "def invoke_endpoint(ep_name, file_name):\n",
    "    with open(file_name, \"r\") as f:\n",
    "        i = 0\n",
    "        for row in f:\n",
    "            payload = row.rstrip(\"\\n\")\n",
    "            response = sess.sagemaker_runtime_client.invoke_endpoint(\n",
    "                EndpointName=endpoint_name,\n",
    "                ContentType=\"text/csv\",\n",
    "                Body=payload,\n",
    "                InferenceId=str(i),  # unique ID per row\n",
    "            )[\"Body\"].read()\n",
    "            i += 1\n",
    "            sleep(1)\n",
    "\n",
    "\n",
    "def invoke_endpoint_forever():\n",
    "    while True:\n",
    "        try:\n",
    "            invoke_endpoint(endpoint_name, \"test_data_noID.csv\")\n",
    "        except sess.sagemaker_runtime_client.exceptions.ValidationError:\n",
    "            pass\n",
    "\n",
    "\n",
    "thread = Thread(target=invoke_endpoint_forever)\n",
    "thread.start()"
   ]
  },
  {
   "cell_type": "code",
   "execution_count": 102,
   "id": "5d53078b-805b-4427-a0a2-3bb9bcd667a9",
   "metadata": {},
   "outputs": [],
   "source": [
    "#Generate synthetic ground truth\n",
    "def ground_truth_with_id(inference_id):\n",
    "    random.seed(inference_id)  # to get consistent results\n",
    "    rand = random.random()\n",
    "    return {\n",
    "        \"groundTruthData\": {\n",
    "            \"data\": \"1\" if rand < 0.7 else \"0\",  # randomly generate positive labels 70% of the time\n",
    "            \"encoding\": \"CSV\",\n",
    "        },\n",
    "        \"eventMetadata\": {\n",
    "            \"eventId\": str(inference_id),\n",
    "        },\n",
    "        \"eventVersion\": \"0\",\n",
    "    }\n",
    "\n",
    "\n",
    "def upload_ground_truth(records, upload_time):\n",
    "    fake_records = [json.dumps(r) for r in records]\n",
    "    data_to_upload = \"\\n\".join(fake_records)\n",
    "    target_s3_uri = f\"{ground_truth_upload_path}/{upload_time:%Y/%m/%d/%H/%M%S}.jsonl\"\n",
    "    print(f\"Uploading {len(fake_records)} records to\", target_s3_uri)\n",
    "    S3Uploader.upload_string_as_file_body(data_to_upload, target_s3_uri)"
   ]
  },
  {
   "cell_type": "code",
   "execution_count": 104,
   "id": "9182489d-3cb6-4f87-86d1-c07642b0f2e2",
   "metadata": {},
   "outputs": [
    {
     "name": "stdout",
     "output_type": "stream",
     "text": [
      "Uploading 334 records to s3://sagemaker-us-east-1-385225481548/sagemaker-featurestore/ground_truth_data/2024-06-17-22-25-38/2024/06/17/23/4214.jsonl\n",
      "Uploading 334 records to s3://sagemaker-us-east-1-385225481548/sagemaker-featurestore/ground_truth_data/2024-06-17-22-25-38/2024/06/18/00/4214.jsonl\n"
     ]
    }
   ],
   "source": [
    "NUM_GROUND_TRUTH_RECORDS = 334  # 334 are the number of rows in data we're sending for inference\n",
    "def generate_fake_ground_truth_forever():\n",
    "    j = 0\n",
    "    while True:\n",
    "        fake_records = [ground_truth_with_id(i) for i in range(NUM_GROUND_TRUTH_RECORDS)]\n",
    "        upload_ground_truth(fake_records, datetime.utcnow())\n",
    "        j = (j + 1) % 5\n",
    "        sleep(60 * 60)  # do this once an hour\n",
    "\n",
    "\n",
    "gt_thread = Thread(target=generate_fake_ground_truth_forever)\n",
    "gt_thread.start()"
   ]
  },
  {
   "cell_type": "code",
   "execution_count": 105,
   "id": "dda60c56-4a70-4242-a7f9-cf19dca90d3d",
   "metadata": {},
   "outputs": [],
   "source": [
    "##Monitoring schedule name\n",
    "bids_monitor_schedule_name = (\n",
    "    f\"xgb-bids-monitoring-schedule-{datetime.utcnow():%Y-%m-%d-%H%M}\"\n",
    ")"
   ]
  },
  {
   "cell_type": "code",
   "execution_count": 106,
   "id": "8b615d67-7de1-4c8d-b9f2-fe66e712b549",
   "metadata": {},
   "outputs": [],
   "source": [
    "# Create an enpointInput\n",
    "endpointInput = EndpointInput(\n",
    "    endpoint_name=predictor.endpoint_name,\n",
    "    probability_attribute=\"0\",\n",
    "    probability_threshold_attribute=0.5,\n",
    "    destination=\"/opt/ml/processing/input_data\",\n",
    ")"
   ]
  },
  {
   "cell_type": "code",
   "execution_count": 108,
   "id": "93bfbb0f-2653-4085-80e6-7910321d3fef",
   "metadata": {},
   "outputs": [
    {
     "name": "stderr",
     "output_type": "stream",
     "text": [
      "INFO:sagemaker.model_monitor.model_monitoring:Creating Monitoring Schedule with name: xgb-bids-monitoring-schedule-2024-06-17-2342\n"
     ]
    }
   ],
   "source": [
    "# Create the monitoring schedule to execute every hour.\n",
    "response = bids_model_quality_monitor.create_monitoring_schedule(\n",
    "    monitor_schedule_name=bids_monitor_schedule_name,\n",
    "    endpoint_input=endpointInput,\n",
    "    output_s3_uri=baseline_results_uri,\n",
    "    problem_type=\"BinaryClassification\",\n",
    "    ground_truth_input=ground_truth_upload_path,\n",
    "    constraints=baseline_job.suggested_constraints(),\n",
    "    schedule_cron_expression=CronExpressionGenerator.hourly(),\n",
    "    enable_cloudwatch_metrics=True,\n",
    ")"
   ]
  },
  {
   "cell_type": "code",
   "execution_count": 110,
   "id": "40155fa5-6e23-44ab-909a-85bbc325db0d",
   "metadata": {},
   "outputs": [
    {
     "data": {
      "text/plain": [
       "{'MonitoringScheduleArn': 'arn:aws:sagemaker:us-east-1:385225481548:monitoring-schedule/xgb-bids-monitoring-schedule-2024-06-17-2342',\n",
       " 'MonitoringScheduleName': 'xgb-bids-monitoring-schedule-2024-06-17-2342',\n",
       " 'MonitoringScheduleStatus': 'Scheduled',\n",
       " 'MonitoringType': 'ModelQuality',\n",
       " 'CreationTime': datetime.datetime(2024, 6, 17, 23, 42, 44, 413000, tzinfo=tzlocal()),\n",
       " 'LastModifiedTime': datetime.datetime(2024, 6, 17, 23, 42, 50, 726000, tzinfo=tzlocal()),\n",
       " 'MonitoringScheduleConfig': {'ScheduleConfig': {'ScheduleExpression': 'cron(0 * ? * * *)'},\n",
       "  'MonitoringJobDefinitionName': 'model-quality-job-definition-2024-06-17-23-42-43-829',\n",
       "  'MonitoringType': 'ModelQuality'},\n",
       " 'EndpointName': 'bids-model-monitor-2024-06-17-2226',\n",
       " 'ResponseMetadata': {'RequestId': '0336eaa1-6351-4ca4-b471-cf1107aa4563',\n",
       "  'HTTPStatusCode': 200,\n",
       "  'HTTPHeaders': {'x-amzn-requestid': '0336eaa1-6351-4ca4-b471-cf1107aa4563',\n",
       "   'content-type': 'application/x-amz-json-1.1',\n",
       "   'content-length': '602',\n",
       "   'date': 'Mon, 17 Jun 2024 23:42:54 GMT'},\n",
       "  'RetryAttempts': 0}}"
      ]
     },
     "execution_count": 110,
     "metadata": {},
     "output_type": "execute_result"
    }
   ],
   "source": [
    "# Create the monitoring schedule\n",
    "# You will see the monitoring schedule in the 'Scheduled' status\n",
    "bids_model_quality_monitor.describe_schedule()"
   ]
  },
  {
   "cell_type": "code",
   "execution_count": 112,
   "id": "641827d3-d5ae-43d3-9c18-39a11fe432e6",
   "metadata": {},
   "outputs": [
    {
     "name": "stderr",
     "output_type": "stream",
     "text": [
      "WARNING:sagemaker.model_monitor.model_monitoring:No executions found for schedule. monitoring_schedule_name: xgb-bids-monitoring-schedule-2024-06-17-2342\n"
     ]
    },
    {
     "data": {
      "text/plain": [
       "[]"
      ]
     },
     "execution_count": 112,
     "metadata": {},
     "output_type": "execute_result"
    }
   ],
   "source": [
    "# Initially there will be no executions since the first execution happens at the top of the hour\n",
    "# Note that it is common for the execution to luanch upto 20 min after the hour.\n",
    "executions = bids_model_quality_monitor.list_executions()\n",
    "executions"
   ]
  },
  {
   "cell_type": "code",
   "execution_count": 114,
   "id": "4c4254b4-e255-44b9-90a0-ad4edfd4f7c5",
   "metadata": {},
   "outputs": [
    {
     "name": "stdout",
     "output_type": "stream",
     "text": [
      "Waiting for first execution.................................................................................................................................\n",
      "Execution found!\n"
     ]
    }
   ],
   "source": [
    "# Wait for the first execution of the monitoring_schedule\n",
    "print(\"Waiting for first execution\", end=\"\")\n",
    "while True:\n",
    "    execution = bids_model_quality_monitor.describe_schedule().get(\n",
    "        \"LastMonitoringExecutionSummary\"\n",
    "    )\n",
    "    if execution:\n",
    "        break\n",
    "    print(\".\", end=\"\", flush=True)\n",
    "    sleep(10)\n",
    "print()\n",
    "print(\"Execution found!\")"
   ]
  },
  {
   "cell_type": "code",
   "execution_count": 115,
   "id": "3fab216a-b43c-4fb0-af23-644f1666ba47",
   "metadata": {},
   "outputs": [
    {
     "data": {
      "text/plain": [
       "{'ProcessingInputs': [{'InputName': 'groundtruth_input_1',\n",
       "   'AppManaged': False,\n",
       "   'S3Input': {'S3Uri': 's3://sagemaker-us-east-1-385225481548/sagemaker-featurestore/ground_truth_data/2024-06-17-22-25-38/2024/06/17/23',\n",
       "    'LocalPath': '/opt/ml/processing/groundtruth/2024/06/17/23',\n",
       "    'S3DataType': 'S3Prefix',\n",
       "    'S3InputMode': 'File',\n",
       "    'S3DataDistributionType': 'FullyReplicated',\n",
       "    'S3CompressionType': 'None'}},\n",
       "  {'InputName': 'endpoint_input_1',\n",
       "   'AppManaged': False,\n",
       "   'S3Input': {'S3Uri': 's3://sagemaker-us-east-1-385225481548/sagemaker-featurestore/datacapture/bids-model-monitor-2024-06-17-2226/AllTraffic/2024/06/17/23',\n",
       "    'LocalPath': '/opt/ml/processing/input_data/bids-model-monitor-2024-06-17-2226/AllTraffic/2024/06/17/23',\n",
       "    'S3DataType': 'S3Prefix',\n",
       "    'S3InputMode': 'File',\n",
       "    'S3DataDistributionType': 'FullyReplicated',\n",
       "    'S3CompressionType': 'None'}}],\n",
       " 'ProcessingOutputConfig': {'Outputs': [{'OutputName': 'result',\n",
       "    'S3Output': {'S3Uri': 's3://sagemaker-us-east-1-385225481548/sagemaker-featurestore/baselining/results/merge',\n",
       "     'LocalPath': '/opt/ml/processing/output',\n",
       "     'S3UploadMode': 'EndOfJob'},\n",
       "    'AppManaged': False}]},\n",
       " 'ProcessingJobName': 'groundtruth-merge-202406180000-846dd3c19ac54059056855b8',\n",
       " 'ProcessingResources': {'ClusterConfig': {'InstanceCount': 1,\n",
       "   'InstanceType': 'ml.m5.xlarge',\n",
       "   'VolumeSizeInGB': 20}},\n",
       " 'StoppingCondition': {'MaxRuntimeInSeconds': 1800},\n",
       " 'AppSpecification': {'ImageUri': '156813124566.dkr.ecr.us-east-1.amazonaws.com/sagemaker-model-monitor-groundtruth-merger'},\n",
       " 'Environment': {'dataset_format': '{\"sagemakerCaptureJson\":{\"captureIndexNames\":null}}',\n",
       "  'dataset_source': '/opt/ml/processing/input_data',\n",
       "  'end_time': '2024-06-18T00:00:00Z',\n",
       "  'ground_truth_source': '/opt/ml/processing/groundtruth',\n",
       "  'monitoring_input_type': 'ENDPOINT_INPUT',\n",
       "  'output_path': '/opt/ml/processing/output',\n",
       "  'start_time': '2024-06-17T23:00:00Z'},\n",
       " 'RoleArn': 'arn:aws:iam::385225481548:role/LabRole',\n",
       " 'ProcessingJobArn': 'arn:aws:sagemaker:us-east-1:385225481548:processing-job/groundtruth-merge-202406180000-846dd3c19ac54059056855b8',\n",
       " 'ProcessingJobStatus': 'InProgress',\n",
       " 'LastModifiedTime': datetime.datetime(2024, 6, 18, 0, 17, 13, 955000, tzinfo=tzlocal()),\n",
       " 'CreationTime': datetime.datetime(2024, 6, 18, 0, 17, 3, 59000, tzinfo=tzlocal()),\n",
       " 'MonitoringScheduleArn': 'arn:aws:sagemaker:us-east-1:385225481548:monitoring-schedule/xgb-bids-monitoring-schedule-2024-06-17-2342',\n",
       " 'ResponseMetadata': {'RequestId': '36a7c97b-ca3d-4a93-b939-954f3d98aaa7',\n",
       "  'HTTPStatusCode': 200,\n",
       "  'HTTPHeaders': {'x-amzn-requestid': '36a7c97b-ca3d-4a93-b939-954f3d98aaa7',\n",
       "   'content-type': 'application/x-amz-json-1.1',\n",
       "   'content-length': '2195',\n",
       "   'date': 'Tue, 18 Jun 2024 00:17:22 GMT'},\n",
       "  'RetryAttempts': 0}}"
      ]
     },
     "execution_count": 115,
     "metadata": {},
     "output_type": "execute_result"
    }
   ],
   "source": [
    "while not executions:\n",
    "    executions = bids_model_quality_monitor.list_executions()\n",
    "    sleep(10)\n",
    "latest_execution = executions[-1]\n",
    "latest_execution.describe()"
   ]
  },
  {
   "cell_type": "code",
   "execution_count": 117,
   "id": "5f3c5731-cf9c-443c-9c75-42e26f0c5257",
   "metadata": {},
   "outputs": [
    {
     "name": "stdout",
     "output_type": "stream",
     "text": [
      "Waiting for execution to finish!\n",
      "groundtruth-merge-202406180000-846dd3c19ac54059056855b8 job status: Completed\n",
      "groundtruth-merge-202406180000-846dd3c19ac54059056855b8 job exit message, if any: None\n",
      "groundtruth-merge-202406180000-846dd3c19ac54059056855b8 job failure reason, if any: None\n",
      "Waiting for execution to finish....................!\n",
      "model-quality-monitoring-202406180000-846dd3c19ac54059056855b8 job status: Completed\n",
      "model-quality-monitoring-202406180000-846dd3c19ac54059056855b8 job exit message, if any: CompletedWithViolations: Job completed successfully with 10 violations.\n",
      "model-quality-monitoring-202406180000-846dd3c19ac54059056855b8 job failure reason, if any: None\n",
      "Execution status is: CompletedWithViolations\n",
      "{'MonitoringScheduleName': 'xgb-bids-monitoring-schedule-2024-06-17-2342', 'ScheduledTime': datetime.datetime(2024, 6, 18, 0, 0, tzinfo=tzlocal()), 'CreationTime': datetime.datetime(2024, 6, 18, 0, 5, 1, 419000, tzinfo=tzlocal()), 'LastModifiedTime': datetime.datetime(2024, 6, 18, 0, 30, 28, 284000, tzinfo=tzlocal()), 'MonitoringExecutionStatus': 'CompletedWithViolations', 'ProcessingJobArn': 'arn:aws:sagemaker:us-east-1:385225481548:processing-job/model-quality-monitoring-202406180000-846dd3c19ac54059056855b8', 'EndpointName': 'bids-model-monitor-2024-06-17-2226'}\n",
      "====STOP==== \n",
      " No completed executions to inspect further. Please wait till an execution completes or investigate previously reported failures.\n"
     ]
    }
   ],
   "source": [
    "status = execution[\"MonitoringExecutionStatus\"]\n",
    "\n",
    "while status in [\"Pending\", \"InProgress\"]:\n",
    "    print(\"Waiting for execution to finish\", end=\"\")\n",
    "    latest_execution.wait(logs=False)\n",
    "    latest_job = latest_execution.describe()\n",
    "    print()\n",
    "    print(f\"{latest_job['ProcessingJobName']} job status:\", latest_job[\"ProcessingJobStatus\"])\n",
    "    print(\n",
    "        f\"{latest_job['ProcessingJobName']} job exit message, if any:\",\n",
    "        latest_job.get(\"ExitMessage\"),\n",
    "    )\n",
    "    print(\n",
    "        f\"{latest_job['ProcessingJobName']} job failure reason, if any:\",\n",
    "        latest_job.get(\"FailureReason\"),\n",
    "    )\n",
    "    sleep(\n",
    "        30\n",
    "    )  # model quality executions consist of two Processing jobs, wait for second job to start\n",
    "    latest_execution = bids_model_quality_monitor.list_executions()[-1]\n",
    "    execution = bids_model_quality_monitor.describe_schedule()[\"LastMonitoringExecutionSummary\"]\n",
    "    status = execution[\"MonitoringExecutionStatus\"]\n",
    "\n",
    "print(\"Execution status is:\", status)\n",
    "\n",
    "if status != \"Completed\":\n",
    "    print(execution)\n",
    "    print(\n",
    "        \"====STOP==== \\n No completed executions to inspect further. Please wait till an execution completes or investigate previously reported failures.\"\n",
    "    )"
   ]
  },
  {
   "cell_type": "code",
   "execution_count": 118,
   "id": "9421c772-357e-4272-89d0-6f447f6d8d80",
   "metadata": {},
   "outputs": [
    {
     "name": "stdout",
     "output_type": "stream",
     "text": [
      "Report Uri: s3://sagemaker-us-east-1-385225481548/sagemaker-featurestore/baselining/results/bids-model-monitor-2024-06-17-2226/xgb-bids-monitoring-schedule-2024-06-17-2342/2024/06/18/00\n"
     ]
    }
   ],
   "source": [
    "latest_execution = bids_model_quality_monitor.list_executions()[-1]\n",
    "report_uri = latest_execution.describe()[\"ProcessingOutputConfig\"][\"Outputs\"][0][\"S3Output\"][\n",
    "    \"S3Uri\"\n",
    "]\n",
    "print(\"Report Uri:\", report_uri)"
   ]
  },
  {
   "cell_type": "code",
   "execution_count": null,
   "id": "66f806ae-fa1b-46db-aba7-87e9d4e0b20e",
   "metadata": {
    "tags": []
   },
   "outputs": [],
   "source": [
    "# Create CloudWatch client\n",
    "cw_client = boto3.Session().client(\"cloudwatch\")\n",
    "\n",
    "namespace = \"aws/sagemaker/Endpoints/model-metrics\"\n",
    "\n",
    "cw_dimensions = [\n",
    "    {\"Name\": \"Endpoint\", \"Value\": endpoint_name},\n",
    "    {\"Name\": \"MonitoringSchedule\", \"Value\": bids_monitor_schedule_name},\n",
    "]"
   ]
  },
  {
   "cell_type": "code",
   "execution_count": null,
   "id": "7a25299e-66d2-49e8-a970-b05cb8b218ae",
   "metadata": {},
   "outputs": [],
   "source": [
    "# List metrics through the pagination interface\n",
    "paginator = cw_client.get_paginator(\"list_metrics\")\n",
    "\n",
    "for response in paginator.paginate(Dimensions=cw_dimensions, Namespace=namespace):\n",
    "    model_quality_metrics = response[\"Metrics\"]\n",
    "    for metric in model_quality_metrics:\n",
    "        print(metric[\"MetricName\"])"
   ]
  },
  {
   "cell_type": "markdown",
   "id": "6607fee9-f355-4bab-a898-51cdf2c0da26",
   "metadata": {},
   "source": [
    "# Data Quality Monitor"
   ]
  },
  {
   "cell_type": "code",
   "execution_count": null,
   "id": "1b50dac7-a017-432e-9eae-fd29c2cb1e41",
   "metadata": {},
   "outputs": [],
   "source": []
  },
  {
   "cell_type": "markdown",
   "id": "99633e59-64d7-40e7-9fd9-b50ef8752623",
   "metadata": {},
   "source": [
    "# Cleanup Resources"
   ]
  },
  {
   "cell_type": "code",
   "execution_count": null,
   "id": "831fd453-a8ff-4846-bc86-c2e226c07103",
   "metadata": {},
   "outputs": [],
   "source": [
    "churn_model_quality_monitor.delete_monitoring_schedule()\n",
    "sleep(60)  # actually wait for the deletion"
   ]
  },
  {
   "cell_type": "code",
   "execution_count": null,
   "id": "300b6588-4037-40a0-9727-e7cf86b38550",
   "metadata": {},
   "outputs": [],
   "source": [
    "predictor.delete_model()\n",
    "predictor.delete_endpoint()"
   ]
  },
  {
   "cell_type": "code",
   "execution_count": null,
   "id": "9b5a8aed-15f3-423c-aba5-825300e49b1b",
   "metadata": {},
   "outputs": [],
   "source": [
    "invoke_endpoint_thread.terminate()\n",
    "ground_truth_thread.terminate()"
   ]
  },
  {
   "cell_type": "code",
   "execution_count": null,
   "id": "c79980c5-3434-4ed9-b966-bb0254630165",
   "metadata": {
    "tags": []
   },
   "outputs": [],
   "source": [
    "train_feature_group.delete()\n",
    "test_feature_group.delete()\n",
    "sagemaker.delete_endpoint(EndpointName=endpoint_name)"
   ]
  },
  {
   "cell_type": "markdown",
   "id": "a7a7f116-55bf-4602-b4e3-d1a80d9c9f8d",
   "metadata": {},
   "source": [
    "# References"
   ]
  },
  {
   "cell_type": "code",
   "execution_count": null,
   "id": "06e3f311-19a2-4c8c-be54-63ce3e2e226d",
   "metadata": {},
   "outputs": [],
   "source": [
    "https://sagemaker-examples.readthedocs.io/en/latest/sagemaker_model_monitor/model_quality/model_quality_churn_sdk.html#3.1-Execute-predictions-using-the-validation-dataset."
   ]
  },
  {
   "cell_type": "code",
   "execution_count": null,
   "id": "abea8067-5d49-44d5-928a-b1c4ef15d503",
   "metadata": {},
   "outputs": [],
   "source": []
  }
 ],
 "metadata": {
  "availableInstances": [
   {
    "_defaultOrder": 0,
    "_isFastLaunch": true,
    "category": "General purpose",
    "gpuNum": 0,
    "hideHardwareSpecs": false,
    "memoryGiB": 4,
    "name": "ml.t3.medium",
    "vcpuNum": 2
   },
   {
    "_defaultOrder": 1,
    "_isFastLaunch": false,
    "category": "General purpose",
    "gpuNum": 0,
    "hideHardwareSpecs": false,
    "memoryGiB": 8,
    "name": "ml.t3.large",
    "vcpuNum": 2
   },
   {
    "_defaultOrder": 2,
    "_isFastLaunch": false,
    "category": "General purpose",
    "gpuNum": 0,
    "hideHardwareSpecs": false,
    "memoryGiB": 16,
    "name": "ml.t3.xlarge",
    "vcpuNum": 4
   },
   {
    "_defaultOrder": 3,
    "_isFastLaunch": false,
    "category": "General purpose",
    "gpuNum": 0,
    "hideHardwareSpecs": false,
    "memoryGiB": 32,
    "name": "ml.t3.2xlarge",
    "vcpuNum": 8
   },
   {
    "_defaultOrder": 4,
    "_isFastLaunch": true,
    "category": "General purpose",
    "gpuNum": 0,
    "hideHardwareSpecs": false,
    "memoryGiB": 8,
    "name": "ml.m5.large",
    "vcpuNum": 2
   },
   {
    "_defaultOrder": 5,
    "_isFastLaunch": false,
    "category": "General purpose",
    "gpuNum": 0,
    "hideHardwareSpecs": false,
    "memoryGiB": 16,
    "name": "ml.m5.xlarge",
    "vcpuNum": 4
   },
   {
    "_defaultOrder": 6,
    "_isFastLaunch": false,
    "category": "General purpose",
    "gpuNum": 0,
    "hideHardwareSpecs": false,
    "memoryGiB": 32,
    "name": "ml.m5.2xlarge",
    "vcpuNum": 8
   },
   {
    "_defaultOrder": 7,
    "_isFastLaunch": false,
    "category": "General purpose",
    "gpuNum": 0,
    "hideHardwareSpecs": false,
    "memoryGiB": 64,
    "name": "ml.m5.4xlarge",
    "vcpuNum": 16
   },
   {
    "_defaultOrder": 8,
    "_isFastLaunch": false,
    "category": "General purpose",
    "gpuNum": 0,
    "hideHardwareSpecs": false,
    "memoryGiB": 128,
    "name": "ml.m5.8xlarge",
    "vcpuNum": 32
   },
   {
    "_defaultOrder": 9,
    "_isFastLaunch": false,
    "category": "General purpose",
    "gpuNum": 0,
    "hideHardwareSpecs": false,
    "memoryGiB": 192,
    "name": "ml.m5.12xlarge",
    "vcpuNum": 48
   },
   {
    "_defaultOrder": 10,
    "_isFastLaunch": false,
    "category": "General purpose",
    "gpuNum": 0,
    "hideHardwareSpecs": false,
    "memoryGiB": 256,
    "name": "ml.m5.16xlarge",
    "vcpuNum": 64
   },
   {
    "_defaultOrder": 11,
    "_isFastLaunch": false,
    "category": "General purpose",
    "gpuNum": 0,
    "hideHardwareSpecs": false,
    "memoryGiB": 384,
    "name": "ml.m5.24xlarge",
    "vcpuNum": 96
   },
   {
    "_defaultOrder": 12,
    "_isFastLaunch": false,
    "category": "General purpose",
    "gpuNum": 0,
    "hideHardwareSpecs": false,
    "memoryGiB": 8,
    "name": "ml.m5d.large",
    "vcpuNum": 2
   },
   {
    "_defaultOrder": 13,
    "_isFastLaunch": false,
    "category": "General purpose",
    "gpuNum": 0,
    "hideHardwareSpecs": false,
    "memoryGiB": 16,
    "name": "ml.m5d.xlarge",
    "vcpuNum": 4
   },
   {
    "_defaultOrder": 14,
    "_isFastLaunch": false,
    "category": "General purpose",
    "gpuNum": 0,
    "hideHardwareSpecs": false,
    "memoryGiB": 32,
    "name": "ml.m5d.2xlarge",
    "vcpuNum": 8
   },
   {
    "_defaultOrder": 15,
    "_isFastLaunch": false,
    "category": "General purpose",
    "gpuNum": 0,
    "hideHardwareSpecs": false,
    "memoryGiB": 64,
    "name": "ml.m5d.4xlarge",
    "vcpuNum": 16
   },
   {
    "_defaultOrder": 16,
    "_isFastLaunch": false,
    "category": "General purpose",
    "gpuNum": 0,
    "hideHardwareSpecs": false,
    "memoryGiB": 128,
    "name": "ml.m5d.8xlarge",
    "vcpuNum": 32
   },
   {
    "_defaultOrder": 17,
    "_isFastLaunch": false,
    "category": "General purpose",
    "gpuNum": 0,
    "hideHardwareSpecs": false,
    "memoryGiB": 192,
    "name": "ml.m5d.12xlarge",
    "vcpuNum": 48
   },
   {
    "_defaultOrder": 18,
    "_isFastLaunch": false,
    "category": "General purpose",
    "gpuNum": 0,
    "hideHardwareSpecs": false,
    "memoryGiB": 256,
    "name": "ml.m5d.16xlarge",
    "vcpuNum": 64
   },
   {
    "_defaultOrder": 19,
    "_isFastLaunch": false,
    "category": "General purpose",
    "gpuNum": 0,
    "hideHardwareSpecs": false,
    "memoryGiB": 384,
    "name": "ml.m5d.24xlarge",
    "vcpuNum": 96
   },
   {
    "_defaultOrder": 20,
    "_isFastLaunch": false,
    "category": "General purpose",
    "gpuNum": 0,
    "hideHardwareSpecs": true,
    "memoryGiB": 0,
    "name": "ml.geospatial.interactive",
    "supportedImageNames": [
     "sagemaker-geospatial-v1-0"
    ],
    "vcpuNum": 0
   },
   {
    "_defaultOrder": 21,
    "_isFastLaunch": true,
    "category": "Compute optimized",
    "gpuNum": 0,
    "hideHardwareSpecs": false,
    "memoryGiB": 4,
    "name": "ml.c5.large",
    "vcpuNum": 2
   },
   {
    "_defaultOrder": 22,
    "_isFastLaunch": false,
    "category": "Compute optimized",
    "gpuNum": 0,
    "hideHardwareSpecs": false,
    "memoryGiB": 8,
    "name": "ml.c5.xlarge",
    "vcpuNum": 4
   },
   {
    "_defaultOrder": 23,
    "_isFastLaunch": false,
    "category": "Compute optimized",
    "gpuNum": 0,
    "hideHardwareSpecs": false,
    "memoryGiB": 16,
    "name": "ml.c5.2xlarge",
    "vcpuNum": 8
   },
   {
    "_defaultOrder": 24,
    "_isFastLaunch": false,
    "category": "Compute optimized",
    "gpuNum": 0,
    "hideHardwareSpecs": false,
    "memoryGiB": 32,
    "name": "ml.c5.4xlarge",
    "vcpuNum": 16
   },
   {
    "_defaultOrder": 25,
    "_isFastLaunch": false,
    "category": "Compute optimized",
    "gpuNum": 0,
    "hideHardwareSpecs": false,
    "memoryGiB": 72,
    "name": "ml.c5.9xlarge",
    "vcpuNum": 36
   },
   {
    "_defaultOrder": 26,
    "_isFastLaunch": false,
    "category": "Compute optimized",
    "gpuNum": 0,
    "hideHardwareSpecs": false,
    "memoryGiB": 96,
    "name": "ml.c5.12xlarge",
    "vcpuNum": 48
   },
   {
    "_defaultOrder": 27,
    "_isFastLaunch": false,
    "category": "Compute optimized",
    "gpuNum": 0,
    "hideHardwareSpecs": false,
    "memoryGiB": 144,
    "name": "ml.c5.18xlarge",
    "vcpuNum": 72
   },
   {
    "_defaultOrder": 28,
    "_isFastLaunch": false,
    "category": "Compute optimized",
    "gpuNum": 0,
    "hideHardwareSpecs": false,
    "memoryGiB": 192,
    "name": "ml.c5.24xlarge",
    "vcpuNum": 96
   },
   {
    "_defaultOrder": 29,
    "_isFastLaunch": true,
    "category": "Accelerated computing",
    "gpuNum": 1,
    "hideHardwareSpecs": false,
    "memoryGiB": 16,
    "name": "ml.g4dn.xlarge",
    "vcpuNum": 4
   },
   {
    "_defaultOrder": 30,
    "_isFastLaunch": false,
    "category": "Accelerated computing",
    "gpuNum": 1,
    "hideHardwareSpecs": false,
    "memoryGiB": 32,
    "name": "ml.g4dn.2xlarge",
    "vcpuNum": 8
   },
   {
    "_defaultOrder": 31,
    "_isFastLaunch": false,
    "category": "Accelerated computing",
    "gpuNum": 1,
    "hideHardwareSpecs": false,
    "memoryGiB": 64,
    "name": "ml.g4dn.4xlarge",
    "vcpuNum": 16
   },
   {
    "_defaultOrder": 32,
    "_isFastLaunch": false,
    "category": "Accelerated computing",
    "gpuNum": 1,
    "hideHardwareSpecs": false,
    "memoryGiB": 128,
    "name": "ml.g4dn.8xlarge",
    "vcpuNum": 32
   },
   {
    "_defaultOrder": 33,
    "_isFastLaunch": false,
    "category": "Accelerated computing",
    "gpuNum": 4,
    "hideHardwareSpecs": false,
    "memoryGiB": 192,
    "name": "ml.g4dn.12xlarge",
    "vcpuNum": 48
   },
   {
    "_defaultOrder": 34,
    "_isFastLaunch": false,
    "category": "Accelerated computing",
    "gpuNum": 1,
    "hideHardwareSpecs": false,
    "memoryGiB": 256,
    "name": "ml.g4dn.16xlarge",
    "vcpuNum": 64
   },
   {
    "_defaultOrder": 35,
    "_isFastLaunch": false,
    "category": "Accelerated computing",
    "gpuNum": 1,
    "hideHardwareSpecs": false,
    "memoryGiB": 61,
    "name": "ml.p3.2xlarge",
    "vcpuNum": 8
   },
   {
    "_defaultOrder": 36,
    "_isFastLaunch": false,
    "category": "Accelerated computing",
    "gpuNum": 4,
    "hideHardwareSpecs": false,
    "memoryGiB": 244,
    "name": "ml.p3.8xlarge",
    "vcpuNum": 32
   },
   {
    "_defaultOrder": 37,
    "_isFastLaunch": false,
    "category": "Accelerated computing",
    "gpuNum": 8,
    "hideHardwareSpecs": false,
    "memoryGiB": 488,
    "name": "ml.p3.16xlarge",
    "vcpuNum": 64
   },
   {
    "_defaultOrder": 38,
    "_isFastLaunch": false,
    "category": "Accelerated computing",
    "gpuNum": 8,
    "hideHardwareSpecs": false,
    "memoryGiB": 768,
    "name": "ml.p3dn.24xlarge",
    "vcpuNum": 96
   },
   {
    "_defaultOrder": 39,
    "_isFastLaunch": false,
    "category": "Memory Optimized",
    "gpuNum": 0,
    "hideHardwareSpecs": false,
    "memoryGiB": 16,
    "name": "ml.r5.large",
    "vcpuNum": 2
   },
   {
    "_defaultOrder": 40,
    "_isFastLaunch": false,
    "category": "Memory Optimized",
    "gpuNum": 0,
    "hideHardwareSpecs": false,
    "memoryGiB": 32,
    "name": "ml.r5.xlarge",
    "vcpuNum": 4
   },
   {
    "_defaultOrder": 41,
    "_isFastLaunch": false,
    "category": "Memory Optimized",
    "gpuNum": 0,
    "hideHardwareSpecs": false,
    "memoryGiB": 64,
    "name": "ml.r5.2xlarge",
    "vcpuNum": 8
   },
   {
    "_defaultOrder": 42,
    "_isFastLaunch": false,
    "category": "Memory Optimized",
    "gpuNum": 0,
    "hideHardwareSpecs": false,
    "memoryGiB": 128,
    "name": "ml.r5.4xlarge",
    "vcpuNum": 16
   },
   {
    "_defaultOrder": 43,
    "_isFastLaunch": false,
    "category": "Memory Optimized",
    "gpuNum": 0,
    "hideHardwareSpecs": false,
    "memoryGiB": 256,
    "name": "ml.r5.8xlarge",
    "vcpuNum": 32
   },
   {
    "_defaultOrder": 44,
    "_isFastLaunch": false,
    "category": "Memory Optimized",
    "gpuNum": 0,
    "hideHardwareSpecs": false,
    "memoryGiB": 384,
    "name": "ml.r5.12xlarge",
    "vcpuNum": 48
   },
   {
    "_defaultOrder": 45,
    "_isFastLaunch": false,
    "category": "Memory Optimized",
    "gpuNum": 0,
    "hideHardwareSpecs": false,
    "memoryGiB": 512,
    "name": "ml.r5.16xlarge",
    "vcpuNum": 64
   },
   {
    "_defaultOrder": 46,
    "_isFastLaunch": false,
    "category": "Memory Optimized",
    "gpuNum": 0,
    "hideHardwareSpecs": false,
    "memoryGiB": 768,
    "name": "ml.r5.24xlarge",
    "vcpuNum": 96
   },
   {
    "_defaultOrder": 47,
    "_isFastLaunch": false,
    "category": "Accelerated computing",
    "gpuNum": 1,
    "hideHardwareSpecs": false,
    "memoryGiB": 16,
    "name": "ml.g5.xlarge",
    "vcpuNum": 4
   },
   {
    "_defaultOrder": 48,
    "_isFastLaunch": false,
    "category": "Accelerated computing",
    "gpuNum": 1,
    "hideHardwareSpecs": false,
    "memoryGiB": 32,
    "name": "ml.g5.2xlarge",
    "vcpuNum": 8
   },
   {
    "_defaultOrder": 49,
    "_isFastLaunch": false,
    "category": "Accelerated computing",
    "gpuNum": 1,
    "hideHardwareSpecs": false,
    "memoryGiB": 64,
    "name": "ml.g5.4xlarge",
    "vcpuNum": 16
   },
   {
    "_defaultOrder": 50,
    "_isFastLaunch": false,
    "category": "Accelerated computing",
    "gpuNum": 1,
    "hideHardwareSpecs": false,
    "memoryGiB": 128,
    "name": "ml.g5.8xlarge",
    "vcpuNum": 32
   },
   {
    "_defaultOrder": 51,
    "_isFastLaunch": false,
    "category": "Accelerated computing",
    "gpuNum": 1,
    "hideHardwareSpecs": false,
    "memoryGiB": 256,
    "name": "ml.g5.16xlarge",
    "vcpuNum": 64
   },
   {
    "_defaultOrder": 52,
    "_isFastLaunch": false,
    "category": "Accelerated computing",
    "gpuNum": 4,
    "hideHardwareSpecs": false,
    "memoryGiB": 192,
    "name": "ml.g5.12xlarge",
    "vcpuNum": 48
   },
   {
    "_defaultOrder": 53,
    "_isFastLaunch": false,
    "category": "Accelerated computing",
    "gpuNum": 4,
    "hideHardwareSpecs": false,
    "memoryGiB": 384,
    "name": "ml.g5.24xlarge",
    "vcpuNum": 96
   },
   {
    "_defaultOrder": 54,
    "_isFastLaunch": false,
    "category": "Accelerated computing",
    "gpuNum": 8,
    "hideHardwareSpecs": false,
    "memoryGiB": 768,
    "name": "ml.g5.48xlarge",
    "vcpuNum": 192
   },
   {
    "_defaultOrder": 55,
    "_isFastLaunch": false,
    "category": "Accelerated computing",
    "gpuNum": 8,
    "hideHardwareSpecs": false,
    "memoryGiB": 1152,
    "name": "ml.p4d.24xlarge",
    "vcpuNum": 96
   },
   {
    "_defaultOrder": 56,
    "_isFastLaunch": false,
    "category": "Accelerated computing",
    "gpuNum": 8,
    "hideHardwareSpecs": false,
    "memoryGiB": 1152,
    "name": "ml.p4de.24xlarge",
    "vcpuNum": 96
   },
   {
    "_defaultOrder": 57,
    "_isFastLaunch": false,
    "category": "Accelerated computing",
    "gpuNum": 0,
    "hideHardwareSpecs": false,
    "memoryGiB": 32,
    "name": "ml.trn1.2xlarge",
    "vcpuNum": 8
   },
   {
    "_defaultOrder": 58,
    "_isFastLaunch": false,
    "category": "Accelerated computing",
    "gpuNum": 0,
    "hideHardwareSpecs": false,
    "memoryGiB": 512,
    "name": "ml.trn1.32xlarge",
    "vcpuNum": 128
   },
   {
    "_defaultOrder": 59,
    "_isFastLaunch": false,
    "category": "Accelerated computing",
    "gpuNum": 0,
    "hideHardwareSpecs": false,
    "memoryGiB": 512,
    "name": "ml.trn1n.32xlarge",
    "vcpuNum": 128
   }
  ],
  "instance_type": "ml.t3.medium",
  "kernelspec": {
   "display_name": "Python 3 (Data Science 3.0)",
   "language": "python",
   "name": "python3__SAGEMAKER_INTERNAL__arn:aws:sagemaker:us-east-1:081325390199:image/sagemaker-data-science-310-v1"
  },
  "language_info": {
   "codemirror_mode": {
    "name": "ipython",
    "version": 3
   },
   "file_extension": ".py",
   "mimetype": "text/x-python",
   "name": "python",
   "nbconvert_exporter": "python",
   "pygments_lexer": "ipython3",
   "version": "3.10.6"
  }
 },
 "nbformat": 4,
 "nbformat_minor": 5
}
